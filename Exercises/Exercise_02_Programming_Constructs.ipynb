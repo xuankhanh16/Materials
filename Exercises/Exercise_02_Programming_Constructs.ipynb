{
  "cells": [
    {
      "cell_type": "markdown",
      "metadata": {
        "id": "c1jGQlX2r-om"
      },
      "source": [
        "# Exercise 2\n",
        "\n",
        "Related Notes:\n",
        "- Chapter_01_Data_Types\n",
        "- Chapter_02_Programming_Constructs\n",
        "\n",
        "[![Open In Colab](https://colab.research.google.com/assets/colab-badge.svg)](https://colab.research.google.com/github/njc-cz2-2021/Materials/blob/main/Exercises/Exercise_02_Programming_Constructs.ipynb)"
      ]
    },
    {
      "cell_type": "markdown",
      "metadata": {
        "id": "yJchIn2lr-os"
      },
      "source": [
        "# Exercise 2.1 Unit Converter\n",
        "\n",
        "Write a program that helps the user to convert a given quantity from one unit of (distance, area or volume) measurement to another.\n",
        "\n",
        "The problem:\n",
        "-\tRequest a quantity from the user.\n",
        "-\tHave the user specify if the quantity is a `length`, `area` or `volume`.\n",
        "-\tHave the user select the base unit of measurement from the following list:\n",
        "    - `mm`,\n",
        "    - `cm`,\n",
        "    - `m`, or\n",
        "    - `km`.\n",
        "-\tThen have the user select the desired base unit of measurement that the given quantity should be converted to.\n",
        "-\tPrint out converted quantity (including the new unit of measurement).\n",
        "\n",
        "Example interaction:\n",
        "\n",
        ">``` text\n",
        ">Input a quantity: 10\n",
        ">Select either length, area or volume: area\n",
        ">Select the base unit of measurement (mm, cm, m, km) : m\n",
        ">Select which base unit of measurement to convert to (mm, cm, m, km) : cm\n",
        ">10 m^2 = 100000 cm^2\n",
        ">```"
      ]
    },
    {
      "cell_type": "code",
      "execution_count": null,
      "metadata": {
        "id": "03W69X4Mr-ou"
      },
      "outputs": [],
      "source": [
        "#YOUR CODE HERE"
      ]
    },
    {
      "cell_type": "markdown",
      "metadata": {
        "id": "zVh6xr-Yr-ov"
      },
      "source": [
        "# Exercise 2.2\n",
        "\n",
        "In mathematics, an **arithmetic sequence** is a sequence of real numbers\n",
        "$$u_1,u_2,\\cdots, u_n$$\n",
        "such that the difference between two consecutive terms is constant, i.e. $u_{n+1}-u_n=d$ for some constant $d\\in \\mathbb{R}$, called the **common difference** and $n\\geq 1$.\n",
        "\n",
        "For example, the sequence $2,5,8,11,14,\\dots$ is an arithmetic sequence with first term $2$ and common difference $3$.\n",
        "\n",
        "Write a program to generate the first $n$ terms of an arithmetic sequence with a user defined first term $a$ and common difference $d$.\n",
        "\n",
        "The problem:\n",
        "- Request a numeric input from the user to be used as the first term.  Let us denote this input as `first_term`.\n",
        "- Request a numeric input from the user to be used as the common difference.  Let us denote this input as `common_difference`.\n",
        "- Request an integer input from the user for the number of terms.  Let us denote this input as `number_of_terms`.\n",
        "- Print out the sequence up to the $n$th term.\n",
        "\n",
        "Example interaction:\n",
        "\n",
        ">``` text\n",
        ">Please input the first term in the arithmetic sequence:\n",
        ">2\n",
        ">Please input the common difference:\n",
        ">3\n",
        ">Please input the number of terms:\n",
        ">5\n",
        ">The first 5 terms of the arithmetic sequence are:\n",
        ">2\n",
        ">5\n",
        ">8\n",
        ">11\n",
        ">14\n",
        ">```"
      ]
    },
    {
      "cell_type": "code",
      "execution_count": 7,
      "metadata": {
        "id": "-GQGGXK3r-ow",
        "outputId": "6836d05a-d70d-45d2-e25c-4d95af4d5001",
        "colab": {
          "base_uri": "https://localhost:8080/"
        }
      },
      "outputs": [
        {
          "output_type": "stream",
          "name": "stdout",
          "text": [
            "First term: 2\n",
            "common difference 3\n",
            "no of term: 5\n",
            "the first 5 terms of the sequence are: \n",
            "2\n",
            "5\n",
            "8\n",
            "11\n",
            "14\n"
          ]
        }
      ],
      "source": [
        "firsterm = int(input(\"First term: \"))\n",
        "comdif = int (input(\"common difference \"))\n",
        "terms = int(input(\"no of term: \"))\n",
        "\n",
        "print (f\"the first {terms} terms of the sequence are: \")\n",
        "for i in range (firsterm, firsterm+(terms)*comdif, comdif):\n",
        "  print(i)"
      ]
    },
    {
      "cell_type": "markdown",
      "metadata": {
        "id": "gYWgmpQVr-ox"
      },
      "source": [
        "# Exercise 2.3\n",
        "\n",
        "Given an arithmetic sequence with first term $a$ and common difference $d$.\n",
        "\n",
        "Write a program that:\n",
        "- Request a numeric input from the user to be used as the first term.  Let us denote this input as `first_term`.\n",
        "- Request a numeric input from the user to be used as the common difference.  Let us denote this input as `common_difference`.\n",
        "- Request an integer input from the user for the index for the term in the sequence.  Let us denote this input as `n`.\n",
        "- Print out the $n$th term in the sequence.\n",
        "- Print out the sum of the first $n$ terms in the sequence.\n",
        "\n",
        "Example interaction:\n",
        "\n",
        ">```text\n",
        ">Please input the first term in the arithmetic sequence:\n",
        ">2\n",
        ">Please input the common difference:\n",
        ">3\n",
        ">Please input the index :\n",
        ">5\n",
        ">The 5th term in the sequence is:\n",
        ">14\n",
        ">The sum of the first 5 terms in the sequence is:\n",
        ">40\n",
        ">```"
      ]
    },
    {
      "cell_type": "code",
      "execution_count": 6,
      "metadata": {
        "id": "F1CVgOuAr-ox",
        "outputId": "120fe129-fc1d-4023-ddef-933f1d19cf67",
        "colab": {
          "base_uri": "https://localhost:8080/"
        }
      },
      "outputs": [
        {
          "output_type": "stream",
          "name": "stdout",
          "text": [
            "First term: 2\n",
            "Common difference: 3\n",
            "Number of terms: 5\n",
            "The 5th term of the sequence is:\n",
            "14.0\n",
            "Sum is 40.0\n"
          ]
        }
      ],
      "source": [
        "firsterm = float(input(\"First term: \"))\n",
        "comdif = float(input(\"Common difference: \"))\n",
        "terms = int(input(\"Number of terms: \"))\n",
        "\n",
        "nthterm = firsterm + (terms - 1) * comdif\n",
        "print(f\"The {terms}th term of the sequence is:\\n{nthterm}\")\n",
        "\n",
        "# Correcting the summation part\n",
        "total_sum = 0  # Renamed from `sum`\n",
        "current_term = firsterm  # Start with the first term\n",
        "\n",
        "for _ in range(terms):  # Loop for the number of terms\n",
        "    total_sum += current_term\n",
        "    current_term += comdif  # Move to the next term\n",
        "\n",
        "print(f\"Sum is {total_sum}\")"
      ]
    },
    {
      "cell_type": "markdown",
      "metadata": {
        "id": "JRHpC9M3r-oy"
      },
      "source": [
        "# Exercise 2.4\n",
        "\n",
        "An arithmetic sequence $u_1, u_2, u_3, \\cdots$ is defined by $u_r=3r-1$ for $r\\in \\mathbb{Z}^{+}$. Find the least value of $n$ such that $u_3+u_6+u_9+\\cdots+u_n$ exceeds $1700$, where $n$ is a multiple of 3."
      ]
    },
    {
      "cell_type": "code",
      "execution_count": 9,
      "metadata": {
        "id": "QokMQE_vr-oz",
        "outputId": "6b1e99c5-9811-4380-8946-bd2732494c97",
        "colab": {
          "base_uri": "https://localhost:8080/"
        }
      },
      "outputs": [
        {
          "output_type": "stream",
          "name": "stdout",
          "text": [
            "60\n"
          ]
        }
      ],
      "source": [
        "#YOUR CODE HERE\n",
        "\n",
        "sum = 0\n",
        "r=3\n",
        "while sum<=1700:\n",
        "  ur = 3*r-1\n",
        "  sum += ur\n",
        "  r +=3\n",
        "\n",
        "print(r-3)"
      ]
    },
    {
      "cell_type": "markdown",
      "metadata": {
        "id": "H473RY_Xr-oz"
      },
      "source": [
        "# Exercise 2.5 2012/GCE A-Level/P2/Q4(i) H2 Mathematics\n",
        "\n",
        "On 1 January 2001 Mrs $A$ put \\$100 into a bank account, and on the first day of each subsequent month she put in \\$10 more than in the previous month. Thus on 1 February she put \\$110 into the account and on 1 March she put \\$120 into the account, and so on. The account pays no interest.\n",
        "\n",
        "On what date did the value of Mrs $A$'s account first become greater than $5000?"
      ]
    },
    {
      "cell_type": "code",
      "execution_count": 12,
      "metadata": {
        "id": "STW2kRSYr-oz",
        "outputId": "110cb2f8-f318-43f3-ae9c-729990cabf01",
        "colab": {
          "base_uri": "https://localhost:8080/"
        }
      },
      "outputs": [
        {
          "output_type": "stream",
          "name": "stdout",
          "text": [
            "24\n",
            "date is 1 Dec 2002\n"
          ]
        }
      ],
      "source": [
        "sum = 0\n",
        "deposit = 100\n",
        "month = 0\n",
        "year = 0\n",
        "while sum <= 5000:\n",
        "  sum = sum + deposit\n",
        "  deposit += 10\n",
        "  month += 1\n",
        "\n",
        "changetomonth = {1: \"Jan\", 2: \"Feb\", 3: \"Mar\", 4:\"Apr\", 5:\"May\", 6:\"Jun\", 7:\"July\", 8:\"Aug\", 9:\"Sept\", 10:\"oct\", 11:\"Nov\", 12:\"Dec\"}\n",
        "\n",
        "print(month)\n",
        "\n",
        "if month>12:\n",
        "  year = (month-1) // 12  #12th month is still in the same year\n",
        "  month = month % 12\n",
        "  if month == 0:\n",
        "    month = 12\n",
        "\n",
        "print(f\"date is 1 {changetomonth[month]} {2001+year}\")"
      ]
    },
    {
      "cell_type": "markdown",
      "metadata": {
        "id": "X4IaqFyor-o0"
      },
      "source": [
        "## Exercise 2.6 Power\n",
        "\n",
        "Write a program that prints out the first $m$ numbers that can be written as a positive integer taken to the power $n$.\n",
        "\n",
        "Example interaction:\n",
        "\n",
        ">``` text\n",
        ">Input the number of terms, m: 5\n",
        ">Input the n-th power: 3\n",
        ">1\n",
        ">8\n",
        ">27\n",
        ">64\n",
        ">125\n",
        ">```"
      ]
    },
    {
      "cell_type": "code",
      "execution_count": 14,
      "metadata": {
        "id": "L_ifVopCr-o0",
        "outputId": "a5775ebe-984d-4f03-9f58-09836e907f85",
        "colab": {
          "base_uri": "https://localhost:8080/"
        }
      },
      "outputs": [
        {
          "output_type": "stream",
          "name": "stdout",
          "text": [
            "number of terms: 5\n",
            "n-th power: 3\n",
            "1\n",
            "8\n",
            "27\n",
            "64\n",
            "125\n"
          ]
        }
      ],
      "source": [
        "terms = int(input(\"number of terms: \"))\n",
        "powerterm = int (input(\"n-th power: \"))\n",
        "for i in range (1, terms+1):\n",
        "  print(i**powerterm)\n"
      ]
    },
    {
      "cell_type": "markdown",
      "metadata": {
        "id": "ssjIGYamr-o0"
      },
      "source": [
        "## Exercise 2.7 Guess The Secret Number\n",
        "\n",
        "Write a program that stores a secret integer in a variable. The user has to guess the secret integer, the program should loop until they get it right.\n",
        "\n",
        "The problem:\n",
        "-   Decide on a secret integer between 1 and 100 inclusive yourself.\n",
        "-\tRequest an integer from the user.\n",
        "-\tif the user inputted a value that is too high, print 'Your number is too high. Try again.' and the program loops\n",
        "-   if the user inputted a value that is too low, print 'Your number is too low. Try again.' and the program loops\n",
        "-   if the user inputted a value that is the same as the secret integer, print 'Congratulations. You guessed correctly.' and the program ends.\n",
        "\n",
        "Example interaction:\n",
        "\n",
        ">``` text\n",
        ">#Secret number is 31\n",
        ">Input a quantity: 37\n",
        ">Your number is too high. Try again.\n",
        ">Input a quantity: 25\n",
        ">Your number is too low. Try again.\n",
        ">Input a quantity: 31\n",
        ">Congratulations. You guessed correctly.\n",
        ">```"
      ]
    },
    {
      "cell_type": "code",
      "execution_count": 19,
      "metadata": {
        "id": "jjl3DJ6Xr-o0",
        "outputId": "28c1d707-37af-42b0-c0d0-1e27f4c1ac0d",
        "colab": {
          "base_uri": "https://localhost:8080/"
        }
      },
      "outputs": [
        {
          "output_type": "stream",
          "name": "stdout",
          "text": [
            "input a quantity: 50\n",
            "guess too low, again\n",
            "input a quantity: 75\n",
            "guess too low, again\n",
            "input a quantity: 87\n",
            "guess to high, again\n",
            "input a quantity: 81\n",
            "guess to high, again\n",
            "input a quantity: 78\n",
            "congrats\n"
          ]
        }
      ],
      "source": [
        "import random\n",
        "\n",
        "secretnumber = random.randint(1, 100) #Inclusive\n",
        "done = True\n",
        "while done:\n",
        "  guess = int(input(\"input a quantity: \"))\n",
        "  if guess > secretnumber:\n",
        "    print(\"guess too high, again\")\n",
        "  elif guess < secretnumber:\n",
        "    print(\"guess too low, again\")\n",
        "  elif guess == secretnumber:\n",
        "    print(\"congrats\")\n",
        "    done = False"
      ]
    },
    {
      "cell_type": "markdown",
      "metadata": {
        "id": "xPshjxdpr-o1"
      },
      "source": [
        "## Exercise 2.8\n",
        "\n",
        "In mathematics, a **geometric sequence** is a sequence of real numbers\n",
        "$$u_1,u_2,\\cdots, u_n$$\n",
        "such that the ratio between two consecutive terms is constant, i.e. $\\frac{u_{n+1}}{u_n}=r$ for some constant $r\\in \\mathbb{R}\\backslash \\{0,1\\}$, called the **common ratio** and $n\\geq 1$.\n",
        "\n",
        "For example, the sequence $2,6,18,54,162,\\dots$ is an geometric sequence with first term $2$ and common ratio $3$.\n",
        "\n",
        "Write a program to generate the first $n$ terms of an geometric sequence with a user defined first term $a$ and common ratio $r$.\n",
        "\n",
        "The problem:\n",
        "- Request a numeric input from the user to be used as the first term.  Let us denote this input as `first_term`.\n",
        "- Request a numeric input from the user to be used as the common difference.  Let us denote this input as `common_ratio`.\n",
        "- Request an integer input from the user for the number of terms.  Let us denote this input as `number_of_terms`.\n",
        "- Print out the sequence up to the $n$th term.\n",
        "\n",
        "Example interaction:\n",
        "\n",
        ">```text\n",
        ">Please input the first term in the geometric sequence:\n",
        ">2\n",
        ">Please input the common ratio:\n",
        ">3\n",
        ">Please input the number of terms:\n",
        ">5\n",
        ">The first 5 terms of the geometric sequence are:\n",
        ">2\n",
        ">6\n",
        ">18\n",
        ">54\n",
        ">162\n",
        ">```"
      ]
    },
    {
      "cell_type": "code",
      "execution_count": 18,
      "metadata": {
        "id": "5YQug-WLr-o1",
        "outputId": "54579f55-ba85-4b6d-89dc-ed2eaa3ebe1c",
        "colab": {
          "base_uri": "https://localhost:8080/"
        }
      },
      "outputs": [
        {
          "output_type": "stream",
          "name": "stdout",
          "text": [
            "number2.5\n",
            "2\n"
          ]
        }
      ],
      "source": [
        "firstterm = int (input(\"first term in sequence: \"))\n",
        "ratio = int(input(\"common ratio: \"))\n",
        "terms = int (input(\"number of terms: \"))\n",
        "\n",
        "print(f\"the first {terms} terms of the geometric sequence are\")\n",
        "for i in range (0, terms):\n",
        "    print(firstterm*(ratio**i))\n",
        "    i += 1"
      ]
    },
    {
      "cell_type": "markdown",
      "metadata": {
        "id": "rGryPdy0r-o1"
      },
      "source": [
        "## Exercise 2.9\n",
        "\n",
        "Given a geometric sequence with first term $a$ and common ratio $r$.\n",
        "\n",
        "Write a program that:\n",
        "- Request a numeric input from the user to be used as the first term.  Let us denote this input as `first_term`.\n",
        "- Request a numeric input from the user to be used as the common difference.  Let us denote this input as `common_ratio`.\n",
        "- Request an integer input from the user for the index for the term in the sequence.  Let us denote this input as `n`.\n",
        "- Print out the $n$th term in the sequence.\n",
        "- Print out the sum of the first $n$ terms in the sequence.\n",
        "\n",
        "Example interaction:\n",
        "\n",
        ">```text\n",
        ">Please input the first term in the geometric sequence:\n",
        ">2\n",
        ">Please input the common ratio:\n",
        ">3\n",
        ">Please input the index :\n",
        ">5\n",
        ">The 5th term in the sequence is:\n",
        ">162\n",
        ">The sum of the first 5 terms in the sequence is:\n",
        ">242\n",
        ">```"
      ]
    },
    {
      "cell_type": "code",
      "execution_count": null,
      "metadata": {
        "id": "2qGe5Y7dr-o1"
      },
      "outputs": [],
      "source": [
        "#YOUR CODE HERE"
      ]
    },
    {
      "cell_type": "markdown",
      "metadata": {
        "id": "kCfBBZRIr-o1"
      },
      "source": [
        "## Exercise 2.10\n",
        "\n",
        "Given a geometric sequence with first term $1$ and common ratio $r$. Find the sum of the first 100 terms of the sequence if:\n",
        "- $r=2$\n",
        "- $r=\\frac{1}{2}$\n",
        "- $r=-3$\n",
        "- $r=-\\frac{5}{6}$\n",
        "- $r=4.1$\n",
        "- $r=0.7$\n",
        "\n",
        "What can you conclude about the relationship between the common ratio of the geometric sequence with the sum of the first $n$ terms of the geometric sequence as $n$ grows larger and larger? i.e., as $n\\rightarrow \\infty$. You might want to try with more values of $r$."
      ]
    },
    {
      "cell_type": "code",
      "execution_count": null,
      "metadata": {
        "id": "IsKs2NTmr-o2"
      },
      "outputs": [],
      "source": [
        "#YOUR CODE HERE\n",
        "\n",
        "arr = [2, 1/2, -3, -5/6, 4.1, 0.7]\n",
        "\n",
        "for i in arr:\n",
        "  sum = 0\n",
        "  start = i # i represents the index i element lol\n",
        "  for j in range (100):\n",
        "    sum += start\n",
        "    start *= i\n",
        "  print (f\"sum of sequence with ratio {i} is: {sum}\")"
      ]
    },
    {
      "cell_type": "markdown",
      "metadata": {
        "id": "N2ex-Z7Hr-o2"
      },
      "source": [
        "## Exercise 2.11 2019/NJC Tutorial/APGP/QB8 H2 Mathematics (Modified)\n",
        "\n",
        "An athlete is considering two plans for a training program.\n",
        "\n",
        "Plan I: Run 2000 m on day 1, 2400 m on day 2, and on each successive day increase the distance run by 400 m.\n",
        "\n",
        "Plan II: Run 2000 m on day 1, 2200 m on day 2, and on each successive day multiply the distance run by a constant factor $\\frac{11}{10}$.\n",
        "\n",
        "- **(a)** For Plan I, find the least value of $n$ for which the total distance run on days 1 to $n$, inclusive, exceeds 200 000 m.\n",
        "\n",
        "- **(b)** For Plan II, find the least value of N for which the distance run on day $N$ exceeds 16 000.\n",
        "\n",
        "- **(c)** Assume that athlete $A$ decided to go with Plan I and another athlete $B$ decided to with Plan II, when will athlete $B$'s total distance run first exceeds athlete $A$'s total distance run?"
      ]
    },
    {
      "cell_type": "code",
      "execution_count": null,
      "metadata": {
        "id": "CSILe9CNr-o2"
      },
      "outputs": [],
      "source": [
        "#YOUR CODE HERE\n",
        "\n",
        "# task a\n",
        "sumdist= 0\n",
        "count=0\n",
        "dailydist = 2000\n",
        "while sumdist <= 200000:\n",
        "  sumdist += dailydist\n",
        "  dailydist += 400\n",
        "  count += 1\n",
        "\n",
        "print(f\"ans for task a is {count}\")\n",
        "\n",
        "# task b\n",
        "distdaily = 2000\n",
        "nvalue=1\n",
        "while distdaily <= 16000:\n",
        "  distdaily *= 11/10\n",
        "  nvalue += 1\n",
        "\n",
        "print (f\"ans for task b is {nvalue}\")\n",
        "\n",
        "# task c\n",
        "sumofa=0\n",
        "dailya = 2000\n",
        "sumofb=0\n",
        "dailyb = 2000\n",
        "howlongitsgonnatake = 0\n",
        "while sumofb <= sumofa:\n",
        "  sumofb += dailyb\n",
        "  sumofa += dailya\n",
        "  dailya += 400\n",
        "  dailyb *= 11/10\n",
        "  howlongitsgonnatake += 1\n",
        "\n",
        "print(f\"b smurf a in {howlongitsgonnatake} days\")"
      ]
    }
  ],
  "metadata": {
    "kernelspec": {
      "display_name": "Python 3",
      "language": "python",
      "name": "python3"
    },
    "language_info": {
      "codemirror_mode": {
        "name": "ipython",
        "version": 3
      },
      "file_extension": ".py",
      "mimetype": "text/x-python",
      "name": "python",
      "nbconvert_exporter": "python",
      "pygments_lexer": "ipython3",
      "version": "3.10.2"
    },
    "orig_nbformat": 2,
    "vscode": {
      "interpreter": {
        "hash": "a42ccb73e7d9bfdf27e036f1d2b8b681e55fc0743cc5586bc2474d4a60f4b886"
      }
    },
    "colab": {
      "provenance": []
    }
  },
  "nbformat": 4,
  "nbformat_minor": 0
}