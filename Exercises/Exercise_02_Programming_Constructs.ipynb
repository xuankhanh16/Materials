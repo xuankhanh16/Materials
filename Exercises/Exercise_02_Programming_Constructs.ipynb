{
  "cells": [
    {
      "cell_type": "markdown",
      "metadata": {
        "id": "cNSqcQvNw9AN"
      },
      "source": [
        "# Exercise 2\n",
        "\n",
        "Related Notes:\n",
        "- Chapter_01_Data_Types\n",
        "- Chapter_02_Programming_Constructs\n",
        "\n",
        "[![Open In Colab](https://colab.research.google.com/assets/colab-badge.svg)](https://colab.research.google.com/github/njc-cz2-2021/Materials/blob/main/Exercises/Exercise_02_Programming_Constructs.ipynb)"
      ]
    },
    {
      "cell_type": "markdown",
      "metadata": {
        "id": "VCBmNqqGw9AP"
      },
      "source": [
        "# Exercise 2.1 Unit Converter\n",
        "\n",
        "Write a program that helps the user to convert a given quantity from one unit of (distance, area or volume) measurement to another.\n",
        "\n",
        "The problem:\n",
        "-\tRequest a quantity from the user.\n",
        "-\tHave the user specify if the quantity is a `length`, `area` or `volume`.\n",
        "-\tHave the user select the base unit of measurement from the following list:\n",
        "    - `mm`,\n",
        "    - `cm`,\n",
        "    - `m`, or\n",
        "    - `km`.\n",
        "-\tThen have the user select the desired base unit of measurement that the given quantity should be converted to.\n",
        "-\tPrint out converted quantity (including the new unit of measurement).\n",
        "\n",
        "Example interaction:\n",
        "\n",
        ">``` text\n",
        ">Input a quantity: 10\n",
        ">Select either length, area or volume: area\n",
        ">Select the base unit of measurement (mm, cm, m, km) : m\n",
        ">Select which base unit of measurement to convert to (mm, cm, m, km) : cm\n",
        ">10 m^2 = 100000 cm^2\n",
        ">```"
      ]
    },
    {
      "cell_type": "code",
      "execution_count": null,
      "metadata": {
        "id": "VVHw2xAyw9AQ"
      },
      "outputs": [],
      "source": [
        "#YOUR CODE HERE"
      ]
    },
    {
      "cell_type": "markdown",
      "metadata": {
        "id": "O_r4VsYJw9AR"
      },
      "source": [
        "# Exercise 2.2\n",
        "\n",
        "In mathematics, an **arithmetic sequence** is a sequence of real numbers\n",
        "$$u_1,u_2,\\cdots, u_n$$\n",
        "such that the difference between two consecutive terms is constant, i.e. $u_{n+1}-u_n=d$ for some constant $d\\in \\mathbb{R}$, called the **common difference** and $n\\geq 1$.\n",
        "\n",
        "For example, the sequence $2,5,8,11,14,\\dots$ is an arithmetic sequence with first term $2$ and common difference $3$.\n",
        "\n",
        "Write a program to generate the first $n$ terms of an arithmetic sequence with a user defined first term $a$ and common difference $d$.\n",
        "\n",
        "The problem:\n",
        "- Request a numeric input from the user to be used as the first term.  Let us denote this input as `first_term`.\n",
        "- Request a numeric input from the user to be used as the common difference.  Let us denote this input as `common_difference`.\n",
        "- Request an integer input from the user for the number of terms.  Let us denote this input as `number_of_terms`.\n",
        "- Print out the sequence up to the $n$th term.\n",
        "\n",
        "Example interaction:\n",
        "\n",
        ">``` text\n",
        ">Please input the first term in the arithmetic sequence:\n",
        ">2\n",
        ">Please input the common difference:\n",
        ">3\n",
        ">Please input the number of terms:\n",
        ">5\n",
        ">The first 5 terms of the arithmetic sequence are:\n",
        ">2\n",
        ">5\n",
        ">8\n",
        ">11\n",
        ">14\n",
        ">```"
      ]
    },
    {
      "cell_type": "code",
      "execution_count": null,
      "metadata": {
        "id": "l70yg19Xw9AR"
      },
      "outputs": [],
      "source": [
        "#YOUR CODE HERE"
      ]
    },
    {
      "cell_type": "markdown",
      "metadata": {
        "id": "OTQ6eEqmw9AS"
      },
      "source": [
        "# Exercise 2.3\n",
        "\n",
        "Given an arithmetic sequence with first term $a$ and common difference $d$.\n",
        "\n",
        "Write a program that:\n",
        "- Request a numeric input from the user to be used as the first term.  Let us denote this input as `first_term`.\n",
        "- Request a numeric input from the user to be used as the common difference.  Let us denote this input as `common_difference`.\n",
        "- Request an integer input from the user for the index for the term in the sequence.  Let us denote this input as `n`.\n",
        "- Print out the $n$th term in the sequence.\n",
        "- Print out the sum of the first $n$ terms in the sequence.\n",
        "\n",
        "Example interaction:\n",
        "\n",
        ">```text\n",
        ">Please input the first term in the arithmetic sequence:\n",
        ">2\n",
        ">Please input the common difference:\n",
        ">3\n",
        ">Please input the index :\n",
        ">5\n",
        ">The 5th term in the sequence is:\n",
        ">14\n",
        ">The sum of the first 5 terms in the sequence is:\n",
        ">40\n",
        ">```"
      ]
    },
    {
      "cell_type": "code",
      "execution_count": null,
      "metadata": {
        "id": "ZFsHcANuw9AS"
      },
      "outputs": [],
      "source": [
        "#YOUR CODE HERE"
      ]
    },
    {
      "cell_type": "markdown",
      "metadata": {
        "id": "0CD0WTn9w9AS"
      },
      "source": [
        "# Exercise 2.4\n",
        "\n",
        "An arithmetic sequence $u_1, u_2, u_3, \\cdots$ is defined by $u_r=3r-1$ for $r\\in \\mathbb{Z}^{+}$. Find the least value of $n$ such that $u_3+u_6+u_9+\\cdots+u_n$ exceeds $1700$, where $n$ is a multiple of 3."
      ]
    },
    {
      "cell_type": "code",
      "execution_count": null,
      "metadata": {
        "id": "Kk4NHqstw9AS"
      },
      "outputs": [],
      "source": [
        "#YOUR CODE HERE"
      ]
    },
    {
      "cell_type": "markdown",
      "metadata": {
        "id": "ecl-wEX0w9AS"
      },
      "source": [
        "# Exercise 2.5 2012/GCE A-Level/P2/Q4(i) H2 Mathematics\n",
        "\n",
        "On 1 January 2001 Mrs $A$ put \\$100 into a bank account, and on the first day of each subsequent month she put in \\$10 more than in the previous month. Thus on 1 February she put \\$110 into the account and on 1 March she put \\$120 into the account, and so on. The account pays no interest.\n",
        "\n",
        "On what date did the value of Mrs $A$'s account first become greater than $5000?"
      ]
    },
    {
      "cell_type": "code",
      "execution_count": null,
      "metadata": {
        "id": "AHoYvi-Ww9AT"
      },
      "outputs": [],
      "source": [
        "#YOUR CODE HERE"
      ]
    },
    {
      "cell_type": "markdown",
      "metadata": {
        "id": "5pJ3Ai9pw9AT"
      },
      "source": [
        "## Exercise 2.6 Power\n",
        "\n",
        "Write a program that prints out the first $m$ numbers that can be written as a positive integer taken to the power $n$.\n",
        "\n",
        "Example interaction:\n",
        "\n",
        ">``` text\n",
        ">Input the number of terms, m: 5\n",
        ">Input the n-th power: 3\n",
        ">1\n",
        ">8\n",
        ">27\n",
        ">64\n",
        ">125\n",
        ">```"
      ]
    },
    {
      "cell_type": "code",
      "execution_count": null,
      "metadata": {
        "id": "mMXLpBDKw9AT"
      },
      "outputs": [],
      "source": [
        "#YOUR CODE HERE"
      ]
    },
    {
      "cell_type": "markdown",
      "metadata": {
        "id": "dx1uT1QDw9AT"
      },
      "source": [
        "## Exercise 2.7 Guess The Secret Number\n",
        "\n",
        "Write a program that stores a secret integer in a variable. The user has to guess the secret integer, the program should loop until they get it right.\n",
        "\n",
        "The problem:\n",
        "-   Decide on a secret integer between 1 and 100 inclusive yourself.\n",
        "-\tRequest an integer from the user.\n",
        "-\tif the user inputted a value that is too high, print 'Your number is too high. Try again.' and the program loops\n",
        "-   if the user inputted a value that is too low, print 'Your number is too low. Try again.' and the program loops\n",
        "-   if the user inputted a value that is the same as the secret integer, print 'Congratulations. You guessed correctly.' and the program ends.\n",
        "\n",
        "Example interaction:\n",
        "\n",
        ">``` text\n",
        ">#Secret number is 31\n",
        ">Input a quantity: 37\n",
        ">Your number is too high. Try again.\n",
        ">Input a quantity: 25\n",
        ">Your number is too low. Try again.\n",
        ">Input a quantity: 31\n",
        ">Congratulations. You guessed correctly.\n",
        ">```"
      ]
    },
    {
      "cell_type": "code",
      "execution_count": null,
      "metadata": {
        "id": "aPlsSwi6w9AT"
      },
      "outputs": [],
      "source": [
        "#YOUR CODE HERE"
      ]
    },
    {
      "cell_type": "markdown",
      "metadata": {
        "id": "EJxmeiZLw9AT"
      },
      "source": [
        "## Exercise 2.8\n",
        "\n",
        "In mathematics, a **geometric sequence** is a sequence of real numbers\n",
        "$$u_1,u_2,\\cdots, u_n$$\n",
        "such that the ratio between two consecutive terms is constant, i.e. $\\frac{u_{n+1}}{u_n}=r$ for some constant $r\\in \\mathbb{R}\\backslash \\{0,1\\}$, called the **common ratio** and $n\\geq 1$.\n",
        "\n",
        "For example, the sequence $2,6,18,54,162,\\dots$ is an geometric sequence with first term $2$ and common ratio $3$.\n",
        "\n",
        "Write a program to generate the first $n$ terms of an geometric sequence with a user defined first term $a$ and common ratio $r$.\n",
        "\n",
        "The problem:\n",
        "- Request a numeric input from the user to be used as the first term.  Let us denote this input as `first_term`.\n",
        "- Request a numeric input from the user to be used as the common difference.  Let us denote this input as `common_ratio`.\n",
        "- Request an integer input from the user for the number of terms.  Let us denote this input as `number_of_terms`.\n",
        "- Print out the sequence up to the $n$th term.\n",
        "\n",
        "Example interaction:\n",
        "\n",
        ">```text\n",
        ">Please input the first term in the geometric sequence:\n",
        ">2\n",
        ">Please input the common ratio:\n",
        ">3\n",
        ">Please input the number of terms:\n",
        ">5\n",
        ">The first 5 terms of the geometric sequence are:\n",
        ">2\n",
        ">6\n",
        ">18\n",
        ">54\n",
        ">162\n",
        ">```"
      ]
    },
    {
      "cell_type": "code",
      "execution_count": null,
      "metadata": {
        "id": "WzL5WGjsw9AT"
      },
      "outputs": [],
      "source": [
        "#YOUR CODE HERE"
      ]
    },
    {
      "cell_type": "markdown",
      "metadata": {
        "id": "gV08aAkaw9AU"
      },
      "source": [
        "## Exercise 2.9\n",
        "\n",
        "Given a geometric sequence with first term $a$ and common ratio $r$.\n",
        "\n",
        "Write a program that:\n",
        "- Request a numeric input from the user to be used as the first term.  Let us denote this input as `first_term`.\n",
        "- Request a numeric input from the user to be used as the common difference.  Let us denote this input as `common_ratio`.\n",
        "- Request an integer input from the user for the index for the term in the sequence.  Let us denote this input as `n`.\n",
        "- Print out the $n$th term in the sequence.\n",
        "- Print out the sum of the first $n$ terms in the sequence.\n",
        "\n",
        "Example interaction:\n",
        "\n",
        ">```text\n",
        ">Please input the first term in the geometric sequence:\n",
        ">2\n",
        ">Please input the common ratio:\n",
        ">3\n",
        ">Please input the index :\n",
        ">5\n",
        ">The 5th term in the sequence is:\n",
        ">162\n",
        ">The sum of the first 5 terms in the sequence is:\n",
        ">242\n",
        ">```"
      ]
    },
    {
      "cell_type": "code",
      "execution_count": null,
      "metadata": {
        "id": "mRq6Jk6Ow9AU"
      },
      "outputs": [],
      "source": [
        "#YOUR CODE HERE"
      ]
    },
    {
      "cell_type": "markdown",
      "metadata": {
        "id": "nAmBwZLhw9AU"
      },
      "source": [
        "## Exercise 2.10\n",
        "\n",
        "Given a geometric sequence with first term $1$ and common ratio $r$. Find the sum of the first 100 terms of the sequence if:\n",
        "- $r=2$\n",
        "- $r=\\frac{1}{2}$\n",
        "- $r=-3$\n",
        "- $r=-\\frac{5}{6}$\n",
        "- $r=4.1$\n",
        "- $r=0.7$\n",
        "\n",
        "What can you conclude about the relationship between the common ratio of the geometric sequence with the sum of the first $n$ terms of the geometric sequence as $n$ grows larger and larger? i.e., as $n\\rightarrow \\infty$. You might want to try with more values of $r$."
      ]
    },
    {
      "cell_type": "code",
      "execution_count": 4,
      "metadata": {
        "id": "p7kviruFw9AU",
        "outputId": "7c1df944-911f-471c-9616-24cc6548b356",
        "colab": {
          "base_uri": "https://localhost:8080/"
        }
      },
      "outputs": [
        {
          "output_type": "stream",
          "name": "stdout",
          "text": [
            "sum of sequence with ratio 2 is: 2535301200456458802993406410750\n",
            "sum of sequence with ratio 0.5 is: 1.0\n",
            "sum of sequence with ratio -3 is: 386533140549008498277345847324215954526580641500\n",
            "sum of sequence with ratio -0.8333333333333334 is: -0.4545454490569668\n",
            "sum of sequence with ratio 4.1 is: 2.5107752264285577e+61\n",
            "sum of sequence with ratio 0.7 is: 2.333333333333331\n"
          ]
        }
      ],
      "source": [
        "#YOUR CODE HERE\n",
        "\n",
        "arr = [2, 1/2, -3, -5/6, 4.1, 0.7]\n",
        "\n",
        "for i in arr:\n",
        "  sum = 0\n",
        "  start = i # i represents the index i element lol\n",
        "  for j in range (100):\n",
        "    sum += start\n",
        "    start *= i\n",
        "  print (f\"sum of sequence with ratio {i} is: {sum}\")\n",
        "\n"
      ]
    },
    {
      "cell_type": "markdown",
      "metadata": {
        "id": "RpUn1XAZw9AU"
      },
      "source": [
        "## Exercise 2.11 2019/NJC Tutorial/APGP/QB8 H2 Mathematics (Modified)\n",
        "\n",
        "An athlete is considering two plans for a training program.\n",
        "\n",
        "Plan I: Run 2000 m on day 1, 2400 m on day 2, and on each successive day increase the distance run by 400 m.\n",
        "\n",
        "Plan II: Run 2000 m on day 1, 2200 m on day 2, and on each successive day multiply the distance run by a constant factor $\\frac{11}{10}$.\n",
        "\n",
        "- **(a)** For Plan I, find the least value of $n$ for which the total distance run on days 1 to $n$, inclusive, exceeds 200 000 m.\n",
        "\n",
        "- **(b)** For Plan II, find the least value of N for which the distance run on day $N$ exceeds 16 000.\n",
        "\n",
        "- **(c)** Assume that athlete $A$ decided to go with Plan I and another athlete $B$ decided to with Plan II, when will athlete $B$'s total distance run first exceeds athlete $A$'s total distance run?"
      ]
    },
    {
      "cell_type": "code",
      "execution_count": 6,
      "metadata": {
        "id": "cRlIY91zw9AU",
        "outputId": "95379371-b156-4f7d-d815-97ce391caaea",
        "colab": {
          "base_uri": "https://localhost:8080/"
        }
      },
      "outputs": [
        {
          "output_type": "stream",
          "name": "stdout",
          "text": [
            "ans for task a is 28\n",
            "ans for task b is 23\n",
            "b smurf a in 21 days\n"
          ]
        }
      ],
      "source": [
        "#YOUR CODE HERE\n",
        "\n",
        "\n",
        "# task a\n",
        "sumdist= 0\n",
        "count=0\n",
        "dailydist = 2000\n",
        "while sumdist <= 200000:\n",
        "  sumdist += dailydist\n",
        "  dailydist += 400\n",
        "  count += 1\n",
        "\n",
        "print(f\"ans for task a is {count}\")\n",
        "\n",
        "# task b\n",
        "distdaily = 2000\n",
        "nvalue=1\n",
        "while distdaily <= 16000:\n",
        "  distdaily *= 11/10\n",
        "  nvalue += 1\n",
        "\n",
        "print (f\"ans for task b is {nvalue}\")\n",
        "\n",
        "# task c\n",
        "sumofa=0\n",
        "dailya = 2000\n",
        "sumofb=0\n",
        "dailyb = 2000\n",
        "howlongitsgonnatake = 0\n",
        "while sumofb <= sumofa:\n",
        "  sumofb += dailyb\n",
        "  sumofa += dailya\n",
        "  dailya += 400\n",
        "  dailyb *= 11/10\n",
        "  howlongitsgonnatake += 1\n",
        "\n",
        "print(f\"b smurf a in {howlongitsgonnatake} days\")\n",
        "\n"
      ]
    }
  ],
  "metadata": {
    "kernelspec": {
      "display_name": "Python 3",
      "language": "python",
      "name": "python3"
    },
    "language_info": {
      "codemirror_mode": {
        "name": "ipython",
        "version": 3
      },
      "file_extension": ".py",
      "mimetype": "text/x-python",
      "name": "python",
      "nbconvert_exporter": "python",
      "pygments_lexer": "ipython3",
      "version": "3.10.2"
    },
    "orig_nbformat": 2,
    "vscode": {
      "interpreter": {
        "hash": "a42ccb73e7d9bfdf27e036f1d2b8b681e55fc0743cc5586bc2474d4a60f4b886"
      }
    },
    "colab": {
      "provenance": []
    }
  },
  "nbformat": 4,
  "nbformat_minor": 0
}