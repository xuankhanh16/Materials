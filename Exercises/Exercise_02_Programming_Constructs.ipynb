{
  "cells": [
    {
      "cell_type": "markdown",
      "metadata": {
        "id": "_XZnMocN-pQH"
      },
      "source": [
        "# Exercise 2\n",
        "\n",
        "Related Notes:\n",
        "- Chapter_01_Data_Types\n",
        "- Chapter_02_Programming_Constructs\n",
        "\n",
        "[![Open In Colab](https://colab.research.google.com/assets/colab-badge.svg)](https://colab.research.google.com/github/njc-cz2-2021/Materials/blob/main/Exercises/Exercise_02_Programming_Constructs.ipynb)"
      ]
    },
    {
      "cell_type": "markdown",
      "metadata": {
        "id": "P_pSTdlj-pQJ"
      },
      "source": [
        "# Exercise 2.1 Unit Converter\n",
        "\n",
        "Write a program that helps the user to convert a given quantity from one unit of (distance, area or volume) measurement to another.\n",
        "\n",
        "The problem:\n",
        "-\tRequest a quantity from the user.\n",
        "-\tHave the user specify if the quantity is a `length`, `area` or `volume`.\n",
        "-\tHave the user select the base unit of measurement from the following list:\n",
        "    - `mm`,\n",
        "    - `cm`,\n",
        "    - `m`, or\n",
        "    - `km`.\n",
        "-\tThen have the user select the desired base unit of measurement that the given quantity should be converted to.\n",
        "-\tPrint out converted quantity (including the new unit of measurement).\n",
        "\n",
        "Example interaction:\n",
        "\n",
        ">``` text\n",
        ">Input a quantity: 10\n",
        ">Select either length, area or volume: area\n",
        ">Select the base unit of measurement (mm, cm, m, km) : m\n",
        ">Select which base unit of measurement to convert to (mm, cm, m, km) : cm\n",
        ">10 m^2 = 100000 cm^2\n",
        ">```"
      ]
    },
    {
      "cell_type": "code",
      "execution_count": null,
      "metadata": {
        "id": "L9n_KiWH-pQK"
      },
      "outputs": [],
      "source": [
        "#YOUR CODE HERE"
      ]
    },
    {
      "cell_type": "markdown",
      "metadata": {
        "id": "jRVgzCoF-pQL"
      },
      "source": [
        "# Exercise 2.2\n",
        "\n",
        "In mathematics, an **arithmetic sequence** is a sequence of real numbers\n",
        "$$u_1,u_2,\\cdots, u_n$$\n",
        "such that the difference between two consecutive terms is constant, i.e. $u_{n+1}-u_n=d$ for some constant $d\\in \\mathbb{R}$, called the **common difference** and $n\\geq 1$.\n",
        "\n",
        "For example, the sequence $2,5,8,11,14,\\dots$ is an arithmetic sequence with first term $2$ and common difference $3$.\n",
        "\n",
        "Write a program to generate the first $n$ terms of an arithmetic sequence with a user defined first term $a$ and common difference $d$.\n",
        "\n",
        "The problem:\n",
        "- Request a numeric input from the user to be used as the first term.  Let us denote this input as `first_term`.\n",
        "- Request a numeric input from the user to be used as the common difference.  Let us denote this input as `common_difference`.\n",
        "- Request an integer input from the user for the number of terms.  Let us denote this input as `number_of_terms`.\n",
        "- Print out the sequence up to the $n$th term.\n",
        "\n",
        "Example interaction:\n",
        "\n",
        ">``` text\n",
        ">Please input the first term in the arithmetic sequence:\n",
        ">2\n",
        ">Please input the common difference:\n",
        ">3\n",
        ">Please input the number of terms:\n",
        ">5\n",
        ">The first 5 terms of the arithmetic sequence are:\n",
        ">2\n",
        ">5\n",
        ">8\n",
        ">11\n",
        ">14\n",
        ">```"
      ]
    },
    {
      "cell_type": "code",
      "execution_count": 10,
      "metadata": {
        "colab": {
          "base_uri": "https://localhost:8080/"
        },
        "id": "rtmfo_Pd-pQL",
        "outputId": "4f6b3ddc-e6ba-47ff-cdfe-8078527d2b7d"
      },
      "outputs": [
        {
          "output_type": "stream",
          "name": "stdout",
          "text": [
            "First term: 2\n",
            "common difference 3\n",
            "no of term: 5\n",
            "the first 5 terms of the sequence are: \n",
            "2\n",
            "5\n",
            "8\n",
            "11\n",
            "14\n"
          ]
        }
      ],
      "source": [
        "#YOUR CODE HERE\n",
        "\n",
        "firsterm = int(input(\"First term: \"))\n",
        "comdif = int (input(\"common difference \"))\n",
        "terms = int(input(\"no of term: \"))\n",
        "\n",
        "print (f\"the first {terms} terms of the sequence are: \")\n",
        "for i in range (firsterm, firsterm+(terms)*comdif, comdif):\n",
        "  print(i)\n",
        "\n"
      ]
    },
    {
      "cell_type": "markdown",
      "metadata": {
        "id": "7P_5O_fa-pQM"
      },
      "source": [
        "# Exercise 2.3\n",
        "\n",
        "Given an arithmetic sequence with first term $a$ and common difference $d$.\n",
        "\n",
        "Write a program that:\n",
        "- Request a numeric input from the user to be used as the first term.  Let us denote this input as `first_term`.\n",
        "- Request a numeric input from the user to be used as the common difference.  Let us denote this input as `common_difference`.\n",
        "- Request an integer input from the user for the index for the term in the sequence.  Let us denote this input as `n`.\n",
        "- Print out the $n$th term in the sequence.\n",
        "- Print out the sum of the first $n$ terms in the sequence.\n",
        "\n",
        "Example interaction:\n",
        "\n",
        ">```text\n",
        ">Please input the first term in the arithmetic sequence:\n",
        ">2\n",
        ">Please input the common difference:\n",
        ">3\n",
        ">Please input the index :\n",
        ">5\n",
        ">The 5th term in the sequence is:\n",
        ">14\n",
        ">The sum of the first 5 terms in the sequence is:\n",
        ">40\n",
        ">```"
      ]
    },
    {
      "cell_type": "code",
      "execution_count": 17,
      "metadata": {
        "colab": {
          "base_uri": "https://localhost:8080/"
        },
        "id": "fVr5Fxsr-pQM",
        "outputId": "95dd7b24-3349-4240-9766-b727fffdf76c"
      },
      "outputs": [
        {
          "output_type": "stream",
          "name": "stdout",
          "text": [
            "First term: 2\n",
            "common difference 3\n",
            "no of term: 5\n",
            "the 5th term of the sequence is: \n",
            "14 \n",
            "the sum of the first 5 terms in the sequence is \n",
            "40\n"
          ]
        }
      ],
      "source": [
        "#YOUR CODE HERE\n",
        "\n",
        "firsterm = int(input(\"First term: \"))\n",
        "comdif = int (input(\"common difference \"))\n",
        "terms = int(input(\"no of term: \"))\n",
        "\n",
        "nthterm = firsterm + (terms-1) * comdif\n",
        "print (f\"the {terms}th term of the sequence is: \\n{nthterm} \")\n",
        "sum = 0\n",
        "for i in range (firsterm, firsterm+(terms)*comdif, comdif):\n",
        "  sum=sum+i\n",
        "\n",
        "print (f\"the sum of the first {terms} terms in the sequence is \\n{sum}\")\n",
        "\n"
      ]
    },
    {
      "cell_type": "markdown",
      "metadata": {
        "id": "86PD-eRY-pQM"
      },
      "source": [
        "# Exercise 2.4\n",
        "\n",
        "An arithmetic sequence $u_1, u_2, u_3, \\cdots$ is defined by $u_r=3r-1$ for $r\\in \\mathbb{Z}^{+}$. Find the least value of $n$ such that $u_3+u_6+u_9+\\cdots+u_n$ exceeds $1700$, where $n$ is a multiple of 3."
      ]
    },
    {
      "cell_type": "code",
      "execution_count": 19,
      "metadata": {
        "colab": {
          "base_uri": "https://localhost:8080/"
        },
        "id": "96YGgdHt-pQM",
        "outputId": "9e993ffa-0a7d-4014-f05b-3eb7d8205ab8"
      },
      "outputs": [
        {
          "output_type": "stream",
          "name": "stdout",
          "text": [
            "60\n"
          ]
        }
      ],
      "source": [
        "#YOUR CODE HERE\n",
        "\n",
        "sum = 0\n",
        "r=3\n",
        "while sum<=1700:\n",
        "  ur = 3*r-1\n",
        "  sum += ur\n",
        "  r +=3\n",
        "\n",
        "print(r-3)\n"
      ]
    },
    {
      "cell_type": "markdown",
      "metadata": {
        "id": "tduE4Wvp-pQN"
      },
      "source": [
        "# Exercise 2.5 2012/GCE A-Level/P2/Q4(i) H2 Mathematics\n",
        "\n",
        "On 1 January 2001 Mrs $A$ put \\$100 into a bank account, and on the first day of each subsequent month she put in \\$10 more than in the previous month. Thus on 1 February she put \\$110 into the account and on 1 March she put \\$120 into the account, and so on. The account pays no interest.\n",
        "\n",
        "On what date did the value of Mrs $A$'s account first become greater than $5000?"
      ]
    },
    {
      "cell_type": "code",
      "execution_count": 49,
      "metadata": {
        "colab": {
          "base_uri": "https://localhost:8080/"
        },
        "id": "_opCU-yI-pQN",
        "outputId": "53544360-d892-4349-e7e3-a20756938c83"
      },
      "outputs": [
        {
          "output_type": "stream",
          "name": "stdout",
          "text": [
            "24\n",
            "date is 1 Dec 2002\n"
          ]
        }
      ],
      "source": [
        "#YOUR CODE HERE\n",
        "\n",
        "sum = 0\n",
        "deposit = 100\n",
        "month = 0\n",
        "year = 0\n",
        "while sum <= 5000:\n",
        "  sum = sum + deposit\n",
        "  deposit += 10\n",
        "  month += 1\n",
        "\n",
        "changetomonth = {1: \"Jan\", 2: \"Feb\", 3: \"Mar\", 4:\"Apr\", 5:\"May\", 6:\"Jun\", 7:\"July\", 8:\"Aug\", 9:\"Sept\", 10:\"oct\", 11:\"Nov\", 12:\"Dec\"}\n",
        "\n",
        "print(month)\n",
        "\n",
        "if month>12:\n",
        "  year = (month-1) // 12  #12th month is still in the same year\n",
        "  month = month % 12\n",
        "  if month == 0:\n",
        "    month = 12\n",
        "\n",
        "print(f\"date is 1 {changetomonth[month]} {2001+year}\")\n",
        "\n",
        "\n"
      ]
    },
    {
      "cell_type": "markdown",
      "metadata": {
        "id": "XACXUaXU-pQN"
      },
      "source": [
        "## Exercise 2.6 Power\n",
        "\n",
        "Write a program that prints out the first $m$ numbers that can be written as a positive integer taken to the power $n$.\n",
        "\n",
        "Example interaction:\n",
        "\n",
        ">``` text\n",
        ">Input the number of terms, m: 5\n",
        ">Input the n-th power: 3\n",
        ">1\n",
        ">8\n",
        ">27\n",
        ">64\n",
        ">125\n",
        ">```"
      ]
    },
    {
      "cell_type": "code",
      "execution_count": 34,
      "metadata": {
        "colab": {
          "base_uri": "https://localhost:8080/"
        },
        "id": "1BmeRLbS-pQN",
        "outputId": "d6934de2-74f9-45d9-f4cf-a6f0c143b571"
      },
      "outputs": [
        {
          "output_type": "stream",
          "name": "stdout",
          "text": [
            "number of terms: 3\n",
            "n-th power: 5\n",
            "1\n",
            "32\n",
            "243\n"
          ]
        }
      ],
      "source": [
        "terms = int(input(\"number of terms: \"))\n",
        "powerterm = int (input(\"n-th power: \"))\n",
        "for i in range (1, terms+1):\n",
        "  print(i**powerterm)\n"
      ]
    },
    {
      "cell_type": "markdown",
      "metadata": {
        "id": "FhwAmMph-pQN"
      },
      "source": [
        "## Exercise 2.7 Guess The Secret Number\n",
        "\n",
        "Write a program that stores a secret integer in a variable. The user has to guess the secret integer, the program should loop until they get it right.\n",
        "\n",
        "The problem:\n",
        "-   Decide on a secret integer between 1 and 100 inclusive yourself.\n",
        "-\tRequest an integer from the user.\n",
        "-\tif the user inputted a value that is too high, print 'Your number is too high. Try again.' and the program loops\n",
        "-   if the user inputted a value that is too low, print 'Your number is too low. Try again.' and the program loops\n",
        "-   if the user inputted a value that is the same as the secret integer, print 'Congratulations. You guessed correctly.' and the program ends.\n",
        "\n",
        "Example interaction:\n",
        "\n",
        ">``` text\n",
        ">#Secret number is 31\n",
        ">Input a quantity: 37\n",
        ">Your number is too high. Try again.\n",
        ">Input a quantity: 25\n",
        ">Your number is too low. Try again.\n",
        ">Input a quantity: 31\n",
        ">Congratulations. You guessed correctly.\n",
        ">```"
      ]
    },
    {
      "cell_type": "code",
      "execution_count": 41,
      "metadata": {
        "colab": {
          "base_uri": "https://localhost:8080/",
          "height": 356
        },
        "id": "uAKo1hro-pQN",
        "outputId": "51baae02-3ad9-4aed-88f0-aefb35f04336"
      },
      "outputs": [
        {
          "output_type": "error",
          "ename": "KeyboardInterrupt",
          "evalue": "Interrupted by user",
          "traceback": [
            "\u001b[0;31m---------------------------------------------------------------------------\u001b[0m",
            "\u001b[0;31mKeyboardInterrupt\u001b[0m                         Traceback (most recent call last)",
            "\u001b[0;32m<ipython-input-41-daae0ab2d010>\u001b[0m in \u001b[0;36m<cell line: 0>\u001b[0;34m()\u001b[0m\n\u001b[1;32m      4\u001b[0m \u001b[0mdone\u001b[0m \u001b[0;34m=\u001b[0m \u001b[0;32mTrue\u001b[0m\u001b[0;34m\u001b[0m\u001b[0;34m\u001b[0m\u001b[0m\n\u001b[1;32m      5\u001b[0m \u001b[0;32mwhile\u001b[0m \u001b[0mdone\u001b[0m\u001b[0;34m:\u001b[0m\u001b[0;34m\u001b[0m\u001b[0;34m\u001b[0m\u001b[0m\n\u001b[0;32m----> 6\u001b[0;31m   \u001b[0mguess\u001b[0m \u001b[0;34m=\u001b[0m \u001b[0mint\u001b[0m\u001b[0;34m(\u001b[0m\u001b[0minput\u001b[0m\u001b[0;34m(\u001b[0m\u001b[0;34m\"input a quantity: \"\u001b[0m\u001b[0;34m)\u001b[0m\u001b[0;34m)\u001b[0m\u001b[0;34m\u001b[0m\u001b[0;34m\u001b[0m\u001b[0m\n\u001b[0m\u001b[1;32m      7\u001b[0m   \u001b[0;32mif\u001b[0m \u001b[0mguess\u001b[0m \u001b[0;34m>\u001b[0m \u001b[0msecretnumber\u001b[0m\u001b[0;34m:\u001b[0m\u001b[0;34m\u001b[0m\u001b[0;34m\u001b[0m\u001b[0m\n\u001b[1;32m      8\u001b[0m     \u001b[0mprint\u001b[0m\u001b[0;34m(\u001b[0m\u001b[0;34m\"guess to high, again\"\u001b[0m\u001b[0;34m)\u001b[0m\u001b[0;34m\u001b[0m\u001b[0;34m\u001b[0m\u001b[0m\n",
            "\u001b[0;32m/usr/local/lib/python3.11/dist-packages/ipykernel/kernelbase.py\u001b[0m in \u001b[0;36mraw_input\u001b[0;34m(self, prompt)\u001b[0m\n\u001b[1;32m   1175\u001b[0m                 \u001b[0;34m\"raw_input was called, but this frontend does not support input requests.\"\u001b[0m\u001b[0;34m\u001b[0m\u001b[0;34m\u001b[0m\u001b[0m\n\u001b[1;32m   1176\u001b[0m             )\n\u001b[0;32m-> 1177\u001b[0;31m         return self._input_request(\n\u001b[0m\u001b[1;32m   1178\u001b[0m             \u001b[0mstr\u001b[0m\u001b[0;34m(\u001b[0m\u001b[0mprompt\u001b[0m\u001b[0;34m)\u001b[0m\u001b[0;34m,\u001b[0m\u001b[0;34m\u001b[0m\u001b[0;34m\u001b[0m\u001b[0m\n\u001b[1;32m   1179\u001b[0m             \u001b[0mself\u001b[0m\u001b[0;34m.\u001b[0m\u001b[0m_parent_ident\u001b[0m\u001b[0;34m[\u001b[0m\u001b[0;34m\"shell\"\u001b[0m\u001b[0;34m]\u001b[0m\u001b[0;34m,\u001b[0m\u001b[0;34m\u001b[0m\u001b[0;34m\u001b[0m\u001b[0m\n",
            "\u001b[0;32m/usr/local/lib/python3.11/dist-packages/ipykernel/kernelbase.py\u001b[0m in \u001b[0;36m_input_request\u001b[0;34m(self, prompt, ident, parent, password)\u001b[0m\n\u001b[1;32m   1217\u001b[0m             \u001b[0;32mexcept\u001b[0m \u001b[0mKeyboardInterrupt\u001b[0m\u001b[0;34m:\u001b[0m\u001b[0;34m\u001b[0m\u001b[0;34m\u001b[0m\u001b[0m\n\u001b[1;32m   1218\u001b[0m                 \u001b[0;31m# re-raise KeyboardInterrupt, to truncate traceback\u001b[0m\u001b[0;34m\u001b[0m\u001b[0;34m\u001b[0m\u001b[0m\n\u001b[0;32m-> 1219\u001b[0;31m                 \u001b[0;32mraise\u001b[0m \u001b[0mKeyboardInterrupt\u001b[0m\u001b[0;34m(\u001b[0m\u001b[0;34m\"Interrupted by user\"\u001b[0m\u001b[0;34m)\u001b[0m \u001b[0;32mfrom\u001b[0m \u001b[0;32mNone\u001b[0m\u001b[0;34m\u001b[0m\u001b[0;34m\u001b[0m\u001b[0m\n\u001b[0m\u001b[1;32m   1220\u001b[0m             \u001b[0;32mexcept\u001b[0m \u001b[0mException\u001b[0m\u001b[0;34m:\u001b[0m\u001b[0;34m\u001b[0m\u001b[0;34m\u001b[0m\u001b[0m\n\u001b[1;32m   1221\u001b[0m                 \u001b[0mself\u001b[0m\u001b[0;34m.\u001b[0m\u001b[0mlog\u001b[0m\u001b[0;34m.\u001b[0m\u001b[0mwarning\u001b[0m\u001b[0;34m(\u001b[0m\u001b[0;34m\"Invalid Message:\"\u001b[0m\u001b[0;34m,\u001b[0m \u001b[0mexc_info\u001b[0m\u001b[0;34m=\u001b[0m\u001b[0;32mTrue\u001b[0m\u001b[0;34m)\u001b[0m\u001b[0;34m\u001b[0m\u001b[0;34m\u001b[0m\u001b[0m\n",
            "\u001b[0;31mKeyboardInterrupt\u001b[0m: Interrupted by user"
          ]
        }
      ],
      "source": [
        "import random\n",
        "\n",
        "secretnumber = random.randint(1, 100)\n",
        "done = True\n",
        "while done:\n",
        "  guess = int(input(\"input a quantity: \"))\n",
        "  if guess > secretnumber:\n",
        "    print(\"guess to high, again\")\n",
        "  elif guess < secretnumber:\n",
        "    print(\"guess too low, again\")\n",
        "  elif guess == secretnumber:\n",
        "    print(\"congrats\")\n",
        "    done = False\n",
        "\n"
      ]
    },
    {
      "cell_type": "markdown",
      "metadata": {
        "id": "ZV7zJkHV-pQN"
      },
      "source": [
        "## Exercise 2.8\n",
        "\n",
        "In mathematics, a **geometric sequence** is a sequence of real numbers\n",
        "$$u_1,u_2,\\cdots, u_n$$\n",
        "such that the ratio between two consecutive terms is constant, i.e. $\\frac{u_{n+1}}{u_n}=r$ for some constant $r\\in \\mathbb{R}\\backslash \\{0,1\\}$, called the **common ratio** and $n\\geq 1$.\n",
        "\n",
        "For example, the sequence $2,6,18,54,162,\\dots$ is an geometric sequence with first term $2$ and common ratio $3$.\n",
        "\n",
        "Write a program to generate the first $n$ terms of an geometric sequence with a user defined first term $a$ and common ratio $r$.\n",
        "\n",
        "The problem:\n",
        "- Request a numeric input from the user to be used as the first term.  Let us denote this input as `first_term`.\n",
        "- Request a numeric input from the user to be used as the common difference.  Let us denote this input as `common_ratio`.\n",
        "- Request an integer input from the user for the number of terms.  Let us denote this input as `number_of_terms`.\n",
        "- Print out the sequence up to the $n$th term.\n",
        "\n",
        "Example interaction:\n",
        "\n",
        ">```text\n",
        ">Please input the first term in the geometric sequence:\n",
        ">2\n",
        ">Please input the common ratio:\n",
        ">3\n",
        ">Please input the number of terms:\n",
        ">5\n",
        ">The first 5 terms of the geometric sequence are:\n",
        ">2\n",
        ">6\n",
        ">18\n",
        ">54\n",
        ">162\n",
        ">```"
      ]
    },
    {
      "cell_type": "code",
      "execution_count": 57,
      "metadata": {
        "colab": {
          "base_uri": "https://localhost:8080/"
        },
        "id": "AVv3onhA-pQO",
        "outputId": "74f61574-f3cd-4dbb-d1f4-0af81248f65d"
      },
      "outputs": [
        {
          "output_type": "stream",
          "name": "stdout",
          "text": [
            "first term in sequence: 3\n",
            "common ratio: 4\n",
            "number of terms: 5\n",
            "the first 5 terms of the geometric sequence are\n",
            "3\n",
            "12\n",
            "48\n",
            "192\n",
            "768\n"
          ]
        }
      ],
      "source": [
        "#YOUR CODE HERE\n",
        "\n",
        "firstterm = int (input(\"first term in sequence: \"))\n",
        "ratio = int(input(\"common ratio: \"))\n",
        "terms = int (input(\"number of terms: \"))\n",
        "\n",
        "print(f\"the first {terms} terms of the geometric sequence are\")\n",
        "for i in range (0, terms):\n",
        "    print(firstterm*(ratio**i))\n",
        "    i += 1"
      ]
    },
    {
      "cell_type": "markdown",
      "metadata": {
        "id": "L0aW0XuT-pQO"
      },
      "source": [
        "## Exercise 2.9\n",
        "\n",
        "Given a geometric sequence with first term $a$ and common ratio $r$.\n",
        "\n",
        "Write a program that:\n",
        "- Request a numeric input from the user to be used as the first term.  Let us denote this input as `first_term`.\n",
        "- Request a numeric input from the user to be used as the common difference.  Let us denote this input as `common_ratio`.\n",
        "- Request an integer input from the user for the index for the term in the sequence.  Let us denote this input as `n`.\n",
        "- Print out the $n$th term in the sequence.\n",
        "- Print out the sum of the first $n$ terms in the sequence.\n",
        "\n",
        "Example interaction:\n",
        "\n",
        ">```text\n",
        ">Please input the first term in the geometric sequence:\n",
        ">2\n",
        ">Please input the common ratio:\n",
        ">3\n",
        ">Please input the index :\n",
        ">5\n",
        ">The 5th term in the sequence is:\n",
        ">162\n",
        ">The sum of the first 5 terms in the sequence is:\n",
        ">242\n",
        ">```"
      ]
    },
    {
      "cell_type": "code",
      "execution_count": null,
      "metadata": {
        "id": "DZvZJCTQ-pQO"
      },
      "outputs": [],
      "source": [
        "#YOUR CODE HERE"
      ]
    },
    {
      "cell_type": "markdown",
      "metadata": {
        "id": "U5gNmuSq-pQO"
      },
      "source": [
        "## Exercise 2.10\n",
        "\n",
        "Given a geometric sequence with first term $1$ and common ratio $r$. Find the sum of the first 100 terms of the sequence if:\n",
        "- $r=2$\n",
        "- $r=\\frac{1}{2}$\n",
        "- $r=-3$\n",
        "- $r=-\\frac{5}{6}$\n",
        "- $r=4.1$\n",
        "- $r=0.7$\n",
        "\n",
        "What can you conclude about the relationship between the common ratio of the geometric sequence with the sum of the first $n$ terms of the geometric sequence as $n$ grows larger and larger? i.e., as $n\\rightarrow \\infty$. You might want to try with more values of $r$."
      ]
    },
    {
      "cell_type": "code",
      "execution_count": null,
      "metadata": {
        "id": "vh3F79wT-pQO"
      },
      "outputs": [],
      "source": [
        "#YOUR CODE HERE"
      ]
    },
    {
      "cell_type": "markdown",
      "metadata": {
        "id": "gnLJ-BOh-pQO"
      },
      "source": [
        "## Exercise 2.11 2019/NJC Tutorial/APGP/QB8 H2 Mathematics (Modified)\n",
        "\n",
        "An athlete is considering two plans for a training program.\n",
        "\n",
        "Plan I: Run 2000 m on day 1, 2400 m on day 2, and on each successive day increase the distance run by 400 m.\n",
        "\n",
        "Plan II: Run 2000 m on day 1, 2200 m on day 2, and on each successive day multiply the distance run by a constant factor $\\frac{11}{10}$.\n",
        "\n",
        "- **(a)** For Plan I, find the least value of $n$ for which the total distance run on days 1 to $n$, inclusive, exceeds 200 000 m.\n",
        "\n",
        "- **(b)** For Plan II, find the least value of N for which the distance run on day $N$ exceeds 16 000.\n",
        "\n",
        "- **(c)** Assume that athlete $A$ decided to go with Plan I and another athlete $B$ decided to with Plan II, when will athlete $B$'s total distance run first exceeds athlete $A$'s total distance run?"
      ]
    },
    {
      "cell_type": "code",
      "execution_count": null,
      "metadata": {
        "id": "BCdL5itv-pQO"
      },
      "outputs": [],
      "source": [
        "#YOUR CODE HERE"
      ]
    }
  ],
  "metadata": {
    "kernelspec": {
      "display_name": "Python 3",
      "language": "python",
      "name": "python3"
    },
    "language_info": {
      "codemirror_mode": {
        "name": "ipython",
        "version": 3
      },
      "file_extension": ".py",
      "mimetype": "text/x-python",
      "name": "python",
      "nbconvert_exporter": "python",
      "pygments_lexer": "ipython3",
      "version": "3.10.2"
    },
    "orig_nbformat": 2,
    "vscode": {
      "interpreter": {
        "hash": "a42ccb73e7d9bfdf27e036f1d2b8b681e55fc0743cc5586bc2474d4a60f4b886"
      }
    },
    "colab": {
      "provenance": []
    }
  },
  "nbformat": 4,
  "nbformat_minor": 0
}