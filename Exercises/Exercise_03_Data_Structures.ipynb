{
  "cells": [
    {
      "cell_type": "markdown",
      "metadata": {
        "id": "Avn2YNfX2bea"
      },
      "source": [
        "# Exercise 3\n",
        "\n",
        "Related Notes:\n",
        "- Chapter_02_Programming_Constructs\n",
        "- Chapter_03_Data_Structures\n",
        "\n",
        "[![Open In Colab](https://colab.research.google.com/assets/colab-badge.svg)](https://colab.research.google.com/github/njc-cz2-2021/Materials/blob/main/Exercises/Exercise-03-Data_Structures.ipynb)"
      ]
    },
    {
      "cell_type": "markdown",
      "metadata": {
        "id": "3thIsOmu2bed"
      },
      "source": [
        "## Exercise 3.1 Dude, What's my Index?\n",
        "\n",
        "Consider the following list\n",
        "\n",
        "``` python\n",
        "[3, 1, 4, 1, 5, 9, 2, 6, 5, 3, 5, 8, 9, 7, 9, 3, 2, 3, 8, 4, 6, 2, 6, 4, 3, 3, 8, 3, 2, 7, 9, 5, 0, 2, 8, 8]\n",
        "```\n",
        "\n",
        "Write a program that print out:\n",
        "- the indices of occurence of each digit (0-9) in the list, and\n",
        "- its number of occurences in the list\n",
        "in the following format.\n",
        "\n",
        ">``` text\n",
        "> <DIGIT> <LIST_OF_INDICES> <NO_OF_OCCURENCES>\n",
        ">```\n",
        "\n",
        "Example Output:\n",
        "\n",
        ">``` text\n",
        "> Digit 0 : [32] : 1\n",
        ">```\n",
        "\n",
        "Try your program again with the following list.\n",
        "\n",
        "``` python\n",
        "[3, 1, 4, 1, 5, 9, 2, 6, 5, 3, 5, 8, 9, 7, 9, 3, 2, 3, 8, 4, 6, 2, 6, 4, 3, 3, 8, 3, 2, 7, 9, 5, 2, 8, 8]\n",
        "```"
      ]
    },
    {
      "cell_type": "code",
      "execution_count": 7,
      "metadata": {
        "colab": {
          "base_uri": "https://localhost:8080/"
        },
        "id": "VmQXOJ7m2bek",
        "outputId": "786e79a7-6df6-4987-c3ff-5a80acda26af"
      },
      "outputs": [
        {
          "output_type": "stream",
          "name": "stdout",
          "text": [
            "Digit 0 : [26] : 1\n",
            "Digit 1 : [1, 1] : 2\n",
            "Digit 2 : [6, 6, 6, 6, 6] : 5\n",
            "Digit 3 : [0, 9, 9, 9, 9, 9, 9] : 7\n",
            "Digit 4 : [2, 2, 2] : 3\n",
            "Digit 5 : [4, 4, 4, 4] : 4\n",
            "Digit 6 : [7, 7, 7] : 3\n",
            "Digit 7 : [13, 13] : 2\n",
            "Digit 8 : [11, 11, 11, 11] : 4\n",
            "Digit 9 : [5, 5, 5, 5] : 4\n"
          ]
        }
      ],
      "source": [
        "listx = [3, 1, 4, 1, 5, 9, 2, 6, 5, 3, 5, 8, 9, 7, 9, 3, 2, 3, 8, 4, 6, 2, 6, 4, 3, 3, 0, 3, 2, 7, 9, 5, 2, 8, 8]\n",
        "\n",
        "for i in range (10):\n",
        "  cnt=listx.count(i)\n",
        "  indices=[]\n",
        "  start=0\n",
        "  for x in range(cnt):\n",
        "    index=listx.index(i,start)\n",
        "    indices.append(index)\n",
        "    start=start+1\n",
        "  print(f\"Digit {i} : {indices} : {cnt}\")"
      ]
    },
    {
      "cell_type": "markdown",
      "metadata": {
        "id": "Z1oaTKXd2ben"
      },
      "source": [
        "## Exercise 3.2 Some Heights Statistics\n",
        "\n",
        "Write a program that:\n",
        "- ask user to input the heights value (in centimeter) of $n$ students. The entered values are integer.\n",
        "- store the input values in list and print the list out\n",
        "- display the lowest, highest and mean of the height of these $n$ students. In case you have forgotten, mean is the arithmetic average.  \n",
        "\n",
        "Example Output:\n",
        "\n",
        ">``` text\n",
        ">Number of heights to be entered: 4\n",
        ">100\n",
        ">120\n",
        ">110\n",
        ">130\n",
        ">The list of heights: [100,120,110,130]\n",
        ">Minimum height is 100 cm, maximum height is 130 cm and the average height is 115.0 cm.\n",
        ">```"
      ]
    },
    {
      "cell_type": "code",
      "execution_count": 10,
      "metadata": {
        "colab": {
          "base_uri": "https://localhost:8080/"
        },
        "id": "rdzkMGnk2beo",
        "outputId": "8a2b3e43-f75d-420f-9e46-c981cbe346c1"
      },
      "outputs": [
        {
          "output_type": "stream",
          "name": "stdout",
          "text": [
            "Number of heights to b entered: 4\n",
            "10\n",
            "11\n",
            "12\n",
            "13\n",
            "the list of heights: [10, 11, 12, 13]\n",
            "minimum height is 10, max height is 13, and average height iss 11.5\n"
          ]
        }
      ],
      "source": [
        "no = int(input(\"Number of heights to b entered: \"))\n",
        "listx = []\n",
        "for i in range (no):\n",
        "  x = int(input())\n",
        "  listx.append(x)\n",
        "print(f\"the list of heights: {listx}\")\n",
        "print(f\"minimum height is {min(listx)}, max height is {max(listx)}, and average height iss {sum(listx)/no}\")\n"
      ]
    },
    {
      "cell_type": "markdown",
      "metadata": {
        "id": "3pbOXYmx2beu"
      },
      "source": [
        "## Exercise 3.3 Binning\n",
        "\n",
        "In a school the grades obtained by a student in a certain subject depends on their mark, ranging from 0 to 100, obtained for the subject and it follows the following table.\n",
        "\n",
        "<center>\n",
        "\n",
        "| Marks ($m$)| Grade |\n",
        "|-------|-------|\n",
        "|   $m<40$    |    U     |\n",
        "|   $40\\leq m\\leq 44$     |    S     |\n",
        "|   $45\\leq m\\leq 49$    |    E     |\n",
        "|   $50\\leq m\\leq 54$    |    D     |\n",
        "|   $55\\leq m\\leq 59$    |    C     |\n",
        "|   $60\\leq m\\leq 69$    | B     |\n",
        "|   $m\\geq 70$    |    A     |\n",
        "\n",
        "</center>\n",
        "\n",
        "Following are the list of marks obtained by students from 2 different classes. `mark_1` is a list from one class and `mark_2` is a list from the other class.\n",
        "\n",
        "``` python\n",
        "mark_1 = [46, 41, 74, 53, 31, 39, 49, 57, 76, 80, 78, 38, 31, 56, 98, 55, 41, 73, 23, 88, 55, 60, 33, 40]\n",
        "mark_2 = [69, 48, 50, 95, 87, 11, 28, 36, 25, 70, 25, 54, 33, 42, 27, 24, 44, 20, 61, 43, 30, 44, 7, 21]\n",
        "```\n",
        "\n",
        "Write a program that:\n",
        "- print outs the list of the students in each grade group for each of the classes in an *descending order* in the following format\n",
        ">``` text\n",
        "><GRADE> <LIST OF DESCENDING MARKS> <NO OF STUDENTS IN THE LIST>\n",
        ">```\n",
        "- if there are no students receiving such grade, print the empty list `[]`.\n",
        "\n",
        "Example Output:\n",
        ">``` text\n",
        ">#Assume the marks are stored in the list [39, 45, 66, 68, 75]\n",
        ">U: [39] 1\n",
        ">S: [] 0\n",
        ">E: [45] 1\n",
        ">D: [] 0\n",
        ">C: [] 0\n",
        ">B: [68, 66] 2\n",
        ">A: [75] 1\n",
        ">```"
      ]
    },
    {
      "cell_type": "code",
      "source": [
        "mark1 = [46, 41, 74, 53, 31, 39, 49, 57, 76, 80, 78, 38, 31, 56, 98, 55, 41, 73, 23, 88, 55, 60, 33, 40]\n",
        "mark2 = [69, 48, 50, 95, 87, 11, 28, 36, 25, 70, 25, 54, 33, 42, 27, 24, 44, 20, 61, 43, 30, 44, 7, 21]\n",
        "\n",
        "mark1.sort()\n",
        "mark2.sort()\n",
        "\n",
        "index = 0 #the starting index of elements that will go through, meaning only consider upperbound of grade as lowerbound dealt by worse grade\n",
        "#deal with every grade\n",
        "grade = {0: \"U\", 1: \"S\", 2: \"E\", 3: \"D\", 4: \"C\", 5: \"B\", 6: \"A\"}\n",
        "mark = {0: 40,\n",
        "        1: 44,\n",
        "        2: 49,\n",
        "        3: 54,\n",
        "        4: 59,\n",
        "        5: 69,\n",
        "        6:101}\n",
        "\n",
        "print(\"Class 1\")\n",
        "for i in range (7):\n",
        "  listx = [n for n in mark1[index:] if n<mark[i]]\n",
        "  index = index+len(listx)\n",
        "  print (f\"{grade[i]}: {listx}: {len(listx)}\")\n",
        "\n",
        "index=0\n",
        "print(\"Class 2\")\n",
        "for i in range (7):\n",
        "  listy = [n for n in mark2[index:] if n<mark[i]]\n",
        "  index = index+len(listy)\n",
        "  print (f\"{grade[i]}: {listy}: {len(listy)}\")\n",
        "\n"
      ],
      "metadata": {
        "colab": {
          "base_uri": "https://localhost:8080/"
        },
        "id": "gQNm0uXLEQFM",
        "outputId": "c9c10f0f-a0b9-45f9-d196-88a4780c7dcd"
      },
      "execution_count": 21,
      "outputs": [
        {
          "output_type": "stream",
          "name": "stdout",
          "text": [
            "Class 1\n",
            "U: [23, 31, 31, 33, 38, 39]: 6\n",
            "S: [40, 41, 41]: 3\n",
            "E: [46]: 1\n",
            "D: [49, 53]: 2\n",
            "C: [55, 55, 56, 57]: 4\n",
            "B: [60]: 1\n",
            "A: [73, 74, 76, 78, 80, 88, 98]: 7\n",
            "Class 2\n",
            "U: [7, 11, 20, 21, 24, 25, 25, 27, 28, 30, 33, 36]: 12\n",
            "S: [42, 43]: 2\n",
            "E: [44, 44, 48]: 3\n",
            "D: [50]: 1\n",
            "C: [54]: 1\n",
            "B: [61]: 1\n",
            "A: [69, 70, 87, 95]: 4\n"
          ]
        }
      ]
    },
    {
      "cell_type": "markdown",
      "metadata": {
        "id": "iGnmS4mg2beu"
      },
      "source": [
        "## Exercise 3.4 A Funny Interest\n",
        "\n",
        "Mr. $B$ was offered an investment opportunity with a company where if he was to invest \\$1000, he was guaranteed a $100%$ yearly interest rate, i.e. Mr. $B$ will be receive \\$2000 after 1 year, inclusive of his capital.  \n",
        "\n",
        "A friend of his that work in the company offers him another deal: same capital \\$1000, same yearly interest rate of $100%$ but applied quarterly for a year, meaning every 3 months, the applied interest rate to the current amount is $\\frac{100}{4}\\%=25\\%$. So, after 3rd month, his investment becomes \\$1250. After 6th month, it's \\$1562.50. After 9th month, it's \\$1953.13.\n",
        "Under this scheme, how much would Mr. $B$'s investment worth after a full year?\n",
        "\n",
        "Suppose that instead of applying the interest rate of 100% quarterly, a human error caused the interest rate to be applied *hourly* instead, for a full year. How much value will Mr. $B$'s investment worth then?"
      ]
    },
    {
      "cell_type": "code",
      "execution_count": null,
      "metadata": {
        "id": "E1-x7W2b2bev"
      },
      "outputs": [],
      "source": [
        "#YOUR CODE HERE"
      ]
    },
    {
      "cell_type": "markdown",
      "metadata": {
        "id": "ZzAhLtpS2be2"
      },
      "source": [
        "## Exercise 3.5 Doubling My Money\n",
        "\n",
        "A customer is considering to deposit her money into a savings account with one of the locally available banks. As of 5th March 2021, the interest rates offered are given in the following table:\n",
        "\n",
        "<center>\n",
        "\n",
        "|         Savings Account        | Yearly Interest rate (%) |\n",
        "|:------------------------------:|:-----------------:|\n",
        "| BOC SmartSaver                 |         1         |\n",
        "| DBS Multiplier Account         |        0.4        |\n",
        "| UOB One Account                |        0.5        |\n",
        "| Standard Chartered Bonus$saver |        0.38       |\n",
        "| OCBC 360 Account               |        0.55       |\n",
        "\n",
        "</center>\n",
        "\n",
        "Write a program that:\n",
        "- Prints out a list that contains the number of years that is required for the money in savings account to double for each type of savings account.\n",
        "\n",
        "Example output:\n",
        "\n",
        ">```text\n",
        ">With 1% yearly interest rate with BOC SmartSaver, it will take ___ years for the money to double.\n",
        ">```\n",
        "\n",
        "For each of the savings account, compare the number of years obtained in the earlier part with the number $\\frac{72}{100r}$, where $r$ is the yearly interest rate. What do you observe? Can you explain your observation?"
      ]
    },
    {
      "cell_type": "code",
      "execution_count": null,
      "metadata": {
        "vscode": {
          "languageId": "plaintext"
        },
        "id": "rOqYo5J02be3"
      },
      "outputs": [],
      "source": [
        "#YOUR CODE HERE"
      ]
    },
    {
      "cell_type": "markdown",
      "metadata": {
        "id": "7RO1wk632be3"
      },
      "source": [
        "## Exercise 3.6 Arithmetic Sequence Revisited\n",
        "\n",
        "Recall from Exercise 1.2, an **arithmetic sequence** is a sequence of real numbers\n",
        "$$u_1,u_2,\\cdots, u_n$$\n",
        "such that the difference between two consecutive terms is constant, i.e. $u_{n+1}-u_n=d$ for some constant $d\\in \\mathbb{R}$ and $d\\neq 0$, called the **common difference** and $n\\geq 1$.\n",
        "\n",
        "The problem:\n",
        "- Request a numeric input from the user to be used as the first term.  Let us denote this input as `first_term`.\n",
        "- Request a numeric input from the user to be used as the common difference.  Let us denote this input as `common_difference`.\n",
        "- Request an integer input greater or equal to $4$ from the user for the number of terms.  Let us denote this input as `number_of_terms`.\n",
        "- Print out the list that contains the arithmetic sequence up to the $n$th term, where $n =$ `number_of_terms`.\n",
        "- Print the list that contains the first 3 terms of the arithmetic sequence.\n",
        "- Print the list that contains the last 4 terms of the arithmetic sequence.\n",
        "- Use an inbuilt function that accepts list as an input to calculate the sum of the first $n$ terms of the arithmetic sequence.\n",
        "\n",
        "Example interaction:\n",
        "\n",
        ">```text\n",
        ">Please input the first term in the arithmetic sequence:\n",
        ">2\n",
        ">Please input the common difference:\n",
        ">3\n",
        ">Please input the number of terms:\n",
        ">5\n",
        ">The list containing the first 5 terms of the arithmetic sequence are:\n",
        ">[2, 5, 8, 11, 14]\n",
        ">The list of the first 3 terms of the sequence is:\n",
        ">[2, 5, 8]\n",
        ">The list of the last 4 terms of the sequence is:\n",
        ">[5, 8, 11, 14]\n",
        ">The sum of all the terms in the sequence is:\n",
        ">40\n",
        ">```"
      ]
    },
    {
      "cell_type": "code",
      "execution_count": null,
      "metadata": {
        "id": "ha-v6y3s2be4"
      },
      "outputs": [],
      "source": [
        "#YOUR CODE HERE"
      ]
    },
    {
      "cell_type": "markdown",
      "metadata": {
        "id": "C-RoDDpk2be-"
      },
      "source": [
        "## Exercise 3.7 Value Swapping\n",
        "\n",
        "Write a program that:\n",
        "- Ask user to input 3 integer values, `x`, `y` and `z` one by one.\n",
        "- Print out `x`, `y` and `z` value before swapping\n",
        "- Write an one-line statement to swap values so that `x` will hold value of `y`, `y` will hold value of `z`, and `z` will hold value of x after running the statement.\n",
        "- Print out `x`, `y` and `z` value after swapping.\n",
        "\n",
        "Example interaction:\n",
        "\n",
        ">```text\n",
        ">Enter the value for x: 10\n",
        ">Enter the value for y: 20\n",
        ">Enter the value for z: 30\n",
        ">Before swapping, x = 10, y = 20, z = 30\n",
        ">After swapping, x = 20, y = 30, z = 10\n",
        ">```"
      ]
    },
    {
      "cell_type": "code",
      "execution_count": 24,
      "metadata": {
        "colab": {
          "base_uri": "https://localhost:8080/"
        },
        "id": "DRlFBlqb2be-",
        "outputId": "5b911d89-dd54-423d-885d-09c8501f5bd8"
      },
      "outputs": [
        {
          "output_type": "stream",
          "name": "stdout",
          "text": [
            "Input value for x: 1\n",
            "Input value for y: 2\n",
            "Input value for z: 3\n",
            "Before swapping, x=1, y=2, z=3\n",
            "After swapping, x=2, y=3, z=1\n"
          ]
        }
      ],
      "source": [
        "x = int(input(\"Input value for x: \"))\n",
        "y = int(input(\"Input value for y: \"))\n",
        "z = int(input(\"Input value for z: \"))\n",
        "print(f\"Before swapping, x={x}, y={y}, z={z}\")\n",
        "\n",
        "#xnew =y, ynew = z, znew= x\n",
        "dummy = x\n",
        "x = y\n",
        "y = z\n",
        "z= dummy\n",
        "print(f\"After swapping, x={x}, y={y}, z={z}\")"
      ]
    },
    {
      "cell_type": "markdown",
      "metadata": {
        "id": "dGNL4p_H2be_"
      },
      "source": [
        "## Exercise 3.8 Dots in a Square\n",
        "\n",
        "In Python, we can generate random values between -1 and 1 by:\n",
        "\n",
        "- importing the `random` module, and then\n",
        "- using `random.uniform(-1,1)` method.\n",
        "\n",
        "Write a program that:\n",
        "\n",
        "0. set `n` to be 100\n",
        "1. creates a list called `coordinates` which contain `n` tuples with 2 elements each where each element in the tuple is a randomly generated real number between -1 and 1 inclusive, i.e. each element in `coordinates` is of the following form `(element_1,element_2)`. This list represents 100 random points in the cartesian plane ($xy$-plane) where the $x$-coordinates and $y$-coordinates are between -1 and 1 inclusive.\n",
        "2. print out the number of the generated random points (i.e., elements in `coordinates`) that has a distance of at most 1 unit away from the origin $O$. Recall that the distance $d$ from origin to a point $\\left(x,y\\right)$ is $d=\\sqrt{x^2+y^2}$. You can use the method `math.sqrt(your_number)` to find the square root of a number.\n",
        "3. print out also `frac`, the fraction of the number of such points out of $n$ points.\n",
        "4. print out `frac*4`.\n",
        "5. repeat steps 1-5 above with `n` set to be 1000, 10000, 100000.\n",
        "\n",
        "What can you observe about the values of `frac*4` as the `n` increases?\n",
        "\n",
        "Example interaction:\n",
        "\n",
        ">```text\n",
        ">#Assume collection = [(1, 0.7), (0.5, 0.5), (-1, -1)]\n",
        ">Number of points that has a distance of at most 1 unit away from the origin: 1\n",
        ">Fraction of such numbers : 0.3333333\n",
        ">4*frac : 1.333333332\n",
        ">```"
      ]
    },
    {
      "cell_type": "code",
      "execution_count": null,
      "metadata": {
        "id": "yZe3f9Yn2be_"
      },
      "outputs": [],
      "source": [
        "#DO NOT DELETE THE FOLLOWING IMPORT\n",
        "import random\n",
        "import math\n",
        "\n",
        "#TESTING THE METHODS UNIFORM AND SQRT\n",
        "print(random.uniform(-1,1))\n",
        "print(math.sqrt(2))"
      ]
    },
    {
      "cell_type": "markdown",
      "metadata": {
        "id": "iqovoFP82bfF"
      },
      "source": [
        "## Exercise 3.9 3D Vector Operations\n",
        "\n",
        "In mathematics, a real valued 3-dimensional vector is a collection of 3 values $\\left(\\begin{array}{c}\n",
        "a_{1}\\\\\n",
        "a_{2}\\\\\n",
        "a_{3}\n",
        "\\end{array}\\right)$, where $a_1,a_2,a_3 \\in \\mathbb{R}$.\n",
        "\n",
        "Binary operation between vectors differs from operation between numbers and some of such operations are defined as such:\n",
        "- addition $+$, which operates between 2 vectors and returns a vector, $\\left(\\begin{array}{c}\n",
        "a_{1}\\\\\n",
        "a_{2}\\\\\n",
        "a_{3}\n",
        "\\end{array}\\right)+\\left(\\begin{array}{c}\n",
        "b_{1}\\\\\n",
        "b_{2}\\\\\n",
        "b_{3}\n",
        "\\end{array}\\right)=\\left(\\begin{array}{c}\n",
        "a_{1}+b_{1}\\\\\n",
        "a_{2}+b_{2}\\\\\n",
        "a_{3}+b_{3}\n",
        "\\end{array}\\right)$,\n",
        "- dot product $\\cdot$, which operates between 2 vector and returns a real number, $\\left(\\begin{array}{c}\n",
        "a_{1}\\\\\n",
        "a_{2}\\\\\n",
        "a_{3}\n",
        "\\end{array}\\right)\\cdot\\left(\\begin{array}{c}\n",
        "b_{1}\\\\\n",
        "b_{2}\\\\\n",
        "b_{3}\n",
        "\\end{array}\\right)=a_{1}b_{1}+a_{2}b_{2}+a_{3}b_{3}$,\n",
        "- cross product $\\times$, which operates between 2 vectors and returns yet another vector, $\\left(\\begin{array}{c}\n",
        "a_{1}\\\\\n",
        "a_{2}\\\\\n",
        "a_{3}\n",
        "\\end{array}\\right)\\times\\left(\\begin{array}{c}\n",
        "b_{1}\\\\\n",
        "b_{2}\\\\\n",
        "b_{3}\n",
        "\\end{array}\\right)=\\left(\\begin{array}{c}\n",
        "a_{2}b_{3}-a_{3}b_{2}\\\\\n",
        "-\\left(a_{1}b_{3}-a_{3}b_{1}\\right)\\\\\n",
        "a_{1}b_{2}-a_{2}b_{1}\n",
        "\\end{array}\\right)$.\n",
        "\n",
        "Write a program that:\n",
        "- Ask user to input 6 float values `x1`, `y1`, `z1`, `x2`, `y2`, `z2`\n",
        "- Stores the 6 values above in a list called `vectors` that contained the tuples `(x1,y1,z1)` and `(x2,y2,z2)`. We will use each of these tuples to represent a 3-dimensional vector.\n",
        "- Print out the list `vectors`.\n",
        "- Implement the 3 vector operations defined above and print out the result. Refer to the example interaction below for the format.\n",
        "\n",
        "Example interaction:\n",
        "\n",
        ">```text\n",
        ">Enter the value for x1: 1\n",
        ">Enter the value for y1: 2\n",
        ">Enter the value for z1: 3\n",
        ">Enter the value for x2: 4\n",
        ">Enter the value for y2: 5\n",
        ">Enter the value for z2: 6\n",
        ">vectors : [(1, 2, 3), (4, 5, 6)]\n",
        ">addition : (1, 2, 3) + (4, 5, 6) = (5, 7, 9)\n",
        ">dot product : (1, 2, 3) . (4, 5, 6) = 32\n",
        ">cross product : (1, 2, 3) x (4, 5, 6) = (-3, 6, -3)\n",
        ">```"
      ]
    },
    {
      "cell_type": "code",
      "execution_count": 35,
      "metadata": {
        "colab": {
          "base_uri": "https://localhost:8080/"
        },
        "id": "T5ZuyhRL2bfH",
        "outputId": "1ba07894-46cf-4a1a-bdd8-65497ea870b4"
      },
      "outputs": [
        {
          "output_type": "stream",
          "name": "stdout",
          "text": [
            "Enter the value for x1: 1\n",
            "Enter the value for y1: 2\n",
            "Enter the value for z1: 3\n",
            "Enter the value for x2: 4\n",
            "Enter the value for y2: 5\n",
            "Enter the value for z2: 6\n",
            "vectors: [(1, 2, 3), (4, 5, 6)]\n",
            "additions: (1, 2, 3) + (4, 5, 6) = (5, 7, 9)\n",
            "dot product = (1, 2, 3) . (4, 5, 6) = 32\n",
            "cross product = (1, 2, 3) x (4, 5, 6) = (-3, 6, -3)\n"
          ]
        }
      ],
      "source": [
        "x1 = int(input(\"Enter the value for x1: \"))\n",
        "y1 = int(input(\"Enter the value for y1: \"))\n",
        "z1 = int(input(\"Enter the value for z1: \"))\n",
        "x2 = int(input(\"Enter the value for x2: \"))\n",
        "y2 = int(input(\"Enter the value for y2: \"))\n",
        "z2 = int(input(\"Enter the value for z2: \"))\n",
        "vectors = [(x1,y1,z1), (x2, y2, z2)]\n",
        "print(f\"vectors: {vectors}\")\n",
        "print(f\"additions: {vectors[0]} + {vectors[1]} = ({x1+x2}, {y1+y2}, {z1+z2})\")\n",
        "print(f\"dot product = {vectors[0]} . {vectors[1]} = {x1*x2+y1*y2+z1*z2}\")\n",
        "print (f\"cross product = {vectors[0]} x {vectors[1]} = ({y1*z2-y2*z1}, {z1*x2-z2*x1}, {x1*y2-x2*y1})\")\n",
        "\n",
        ""
      ]
    },
    {
      "cell_type": "code",
      "source": [],
      "metadata": {
        "id": "fEizWGzYPBoQ"
      },
      "execution_count": null,
      "outputs": []
    }
  ],
  "metadata": {
    "kernelspec": {
      "display_name": "Python 3",
      "language": "python",
      "name": "python3"
    },
    "language_info": {
      "codemirror_mode": {
        "name": "ipython",
        "version": 3
      },
      "file_extension": ".py",
      "mimetype": "text/x-python",
      "name": "python",
      "nbconvert_exporter": "python",
      "pygments_lexer": "ipython3",
      "version": "3.10.2"
    },
    "orig_nbformat": 2,
    "vscode": {
      "interpreter": {
        "hash": "a42ccb73e7d9bfdf27e036f1d2b8b681e55fc0743cc5586bc2474d4a60f4b886"
      }
    },
    "colab": {
      "provenance": []
    }
  },
  "nbformat": 4,
  "nbformat_minor": 0
}