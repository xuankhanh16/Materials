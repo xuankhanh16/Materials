{
  "cells": [
    {
      "cell_type": "markdown",
      "metadata": {
        "id": "HZqqFzEZNxxS"
      },
      "source": [
        "# Learning Objectives\n",
        "\n",
        "- [ ]  2.2.1 Understand the different types: integer `int`, real `float`, char `chr`, string `str` and Boolean `Boolean` and initialise arrays `list`, `tuple` (1-dimensional and 2-dimensional).\n",
        "\n",
        "[![Open In Colab](https://colab.research.google.com/assets/colab-badge.svg)](https://colab.research.google.com/github/njc-cz2-2021/Materials/blob/main/Notes/Chapter_03_Data_Structures.ipynb)"
      ]
    },
    {
      "cell_type": "markdown",
      "metadata": {
        "id": "P1674DkoNxxX"
      },
      "source": [
        "# 3 Basic Data Structures\n",
        "\n",
        "In computer science, a data structure is a data organization, management, and storage format that enables efficient access and modification. More precisely, a data structure is a collection of data values, the relationships among them, and the functions or operations that can be applied to the data.\n",
        "\n",
        "## 3.1 Array\n",
        "\n",
        "An array, is a data structure consisting of a collection of elements (values or variables), each identified by at least one array index or key. We will focus on two commonly used ones in Python.\n",
        "\n",
        "### 3.1.1 List\n",
        "\n",
        "**Lists** are the most commonly used data structure in Python.\n",
        "\n",
        "* It is a **mutable** collection, i.e. its items can be added and removed.\n",
        "* Each of these data can be accessed by calling its index value."
      ]
    },
    {
      "cell_type": "markdown",
      "metadata": {
        "id": "BJp-k_xkNxxY"
      },
      "source": [
        "#### 3.1.1.1 Creating a list\n",
        "\n",
        "Lists are declared/created by just equating a variable to `[]` or list.\n",
        "\n",
        "```python\n",
        "empty_list = []\n",
        "print(type(empty_list))\n",
        "```\n",
        "\n",
        "Items in the list are seperated by comma `,`.\n",
        "```python\n",
        "nums = [1, 2, 3, 4]\n",
        "nums\n",
        "```"
      ]
    },
    {
      "cell_type": "code",
      "execution_count": null,
      "metadata": {
        "colab": {
          "base_uri": "https://localhost:8080/"
        },
        "id": "zY42V92INxxZ",
        "outputId": "26e64842-0131-4795-e9d9-122a130ecb19"
      },
      "outputs": [
        {
          "output_type": "stream",
          "name": "stdout",
          "text": [
            "<class 'list'>\n"
          ]
        }
      ],
      "source": [
        "empty_list = []\n",
        "print(type(empty_list))"
      ]
    },
    {
      "cell_type": "markdown",
      "metadata": {
        "id": "lUg7LIr2Nxxa"
      },
      "source": [
        "List element can be of any data type.\n",
        "\n",
        "```python\n",
        "fruits = ['apple', 'banana', 'cherry', 'durian']\n",
        "fruits\n",
        "```"
      ]
    },
    {
      "cell_type": "code",
      "execution_count": null,
      "metadata": {
        "id": "oG5-U3hyNxxb"
      },
      "outputs": [],
      "source": [
        "# YOUR CODE HERE"
      ]
    },
    {
      "cell_type": "markdown",
      "metadata": {
        "id": "cljvyteDNxxb"
      },
      "source": [
        "In fact, it is able to hold elements of *mixed data types*, although this is not commonly used.\n",
        "\n",
        "```python\n",
        "mixed = ['apple', 3, 'banana', 5.0, True, None, (1,), [1,23]]\n",
        "mixed\n",
        "```"
      ]
    },
    {
      "cell_type": "code",
      "execution_count": null,
      "metadata": {
        "colab": {
          "base_uri": "https://localhost:8080/"
        },
        "id": "gVAicjTxNxxc",
        "outputId": "acedc187-00da-4432-caf1-42ad37361fa4"
      },
      "outputs": [
        {
          "output_type": "stream",
          "name": "stdout",
          "text": [
            "<class 'str'>\n",
            "<class 'int'>\n",
            "<class 'str'>\n",
            "<class 'float'>\n",
            "<class 'bool'>\n",
            "<class 'NoneType'>\n",
            "<class 'tuple'>\n",
            "<class 'list'>\n"
          ]
        }
      ],
      "source": [
        "mixed = ['apple', 3, 'banana', 5.0, True, None, (1,), [1,23]]\n",
        "for i in mixed:\n",
        "  print(type(i))"
      ]
    },
    {
      "cell_type": "markdown",
      "metadata": {
        "id": "47vTNQO5Nxxc"
      },
      "source": [
        "List can also have **lists as its element**, which creates a `nested list`.\n",
        "\n",
        "```python\n",
        "nested = [ [10, 11, 12, 13],\n",
        "           [20, 21, 22, 23] ]\n",
        "nested\n",
        "```"
      ]
    },
    {
      "cell_type": "code",
      "execution_count": null,
      "metadata": {
        "colab": {
          "base_uri": "https://localhost:8080/"
        },
        "id": "8G_w1_4YNxxc",
        "outputId": "fe1b1ca0-4d9a-4747-e70f-bd2e3a2eae83"
      },
      "outputs": [
        {
          "output_type": "stream",
          "name": "stdout",
          "text": [
            "[10, 11, 12, 13]\n",
            "[20, 21, 22, 23]\n",
            "[10, 11, 12, 13]\n",
            "[20, 21, 22, 23]\n",
            "12\n"
          ]
        }
      ],
      "source": [
        "nested = [ [10, 11, 12, 13],\n",
        "           [20, 21, 22, 23] ]\n",
        "\n",
        "i=0\n",
        "while i < 2:\n",
        "  print (nested[i])\n",
        "  i +=1\n",
        "\n",
        "for i in nested:\n",
        "  print (i)\n",
        "\n",
        "\n",
        "print (nested[0][2])"
      ]
    },
    {
      "cell_type": "markdown",
      "metadata": {
        "id": "X8D35z5pNxxd"
      },
      "source": [
        "#### 3.1.1.2 Accessing Elements in a list via Indexing\n",
        "\n",
        "Items in collection can be accessed by their indexes. Python uses zero-based indexing, i.e. index starts from 0.\n",
        "\n",
        "```python\n",
        "print(fruits)\n",
        "print(fruits[0])\n",
        "print(fruits[1])\n",
        "```"
      ]
    },
    {
      "cell_type": "code",
      "execution_count": null,
      "metadata": {
        "id": "ZVlSn9_gNxxd"
      },
      "outputs": [],
      "source": [
        "# YOUR CODE HERE"
      ]
    },
    {
      "cell_type": "markdown",
      "metadata": {
        "id": "XqPxT6MuNxxd"
      },
      "source": [
        "Indexing can also be done in reverse order by using a negative value as the index. That is the last element of the list has an index of -1, and second last element has index of -2 etc. This is called **negative indexing**.\n",
        "\n",
        "<center><img src=\"https://github.com/njc-cz2-2021/Materials/blob/main/Notes/images/list-indexing.png?raw=1\" alt=\"Set Venn Diagram\" style=\"width: 400px;\"/></center>\n",
        "\n",
        "```python\n",
        "fruits[-1]\n",
        "fruits[-2]\n",
        "```"
      ]
    },
    {
      "cell_type": "code",
      "execution_count": null,
      "metadata": {
        "colab": {
          "base_uri": "https://localhost:8080/"
        },
        "id": "gNpCIJJkNxxd",
        "outputId": "a722a12f-13ca-4324-9dee-6761fcc943a3"
      },
      "outputs": [
        {
          "output_type": "stream",
          "name": "stdout",
          "text": [
            "apple\n"
          ]
        }
      ],
      "source": [
        "mixed = ['apple', 3, 'banana', 5.0, True, None, (1,), [1,23]]\n",
        "print (mixed[0])"
      ]
    },
    {
      "cell_type": "markdown",
      "metadata": {
        "id": "g2Eg2r0_Nxxe"
      },
      "source": [
        "For nested list, we can access items by **multi-level indexing**. Each level of the index always starts from 0.\n",
        "\n",
        "For example, access 1st element in 1st list, and 2nd element in 2nd list\n",
        "```python\n",
        "print(nested)\n",
        "print(nested[0][0])\n",
        "print(nested[1][1])\n",
        "```"
      ]
    },
    {
      "cell_type": "code",
      "execution_count": null,
      "metadata": {
        "id": "_jOEXzvVNxxe"
      },
      "outputs": [],
      "source": [
        "# YOUR CODE HERE"
      ]
    },
    {
      "cell_type": "markdown",
      "metadata": {
        "id": "KYW7G6FkNxxe"
      },
      "source": [
        "#### Exercise 3.1\n",
        "\n",
        "How do you access element `Blackcurrant` in following list?\n",
        "```python\n",
        "nested_fruits = [\n",
        "    ['Apple', 'Apricots', 'Avocado'],\n",
        "    ['Banana', 'Blackcurrant', 'Blueberries'],\n",
        "    ['Cherries', 'Cranberries', 'Custard-Apple']]\n",
        "```"
      ]
    },
    {
      "cell_type": "code",
      "execution_count": null,
      "metadata": {
        "tags": [
          "hide-cell"
        ],
        "id": "4Y0xQ3phNxxe"
      },
      "outputs": [],
      "source": [
        "# YOUR CODE HERE"
      ]
    },
    {
      "cell_type": "markdown",
      "metadata": {
        "id": "XG2UFUIdNxxe"
      },
      "source": [
        "#### 3.1.1.2 Accessing Subsets Elements in a list via Slicing\n",
        "\n",
        "**Indexing** was only limited to accessing a single element.\n",
        "**Slicing** on the other hand is accessing a sequence of data inside the list.\n",
        "\n",
        "**Slicing** is done by defining the index values of the `first element` and the `last element` from the parent list that is required in the sliced list.\n",
        "\n",
        "```python\n",
        "sub = num[a : b]\n",
        "sub = num[a : ]\n",
        "sub = num[: b]\n",
        "sub = num[:]\n",
        "```\n",
        "\n",
        "* if both `a` and `b` are specified, `a` is the first index, `b` is the **last index + 1**.\n",
        "* if `b` is omitted, it will slice till last element.\n",
        "* if `a` is omitted, it will starts from first element.\n",
        "* if neither `a` or `b` is specified, it is effectively copy the whole list\n",
        "\n",
        "**Note: the upper bound index is NOT inclusive!**\n",
        "\n",
        "List slicing can also be used to extract elements at indices that differs by a constant `diff` (i.e the indices formed a arithmetic progression) with the following syntax\n",
        "```python\n",
        "sub = num[a:b:diff]\n",
        "```"
      ]
    },
    {
      "cell_type": "markdown",
      "metadata": {
        "id": "iu74UOwwNxxe"
      },
      "source": [
        "\n",
        "\n",
        "#### Exercise 3.2\n",
        "\n",
        "* Create a list containing numbers 0-9\n",
        "* Print 3rd to 5th items\n",
        "* Print all items after 6th position"
      ]
    },
    {
      "cell_type": "code",
      "execution_count": null,
      "metadata": {
        "colab": {
          "base_uri": "https://localhost:8080/"
        },
        "id": "vnbaKzVXNxxe",
        "outputId": "7aaddef3-d21c-4bc7-cb42-cb1556ec1d77"
      },
      "outputs": [
        {
          "output_type": "stream",
          "name": "stdout",
          "text": [
            "num1 is  [0, 2, 4, 6, 8]\n",
            "num2 is  [0, 1, 2, 3, 4, 5, 6, 7, 8, 9]\n"
          ]
        },
        {
          "output_type": "execute_result",
          "data": {
            "text/plain": [
              "[2, 3, 4, 5]"
            ]
          },
          "metadata": {},
          "execution_count": 13
        }
      ],
      "source": [
        "#ways to make a list of consecutive numbr\n",
        "\n",
        "num = [1, 2, 3, 4, 5, 6, 7, 8, 9]\n",
        "num1 = [i for i in range(0,10, 2)]\n",
        "num2 = list(range(10))\n",
        "\n",
        "\n",
        "print(f\"num1 is  {num1}\")\n",
        "print(f\"num2 is  {num2}\")\n",
        "sub = num[1 : 5]\n",
        "sub\n"
      ]
    },
    {
      "cell_type": "code",
      "source": [],
      "metadata": {
        "id": "FC7ZKbnYTXej"
      },
      "execution_count": null,
      "outputs": []
    },
    {
      "cell_type": "markdown",
      "metadata": {
        "id": "Vxd8WtVbNxxf"
      },
      "source": [
        "#### Exercise 3.3\n",
        "The `num` is a list of integers from 0 to 9, split the list into 2 equal size sub list, `sub1` and `sub2`.\n",
        "\n",
        "```python\n",
        "num = [0, 1, 2, 3, 4, 5, 6, 7, 8, 9]\n",
        "```"
      ]
    },
    {
      "cell_type": "code",
      "execution_count": null,
      "metadata": {
        "tags": [
          "hide-cell"
        ],
        "colab": {
          "base_uri": "https://localhost:8080/"
        },
        "id": "timaccWqNxxf",
        "outputId": "1e9db300-7e7d-4370-b442-9706ce479276"
      },
      "outputs": [
        {
          "output_type": "stream",
          "name": "stdout",
          "text": [
            "[0, 1, 2, 3, 4]\n",
            "[9, 8, 7, 6, 5]\n"
          ]
        }
      ],
      "source": [
        "num = [i for i in range (10)]\n",
        "sub1 = []\n",
        "sub2 = []\n",
        "leneachsub = int(len(num)/2)\n",
        "for i in range (leneachsub):\n",
        "  sub1.append(num[i])\n",
        "  x = i*(-1) - 1\n",
        "  sub2.append(num[x])\n",
        "\n",
        "\n",
        "print(sub1)\n",
        "print(sub2)\n"
      ]
    },
    {
      "cell_type": "markdown",
      "metadata": {
        "id": "wm2Y8ypCNxxf"
      },
      "source": [
        "Remember list items can be accessed using `negative index`. Same technique can be applied for slicing too, i.e. we can **slice with negative index**.\n",
        "\n",
        "* Last item has index of -1\n",
        "\n",
        "#### Exercise 3.4\n",
        "\n",
        "For a list with integer 0-9,\n",
        "* How to get last 3 items from a list?\n",
        "* How to ignore last 3 items from a list?\n",
        "* How to strip first and last items from a list?"
      ]
    },
    {
      "cell_type": "code",
      "execution_count": null,
      "metadata": {
        "tags": [
          "hide-cell"
        ],
        "id": "9iJ1dlN8Nxxf"
      },
      "outputs": [],
      "source": [
        "# YOUR CODE HERE"
      ]
    },
    {
      "cell_type": "markdown",
      "metadata": {
        "id": "yVkTT2HaNxxf"
      },
      "source": [
        "#### 3.1.1.3 Working with Lists"
      ]
    },
    {
      "cell_type": "markdown",
      "metadata": {
        "id": "HF6bTRy5Nxxf"
      },
      "source": [
        "##### 3.1.1.3.1 Length of lists `len()`\n",
        "To find the length of the list or the number of elements in a list, the function `len( )` is used. Syntax is\n",
        "```python\n",
        "len(your_list)\n",
        "```\n",
        "\n",
        "#### Exercise 3.5\n",
        "Find the length of list `num = [0,1,2,3,4,5,6,7,8,9]`"
      ]
    },
    {
      "cell_type": "code",
      "execution_count": null,
      "metadata": {
        "colab": {
          "base_uri": "https://localhost:8080/"
        },
        "id": "tTP8qNAZNxxf",
        "outputId": "5bb943fc-c4c0-4e3e-9ce8-627f13e073b9"
      },
      "outputs": [
        {
          "output_type": "execute_result",
          "data": {
            "text/plain": [
              "10"
            ]
          },
          "metadata": {},
          "execution_count": 3
        }
      ],
      "source": [
        "num = [i for i in range (10)]\n",
        "\n",
        "length = len(num)\n",
        "length"
      ]
    },
    {
      "cell_type": "markdown",
      "metadata": {
        "id": "_U1R7SQWNxxf"
      },
      "source": [
        "##### 3.1.1.3.2 Maximum `max()`, minimum `min()` and sum `sum()` of all the values in the list\n",
        "\n",
        "If the list consists of all integer elements, the functions `min( )`, `max( )` and `sum()` gives the minimum item, maximum item and total sum value of the list. Syntax is\n",
        "```python\n",
        "max(your_list)\n",
        "min(your_list)\n",
        "sum(your_list)\n",
        "```\n",
        "\n",
        "#### Exercise 3.5\n",
        "Find the minimum value, max value and sum of all the values of list `num = [0,1,2,3,4,5,6,7,8,9]`"
      ]
    },
    {
      "cell_type": "code",
      "execution_count": null,
      "metadata": {
        "id": "apG-IY0ONxxf"
      },
      "outputs": [],
      "source": [
        "# YOUR CODE HERE"
      ]
    },
    {
      "cell_type": "markdown",
      "metadata": {
        "id": "ukHSRwn8Nxxg"
      },
      "source": [
        "#### Exercise 3.6\n",
        "Find the maximum, minimum and sum of all the values of list `num = [0,1,2,3,4,5,6,7,8,9]` and use `.format()` string method to print out the following message.\n",
        "```python\n",
        "min = 0, max = 9, sum = 45\n",
        "```"
      ]
    },
    {
      "cell_type": "code",
      "execution_count": null,
      "metadata": {
        "tags": [
          "hide-cell"
        ],
        "id": "TN7SgjpTNxxg"
      },
      "outputs": [],
      "source": [
        "# YOUR CODE HERE"
      ]
    },
    {
      "cell_type": "markdown",
      "metadata": {
        "id": "b7c1c2ryNxxg"
      },
      "source": [
        "For a list with elements as string, the `max()` and `min()` is still applicable.\n",
        "* `max()` would return a string element whose ASCII value is the highest\n",
        "* `min()` is used to return the lowest\n",
        "\n",
        "Note that only the first index of each element is considered each time and if they value is the same then second index considered so on and so forth."
      ]
    },
    {
      "cell_type": "markdown",
      "metadata": {
        "id": "7YGKT9uDNxxg"
      },
      "source": [
        "#### Exercise 3.7\n",
        "\n",
        "What is the output of `min()` and `max()` on following list? What would happen if `sum()` is applied?\n",
        "\n",
        "\n",
        "```python\n",
        "jc = ['tmjc', 'vjc', 'tjc', 'yijc', 'acjc', 'njc', 'hci', 'asrjc', 'jpjc', 'rjc', 'cjc', 'mi', 'dhs', 'ejc', 'sajc', 'nyjc']\n",
        "```"
      ]
    },
    {
      "cell_type": "code",
      "execution_count": null,
      "metadata": {
        "colab": {
          "base_uri": "https://localhost:8080/"
        },
        "id": "2kkRbLJMNxxg",
        "outputId": "7aec5e02-869e-4eac-b7fb-be5b1d2fb986"
      },
      "outputs": [
        {
          "output_type": "stream",
          "name": "stdout",
          "text": [
            "acjc\n",
            "yijc\n"
          ]
        }
      ],
      "source": [
        "jc = ['tmjc', 'vjc', 'tjc', 'yijc', 'acjc', 'njc', 'hci', 'asrjc', 'jpjc', 'rjc', 'cjc', 'mi', 'dhs', 'ejc', 'sajc', 'nyjc']\n",
        "minjc = min(jc)\n",
        "maxjc = max(jc)\n",
        "\n",
        "print(minjc)\n",
        "print (maxjc)"
      ]
    },
    {
      "cell_type": "markdown",
      "metadata": {
        "id": "ujwK8xQ6Nxxg"
      },
      "source": [
        "##### 3.1.1.3.3 Reversing the values in a list with `reversed()` function\n",
        "\n",
        "The entire elements present in the list can be reversed by using the `reversed()` function.\n",
        "\n",
        "#### Exercise 3.8\n",
        "Modify following list by arranging items in reverse order.\n",
        "\n",
        "```python\n",
        "jc = ['tmjc', 'vjc', 'tjc', 'yijc', 'acjc', 'njc', 'hci', 'asrjc', 'jpjc', 'rjc', 'cjc', 'mi', 'dhs', 'ejc', 'sajc', 'nyjc']\n",
        "```"
      ]
    },
    {
      "cell_type": "code",
      "execution_count": null,
      "metadata": {
        "colab": {
          "base_uri": "https://localhost:8080/"
        },
        "id": "aPBJWQh9Nxxh",
        "outputId": "5a19a3ee-8d22-41a5-f9ae-ca0bdcdc46b1"
      },
      "outputs": [
        {
          "output_type": "stream",
          "name": "stdout",
          "text": [
            "['nyjc', 'sajc', 'ejc', 'dhs', 'mi', 'cjc', 'rjc', 'jpjc', 'asrjc', 'hci', 'njc', 'acjc', 'yijc', 'tjc', 'vjc', 'tmjc']\n",
            "<class 'list'>\n",
            "['tmjc', 'vjc', 'tjc', 'yijc', 'acjc', 'njc', 'hci', 'asrjc', 'jpjc', 'rjc', 'cjc', 'mi', 'dhs', 'ejc', 'sajc', 'nyjc']\n"
          ]
        }
      ],
      "source": [
        "jc = ['tmjc', 'vjc', 'tjc', 'yijc', 'acjc', 'njc', 'hci', 'asrjc', 'jpjc', 'rjc', 'cjc', 'mi', 'dhs', 'ejc', 'sajc', 'nyjc']\n",
        "\n",
        "\n",
        "#jc.reverse()  #-> modify directly on the list itself\n",
        "#print (jc)\n",
        "\n",
        "\n",
        "#reversejc = list(jc.reverse)  --> does not work as jc list is reversed itself\n",
        "\n",
        "revjc = list(reversed(jc))  #cast it to list\n",
        "\n",
        "print (type(revjc))\n",
        "print (revjc)"
      ]
    },
    {
      "cell_type": "markdown",
      "metadata": {
        "id": "NZXVE125Nxxh"
      },
      "source": [
        "#### Exercise 3.9\n",
        "\n",
        "Can you print out the items in reverse order without modifying the list?\n",
        "* Hint: use indexing with step `-1`\n",
        "\n",
        "```python\n",
        "jc = ['tmjc', 'vjc', 'tjc', 'yijc', 'acjc', 'njc', 'hci', 'asrjc', 'jpjc', 'rjc', 'cjc', 'mi', 'dhs', 'ejc', 'sajc', 'nyjc']\n",
        "```"
      ]
    },
    {
      "cell_type": "code",
      "execution_count": null,
      "metadata": {
        "colab": {
          "base_uri": "https://localhost:8080/"
        },
        "id": "BNwJCuldNxxh",
        "outputId": "3f82cdd5-0449-4e40-8edf-3e4871e6cc6f"
      },
      "outputs": [
        {
          "output_type": "stream",
          "name": "stdout",
          "text": [
            "['nyjc', 'sajc', 'ejc', 'dhs', 'mi', 'cjc', 'rjc', 'jpjc', 'asrjc', 'hci', 'njc', 'acjc', 'yijc', 'tjc', 'vjc', 'tmjc']\n"
          ]
        }
      ],
      "source": [
        "jc = ['tmjc', 'vjc', 'tjc', 'yijc', 'acjc', 'njc', 'hci', 'asrjc', 'jpjc', 'rjc', 'cjc', 'mi', 'dhs', 'ejc', 'sajc', 'nyjc']\n",
        "\n",
        "print(jc[::-1])"
      ]
    },
    {
      "cell_type": "markdown",
      "metadata": {
        "id": "0Gq3sNzdNxxo"
      },
      "source": [
        "##### 3.1.1.3.3 Sorting elements in a list with `sorted()` function\n",
        "\n",
        "Python offers built in operation `sorted( )` to arrange the elements in **ascending** order. Syntax is\n",
        "\n",
        "```python\n",
        "sorted(your_list)\n",
        "```\n",
        "\n",
        "For **descending** order, specify the named argument `reverse = True`. Syntax is\n",
        "\n",
        "```python\n",
        "sorted(your_list, reverse = True)\n",
        "```\n",
        "\n",
        "By default the reverse condition will be `False` for reverse. Hence changing it to `True` would arrange the elements in descending order."
      ]
    },
    {
      "cell_type": "markdown",
      "metadata": {
        "id": "pD77YvAFNxxo"
      },
      "source": [
        "#### Exercise 3.10\n",
        "\n",
        "* Check out the documentation of `list.sort()` method\n",
        "* Sort following list in <u>ascending</u> order, and then in <u>descending</u> order\n",
        "```python\n",
        "jc = ['tmjc', 'vjc', 'tjc', 'yijc', 'acjc', 'njc', 'hci', 'asrjc', 'jpjc', 'rjc', 'cjc', 'mi', 'dhs', 'ejc', 'sajc', 'nyjc']\n",
        "\n",
        "```"
      ]
    },
    {
      "cell_type": "code",
      "execution_count": null,
      "metadata": {
        "colab": {
          "base_uri": "https://localhost:8080/"
        },
        "id": "a2kB_XtHNxxo",
        "outputId": "7583a1e2-f858-419a-b43b-b96a5dda0b8a"
      },
      "outputs": [
        {
          "output_type": "stream",
          "name": "stdout",
          "text": [
            "['yijc', 'vjc', 'tmjc', 'tjc', 'sajc', 'rjc', 'nyjc', 'njc', 'mi', 'jpjc', 'hci', 'ejc', 'dhs', 'cjc', 'asrjc', 'acjc']\n"
          ]
        },
        {
          "output_type": "execute_result",
          "data": {
            "text/plain": [
              "['yijc',\n",
              " 'vjc',\n",
              " 'tmjc',\n",
              " 'tjc',\n",
              " 'sajc',\n",
              " 'rjc',\n",
              " 'nyjc',\n",
              " 'njc',\n",
              " 'mi',\n",
              " 'jpjc',\n",
              " 'hci',\n",
              " 'ejc',\n",
              " 'dhs',\n",
              " 'cjc',\n",
              " 'asrjc',\n",
              " 'acjc']"
            ]
          },
          "metadata": {},
          "execution_count": 34
        }
      ],
      "source": [
        "jc = ['tmjc', 'vjc', 'tjc', 'yijc', 'acjc', 'njc', 'hci', 'asrjc', 'jpjc', 'rjc', 'cjc', 'mi', 'dhs', 'ejc', 'sajc', 'nyjc']\n",
        "jc.sort()    #change the orignial function\n",
        "jc.sort(reverse=True) #reverse sort on the list itself\n",
        "revjc = sorted(jc, reverse = True)   #--> no need to cast for list\n",
        "\n",
        "\n",
        "print(jc)\n",
        "revjc"
      ]
    },
    {
      "cell_type": "markdown",
      "metadata": {
        "id": "EvzXU8iKNxxo"
      },
      "source": [
        "#### Exercise 3.11\n",
        "\n",
        "* What's the difference between `list.sort()` method and `sorted()` function?\n",
        "* Write code to illustrate the difference.\n"
      ]
    },
    {
      "cell_type": "code",
      "execution_count": null,
      "metadata": {
        "colab": {
          "base_uri": "https://localhost:8080/"
        },
        "id": "PMeeGEqpNxxp",
        "outputId": "39c965d2-cadf-4b0b-9003-ddd2d14760a9"
      },
      "outputs": [
        {
          "output_type": "stream",
          "name": "stdout",
          "text": [
            "Help on class reversed in module builtins:\n",
            "\n",
            "class reversed(object)\n",
            " |  reversed(sequence, /)\n",
            " |  \n",
            " |  Return a reverse iterator over the values of the given sequence.\n",
            " |  \n",
            " |  Methods defined here:\n",
            " |  \n",
            " |  __getattribute__(self, name, /)\n",
            " |      Return getattr(self, name).\n",
            " |  \n",
            " |  __iter__(self, /)\n",
            " |      Implement iter(self).\n",
            " |  \n",
            " |  __length_hint__(...)\n",
            " |      Private method returning an estimate of len(list(it)).\n",
            " |  \n",
            " |  __next__(self, /)\n",
            " |      Implement next(self).\n",
            " |  \n",
            " |  __reduce__(...)\n",
            " |      Return state information for pickling.\n",
            " |  \n",
            " |  __setstate__(...)\n",
            " |      Set state information for unpickling.\n",
            " |  \n",
            " |  ----------------------------------------------------------------------\n",
            " |  Static methods defined here:\n",
            " |  \n",
            " |  __new__(*args, **kwargs)\n",
            " |      Create and return a new object.  See help(type) for accurate signature.\n",
            "\n"
          ]
        }
      ],
      "source": [
        "help(reversed)"
      ]
    },
    {
      "cell_type": "markdown",
      "metadata": {
        "id": "iHrHUAqONxxp"
      },
      "source": [
        "The `sorted()` function has another named argument `key`, which allows us to specify a callable function to adjust our sorting criteria. Syntax is\n",
        "\n",
        "```python\n",
        "sorted(your_list, key = your_function)\n",
        "```\n",
        "\n",
        "The sorting will be done based on returned value from this callable function.\n"
      ]
    },
    {
      "cell_type": "markdown",
      "metadata": {
        "id": "w8lApTjENxxp"
      },
      "source": [
        "#### Exercise 3.12\n",
        "\n",
        "For following list of items, sort them by number of characters in each item.\n",
        "* *Hint:* The `len()` function returns length of a string. To sort based on string length, `key = len` can be specified as shown.\n",
        "\n",
        "```python\n",
        "names = ['duck', 'chicken', 'goose']\n",
        "```"
      ]
    },
    {
      "cell_type": "code",
      "execution_count": null,
      "metadata": {
        "colab": {
          "base_uri": "https://localhost:8080/"
        },
        "id": "JLP6o6KMNxxq",
        "outputId": "b2a531f6-ec3e-4e8e-fa98-53c7900fd240"
      },
      "outputs": [
        {
          "output_type": "execute_result",
          "data": {
            "text/plain": [
              "['duck', 'goose', 'chicken']"
            ]
          },
          "metadata": {},
          "execution_count": 33
        }
      ],
      "source": [
        "names = ['duck', 'chicken', 'goose']\n",
        "sortedname = sorted(names, key=len)\n",
        "\n",
        "sortedname"
      ]
    },
    {
      "cell_type": "markdown",
      "metadata": {
        "id": "a4m_0wnkNxxq"
      },
      "source": [
        "#### Exercise 3.13\n",
        "\n",
        "For a list `[-1, 5, -30, -10, 2, 20, -3]`, sort the list in descending order by their absolute value.\n",
        "* *Hint:* The `abs()` function returns absolute value of a number."
      ]
    },
    {
      "cell_type": "code",
      "execution_count": null,
      "metadata": {
        "tags": [
          "hide-cell"
        ],
        "colab": {
          "base_uri": "https://localhost:8080/"
        },
        "id": "QlLzOXnvNxxq",
        "outputId": "0f31aa26-cb81-4b7e-cb2e-c3225ecd158a"
      },
      "outputs": [
        {
          "output_type": "execute_result",
          "data": {
            "text/plain": [
              "[-1, 2, -3, 5, -10, 20, -30]"
            ]
          },
          "metadata": {},
          "execution_count": 36
        }
      ],
      "source": [
        "num = [-1, 5, -30, -10, 2, 20, -3]\n",
        "\n",
        "sortednum = sorted(num, key=abs)\n",
        "\n",
        "sortednum"
      ]
    },
    {
      "cell_type": "markdown",
      "metadata": {
        "id": "wGFFUJ4qNxxq"
      },
      "source": [
        "Two lists can also be join together simply using `+` operator. This is called the **concatenation of lists**.\n",
        "\n",
        "#### Exercise 3.14\n",
        "\n",
        "Concatenate the lists `[1, 2, 3, 4, 5]` and `[6, 7, 8, 9]`"
      ]
    },
    {
      "cell_type": "code",
      "execution_count": null,
      "metadata": {
        "colab": {
          "base_uri": "https://localhost:8080/"
        },
        "id": "iMD97fyUNxxq",
        "outputId": "810dd08d-4482-4062-f40f-331cdda2dd26"
      },
      "outputs": [
        {
          "output_type": "execute_result",
          "data": {
            "text/plain": [
              "[1, 2, 3, 4, 5, 6, 7, 8, 9]"
            ]
          },
          "metadata": {},
          "execution_count": 37
        }
      ],
      "source": [
        "list1 = [1,2,3,4,5]\n",
        "list2 = [6,7,8,9]\n",
        "\n",
        "list3 = list1+list2\n",
        "\n",
        "list3"
      ]
    },
    {
      "cell_type": "markdown",
      "metadata": {
        "id": "7y4g6nlENxxr"
      },
      "source": [
        "Similar to String, we can repeat a list multiple times with `*` operator.\n",
        "\n",
        "#### Exercise 3.15  \n",
        "\n",
        "Create a list `[1, 2, 3, 1, 2, 3, 1, 2, 3, 1, 2, 3]` from list `[1, 2, 3]`.\n"
      ]
    },
    {
      "cell_type": "code",
      "execution_count": null,
      "metadata": {
        "colab": {
          "base_uri": "https://localhost:8080/"
        },
        "id": "MtUXcOQhNxxr",
        "outputId": "78c252d8-3ab5-4df8-ebb9-bc74d2fe1978"
      },
      "outputs": [
        {
          "output_type": "execute_result",
          "data": {
            "text/plain": [
              "[1, 2, 3, 1, 2, 3, 1, 2, 3, 1, 2, 3]"
            ]
          },
          "metadata": {},
          "execution_count": 38
        }
      ],
      "source": [
        "num = [1,2,3]\n",
        "\n",
        "num4 = num*4\n",
        "\n",
        "num4"
      ]
    },
    {
      "cell_type": "markdown",
      "metadata": {
        "id": "PtB3rZ3mNxxr"
      },
      "source": [
        "Recap: String has many similar behaviors as list.\n",
        "\n",
        "#### Exercise 3.16\n",
        "\n",
        "* How to concatenate 2 strings?\n",
        "* How to repeat a string 2 times?"
      ]
    },
    {
      "cell_type": "code",
      "execution_count": null,
      "metadata": {
        "id": "Yf1LYP3WNxxr"
      },
      "outputs": [],
      "source": [
        "# YOUR CODE HERE"
      ]
    },
    {
      "cell_type": "markdown",
      "metadata": {
        "id": "xk41Wkd-Nxxr"
      },
      "source": [
        "#### 3.1.1.4 Membership and Searching elements in a list\n",
        "\n",
        "You might need to check if a particular item is in a list.\n",
        "\n",
        "Instead of using `for` loop to iterate over the list and use the if condition, Python provides a simple **`in`** statement to check membership of an item.\n",
        "\n",
        "#### Exercise 3.17\n",
        "\n",
        "Write code to find out whether `'duck'` and `'dog'` are in the list `['duck', 'chicken', 'goose']` respectively."
      ]
    },
    {
      "cell_type": "code",
      "execution_count": null,
      "metadata": {
        "colab": {
          "base_uri": "https://localhost:8080/"
        },
        "id": "6Zo_TSeENxxr",
        "outputId": "5445ec78-8313-4559-9a08-381b4e259dba"
      },
      "outputs": [
        {
          "output_type": "stream",
          "name": "stdout",
          "text": [
            "True\n",
            "2\n",
            "0\n"
          ]
        }
      ],
      "source": [
        "animal = ['duck', 'chicken', 'goose', 'duck']\n",
        "duck_in_farm = 'duck' in animal #bool value of if duck in animal\n",
        "cnt = animal.count('duck')\n",
        "x = animal.index('duck')\n",
        "\n",
        "print (duck_in_farm)\n",
        "print(cnt)\n",
        "print(x)"
      ]
    },
    {
      "cell_type": "markdown",
      "metadata": {
        "id": "oXJpizyANxxr"
      },
      "source": [
        "To count the occurence of a particular item in a list, we can use the `.count()` method. Syntax is\n",
        ">```python\n",
        ">your_list.count(item)\n",
        ">```\n",
        "\n",
        "#### Exercise 3.18\n",
        "* Create a list `['duck', 'chicken', 'goose', 'duck', 'chicken', 'goose', 'duck', 'chicken', 'goose']` from `['duck', 'chicken', 'goose']`\n",
        "* Count number of occurence of `'duck'`"
      ]
    },
    {
      "cell_type": "code",
      "execution_count": null,
      "metadata": {
        "id": "Qi9bxRdzNxxs"
      },
      "outputs": [],
      "source": [
        "# YOUR CODE HERE"
      ]
    },
    {
      "cell_type": "markdown",
      "metadata": {
        "id": "9dZ5_u_9Nxxs"
      },
      "source": [
        "To find the index value of a particular item, we can use `.index()` method. Syntax is\n",
        ">```python\n",
        ">your_list.index(item)\n",
        ">```\n",
        "\n",
        "* If there are multiple items of the same value, only the first index value of that item is returned.\n",
        "* You can add 2nd argument `x` to start searching from index `x` onwards.\n",
        "\n",
        "Note: the string functions `find()` and `rfind()` are <u>not available</u> for list.\n",
        "\n",
        "#### Exercise 3.19\n",
        "* Create a list `['duck', 'chicken', 'goose', 'duck', 'chicken', 'goose', 'duck', 'chicken', 'goose']` from `['duck', 'chicken', 'goose']`\n",
        "* Find the index of the first occurence of `'duck'` in the list.\n",
        "* Find ALL the indices of occurences of `'duck'` in the list."
      ]
    },
    {
      "cell_type": "code",
      "execution_count": null,
      "metadata": {
        "colab": {
          "base_uri": "https://localhost:8080/"
        },
        "id": "dve3GgvXNxxs",
        "outputId": "762804bf-6b05-42be-9549-5af51a9df234"
      },
      "outputs": [
        {
          "output_type": "stream",
          "name": "stdout",
          "text": [
            "1\n",
            "4\n",
            "7\n"
          ]
        }
      ],
      "source": [
        "animal = ['duck', 'chicken', 'goose']\n",
        "animal3 = animal * 3\n",
        "\n",
        "start = 0\n",
        "\n",
        "for cnt in range(animal3.count('chicken')):\n",
        "  index = animal3.index('chicken', start)\n",
        "  print(index)\n",
        "  start = index+1\n",
        "\n",
        "\n",
        "# firstindex = animal3.index('chicken')\n",
        "# secondindex = animal3.index('chicken', firstindex+1)\n",
        "# nextindex= animal3.index ('chicken', secondindex+1)\n",
        "\n",
        "#print (firstindex, secondindex, nextindex)"
      ]
    },
    {
      "cell_type": "markdown",
      "metadata": {
        "id": "O4cg9ZYlNxxs"
      },
      "source": [
        "#### 3.1.1.5 Iterating through List\n",
        "\n",
        "To iterate through a collection, e.g. list or tuple, you can use **for-loop**.\n",
        "\n",
        "**Syntax**\n",
        "```python\n",
        "for item in my_list:\n",
        "    # Process each item\n",
        "```\n",
        "\n",
        "#### Exercise 3.20\n",
        "\n",
        "Print out each item in `names` list.\n",
        "```python\n",
        "names = ['duck', 'chicken', 'goose']\n",
        "```"
      ]
    },
    {
      "cell_type": "code",
      "execution_count": null,
      "metadata": {
        "colab": {
          "base_uri": "https://localhost:8080/"
        },
        "id": "owVWnxsPNxxs",
        "outputId": "9b0570ce-080c-4201-b415-5f503a5aba75"
      },
      "outputs": [
        {
          "output_type": "stream",
          "name": "stdout",
          "text": [
            "duck\n",
            "chicken\n",
            "goose\n",
            "duck\n",
            "chicken\n",
            "goose\n",
            "0 duck\n",
            "1 chicken\n",
            "2 goose\n"
          ]
        }
      ],
      "source": [
        "names = ['duck', 'chicken', 'goose']\n",
        "\n",
        "#option 1\n",
        "for i in names:   #--> access element\n",
        "  print(i)\n",
        "\n",
        "#option 2\n",
        "for i in range(len(names)):\n",
        "  print(names[i])\n",
        "\n",
        "#option 3\n",
        "for index,value in enumerate(names):\n",
        "  print(index,value)\n"
      ]
    },
    {
      "cell_type": "markdown",
      "metadata": {
        "id": "CMqc7Q12Nxxs"
      },
      "source": [
        "To find the index value of each item in the list, we can use `enumerate()` function in a **for-loop**. Syntax is\n",
        "```python\n",
        "for index, item in enumerate(your_list):\n",
        "    # Process each index and item\n",
        "```\n",
        "\n",
        "#### Exercise 3.21\n",
        "* Print items in list `['duck', 'chicken', 'goose']` as following output.\n",
        "\n",
        ">```python\n",
        ">0 duck\n",
        ">1 chicken\n",
        ">2 goose\n",
        ">```"
      ]
    },
    {
      "cell_type": "code",
      "execution_count": 7,
      "metadata": {
        "id": "vfTioiJvNxxs",
        "outputId": "064fe8fa-f38e-48e6-9ea4-11ca8c04d18c",
        "colab": {
          "base_uri": "https://localhost:8080/"
        }
      },
      "outputs": [
        {
          "output_type": "stream",
          "name": "stdout",
          "text": [
            "0 duck\n",
            "1 chicken\n",
            "2 goose\n"
          ]
        }
      ],
      "source": [
        "list = ['duck', 'chicken', 'goose']\n",
        "for index, item in enumerate(list):\n",
        "  print(index, item)"
      ]
    },
    {
      "cell_type": "markdown",
      "metadata": {
        "id": "TQ1pUK6WNxxs"
      },
      "source": [
        "Python provides a very handy way to perform same operate on all items in a list, and return a new list, called *list comprehension*.\n",
        "\n",
        "#### Exercise 3.22\n",
        "\n",
        "Create a list which contains len() value of each item in `['duck', 'chicken', 'goose']`\n"
      ]
    },
    {
      "cell_type": "code",
      "execution_count": null,
      "metadata": {
        "colab": {
          "base_uri": "https://localhost:8080/"
        },
        "id": "hgh8b7sjNxxs",
        "outputId": "a04cc19d-649f-4d0e-9155-c2b6cffc9281"
      },
      "outputs": [
        {
          "output_type": "stream",
          "name": "stdout",
          "text": [
            "4\n",
            "7\n",
            "5\n",
            "[4, 7, 5] [4, 7, 5]\n"
          ]
        }
      ],
      "source": [
        "names = ['duck', 'chicken', 'goose']\n",
        "length = []\n",
        "deez = [len(i) for i in names]\n",
        "\n",
        "for i in names:\n",
        "  length.append(len(i))\n",
        "  print(len(i))\n",
        "\n",
        "print (length, deez)\n",
        "\n"
      ]
    },
    {
      "cell_type": "markdown",
      "metadata": {
        "id": "0cbCO-nANxxt"
      },
      "source": [
        "#### Exercise 3.23\n",
        "\n",
        "Create a list which contain the first 100 terms of an arithmetic sequence with first term 2 and common difference 3."
      ]
    },
    {
      "cell_type": "code",
      "execution_count": null,
      "metadata": {
        "colab": {
          "base_uri": "https://localhost:8080/"
        },
        "id": "QkudHrt_Nxxt",
        "outputId": "05d2a120-c953-4c57-bd4b-80084d30e864"
      },
      "outputs": [
        {
          "output_type": "stream",
          "name": "stdout",
          "text": [
            "100\n"
          ]
        },
        {
          "output_type": "execute_result",
          "data": {
            "text/plain": [
              "[2,\n",
              " 5,\n",
              " 8,\n",
              " 11,\n",
              " 14,\n",
              " 17,\n",
              " 20,\n",
              " 23,\n",
              " 26,\n",
              " 29,\n",
              " 32,\n",
              " 35,\n",
              " 38,\n",
              " 41,\n",
              " 44,\n",
              " 47,\n",
              " 50,\n",
              " 53,\n",
              " 56,\n",
              " 59,\n",
              " 62,\n",
              " 65,\n",
              " 68,\n",
              " 71,\n",
              " 74,\n",
              " 77,\n",
              " 80,\n",
              " 83,\n",
              " 86,\n",
              " 89,\n",
              " 92,\n",
              " 95,\n",
              " 98,\n",
              " 101,\n",
              " 104,\n",
              " 107,\n",
              " 110,\n",
              " 113,\n",
              " 116,\n",
              " 119,\n",
              " 122,\n",
              " 125,\n",
              " 128,\n",
              " 131,\n",
              " 134,\n",
              " 137,\n",
              " 140,\n",
              " 143,\n",
              " 146,\n",
              " 149,\n",
              " 152,\n",
              " 155,\n",
              " 158,\n",
              " 161,\n",
              " 164,\n",
              " 167,\n",
              " 170,\n",
              " 173,\n",
              " 176,\n",
              " 179,\n",
              " 182,\n",
              " 185,\n",
              " 188,\n",
              " 191,\n",
              " 194,\n",
              " 197,\n",
              " 200,\n",
              " 203,\n",
              " 206,\n",
              " 209,\n",
              " 212,\n",
              " 215,\n",
              " 218,\n",
              " 221,\n",
              " 224,\n",
              " 227,\n",
              " 230,\n",
              " 233,\n",
              " 236,\n",
              " 239,\n",
              " 242,\n",
              " 245,\n",
              " 248,\n",
              " 251,\n",
              " 254,\n",
              " 257,\n",
              " 260,\n",
              " 263,\n",
              " 266,\n",
              " 269,\n",
              " 272,\n",
              " 275,\n",
              " 278,\n",
              " 281,\n",
              " 284,\n",
              " 287,\n",
              " 290,\n",
              " 293,\n",
              " 296,\n",
              " 299]"
            ]
          },
          "metadata": {},
          "execution_count": 60
        }
      ],
      "source": [
        "\n",
        "a = [i for i in range(2, 2+99*3+1, 3)]\n",
        "\n",
        "print(len(a))\n",
        "a"
      ]
    },
    {
      "cell_type": "markdown",
      "metadata": {
        "id": "NB0U2hXkNxxt"
      },
      "source": [
        "#### Exercise 3.24\n",
        "Create a list where all items are prefixed with a string 'big', which resulted in `['big duck', 'big chicken', 'big goose']`?\n",
        "\n",
        "```python\n",
        "names = ['duck', 'chicken', 'goose']\n",
        "```"
      ]
    },
    {
      "cell_type": "code",
      "execution_count": 2,
      "metadata": {
        "tags": [
          "hide-cell"
        ],
        "id": "-5Q5wrfoNxxt",
        "outputId": "d2973138-734f-4fc6-d6cb-52b726b7d863",
        "colab": {
          "base_uri": "https://localhost:8080/"
        }
      },
      "outputs": [
        {
          "output_type": "stream",
          "name": "stdout",
          "text": [
            "['big duck', 'big chicken', 'big goose']\n"
          ]
        }
      ],
      "source": [
        "names = ['duck', 'chicken', 'goose']\n",
        "\n",
        "prefix = \"big\"\n",
        "\n",
        "listt = [prefix+ \" \"+ i for i in names]\n",
        "\n",
        "print(listt)"
      ]
    },
    {
      "cell_type": "markdown",
      "metadata": {
        "id": "6oPPH5PqNxxt"
      },
      "source": [
        "#### 3.1.1.4 Modifying a list\n",
        "\n",
        "List is a **mutable** collection, i.e. list can be modified and item value can be updated."
      ]
    },
    {
      "cell_type": "markdown",
      "metadata": {
        "id": "vkHO9LDTNxxt"
      },
      "source": [
        "It is easy to update an item in the list by its index value.\n",
        "\n",
        "#### Exercise 3.25\n",
        "\n",
        "For a list `s = [0,1,2,3,4]`, update its 3rd item to `9`."
      ]
    },
    {
      "cell_type": "code",
      "execution_count": 22,
      "metadata": {
        "id": "YKQ2iGCCNxxt",
        "outputId": "30b3ea2f-b6b5-4f69-ffd2-a6d4407fce98",
        "colab": {
          "base_uri": "https://localhost:8080/"
        }
      },
      "outputs": [
        {
          "output_type": "stream",
          "name": "stdout",
          "text": [
            "[0, 1, 9, 3, 4]\n"
          ]
        }
      ],
      "source": [
        "s = [0,1,2,3,4]\n",
        "s[2] = 9\n",
        "print(s)"
      ]
    },
    {
      "cell_type": "markdown",
      "metadata": {
        "id": "RD2gHEb1Nxxt"
      },
      "source": [
        "The `list.append()` method is used to append (add) a element at the end of the list. Syntax is\n",
        ">```python\n",
        ">your_list.append(element)\n",
        ">```\n",
        "\n",
        "#### Exercise 3.26\n",
        "\n",
        "For a list `s = [0, 1, 2, 3, 4, 5]`, append a value `6` to it."
      ]
    },
    {
      "cell_type": "code",
      "execution_count": 9,
      "metadata": {
        "id": "J_TCl2waNxxt",
        "outputId": "c8c2b467-fa60-4da6-ecea-b38b537460d1",
        "colab": {
          "base_uri": "https://localhost:8080/"
        }
      },
      "outputs": [
        {
          "output_type": "stream",
          "name": "stdout",
          "text": [
            "[0, 1, 2, 3, 4, 5, 6]\n"
          ]
        }
      ],
      "source": [
        " s = [0, 1, 2, 3, 4, 5]\n",
        " s.append(6)\n",
        " print(s)"
      ]
    },
    {
      "cell_type": "markdown",
      "metadata": {
        "id": "ZiV3Y5WWNxxu"
      },
      "source": [
        "#### Exercise 3.27\n",
        "\n",
        "What happens if you append a list `[7, 8, 9]` to a list `[1, 2, 3, 4, 5, 6]`?\n"
      ]
    },
    {
      "cell_type": "code",
      "execution_count": 10,
      "metadata": {
        "tags": [
          "hide-cell"
        ],
        "id": "SXGV2HlhNxxu",
        "outputId": "8a665cfc-c8a1-43a2-e5e2-d74d8f88c835",
        "colab": {
          "base_uri": "https://localhost:8080/"
        }
      },
      "outputs": [
        {
          "output_type": "stream",
          "name": "stdout",
          "text": [
            "[1, 2, 3, 4, 5, 6, [7, 8, 9]]\n"
          ]
        }
      ],
      "source": [
        "list1 = [7,8,9]\n",
        "list2 = [1, 2, 3, 4, 5, 6]\n",
        "\n",
        "list2.append(list1)\n",
        "print(list2)"
      ]
    },
    {
      "cell_type": "markdown",
      "metadata": {
        "id": "yuR5ShU5Nxxu"
      },
      "source": [
        "A list can also be **extended** with items from another list using `list.extend()` method. It will modify the first list. The resultant list will contain all the elements of the lists that were added, i.e. the resultant list is NOT a nested list. Syntax is\n",
        ">```python\n",
        ">your_list.extend(another_list)\n",
        ">```\n",
        "\n",
        "**Note** the difference between `append()` and `extend()`."
      ]
    },
    {
      "cell_type": "markdown",
      "metadata": {
        "id": "wNIQfgshNxxu"
      },
      "source": [
        "\n",
        "#### Exercise 3.28\n",
        "\n",
        "Extend a list `[1, 2, 3, 4, 5, 6]` with all items in another list `[7, 8, 9]`."
      ]
    },
    {
      "cell_type": "code",
      "execution_count": 13,
      "metadata": {
        "id": "KbrmfAtrNxxu",
        "outputId": "cb4a3d33-4292-40be-fb1a-bcd90b1ea2b3",
        "colab": {
          "base_uri": "https://localhost:8080/"
        }
      },
      "outputs": [
        {
          "output_type": "stream",
          "name": "stdout",
          "text": [
            "[1, 2, 3, 4, 5, 6, 7, 8, 9]\n"
          ]
        }
      ],
      "source": [
        "list1 = [7,8,9]\n",
        "list2 = [1, 2, 3, 4, 5, 6]\n",
        "\n",
        "list2.extend(list1)\n",
        "print(list2)"
      ]
    },
    {
      "cell_type": "markdown",
      "metadata": {
        "id": "a0dao2yeNxxv"
      },
      "source": [
        "**Question:**\n",
        "\n",
        "* Can you re-write above code using `+` operator?\n",
        "* Can you insert `[7, 8, 9]` in the middle of `[1, 2, 3, 4, 5, 6]` using `+` operator?"
      ]
    },
    {
      "cell_type": "code",
      "execution_count": 23,
      "metadata": {
        "tags": [
          "hide-cell"
        ],
        "id": "xIYtZ-MCNxxv",
        "outputId": "ef5175c2-2907-421e-9fdc-0ce3ad8900ba",
        "colab": {
          "base_uri": "https://localhost:8080/"
        }
      },
      "outputs": [
        {
          "output_type": "stream",
          "name": "stdout",
          "text": [
            "[1, 2, 3, 7, 8, 9, 4, 5, 6]\n",
            "[1, 2, 3, [7, 8, 9], 4, 5, 6]\n"
          ]
        }
      ],
      "source": [
        "list1 = [7,8,9]\n",
        "list2 = [1, 2, 3, 4, 5, 6]\n",
        "\n",
        "\n",
        "'''print(list2+list1)'''\n",
        "#mid_index=len(list2)/2 -> this means mid_index = 3.0, while slice can only deal with integer\n",
        "mid_index=len(list2)//2 #integer divide\n",
        "print (list2[:mid_index]+list1+list2[mid_index:])\n",
        "\n",
        "list2.insert(mid_index,list1)\n",
        "print(list2)\n"
      ]
    },
    {
      "cell_type": "markdown",
      "metadata": {
        "id": "7noOcGt8Nxxv"
      },
      "source": [
        "The method `list.insert(position,new_value)` is used to insert a element `new_value` at a specified index value `position`. Syntax is\n",
        ">```python\n",
        ">your_list.insert(position,new_value)\n",
        ">```\n",
        "\n",
        "* `list.insert()` method does not replace element at the index.\n",
        "* `list.append( )` method can only insert item at the end.\n",
        "\n",
        "#### Exercise 3.29\n",
        "\n",
        "Use `list.insert()` method to modify a string `'What a day'` to `'What a sunny day'`.\n",
        "* *Hint:* Use `str.split()` and `str.join()` methods."
      ]
    },
    {
      "cell_type": "code",
      "execution_count": 38,
      "metadata": {
        "id": "4oHqSU2pNxxv",
        "outputId": "f910cc7b-99a0-4e75-8861-8ebffd115fc2",
        "colab": {
          "base_uri": "https://localhost:8080/"
        }
      },
      "outputs": [
        {
          "output_type": "stream",
          "name": "stdout",
          "text": [
            "What a sunny day!\n"
          ]
        }
      ],
      "source": [
        "new_word = \"sunny\"\n",
        "string1 = \"What a day!\"\n",
        "string2 = string1.split() #split after every space\n",
        "\n",
        "string2.insert(2, new_word)\n",
        "\n",
        "n = \" \".join(string2)\n",
        "\n",
        "print(n)"
      ]
    },
    {
      "cell_type": "markdown",
      "metadata": {
        "id": "rp4FLIyXNxxv"
      },
      "source": [
        "`list.pop()` method can be used to remove the last element in the list. This is similar to the operation of a stack (which we will cover later in the course.) Syntax is\n",
        ">```python\n",
        ">your_list.pop()\n",
        ">```\n",
        "\n",
        "#### Exercise 3.30\n",
        "\n",
        "Use `list.pop()` function to remove items in list `[0, 1, 2, 3, 4]` in reverse order."
      ]
    },
    {
      "cell_type": "code",
      "execution_count": 37,
      "metadata": {
        "id": "fZ9q9484Nxxv",
        "outputId": "4b927310-553c-4807-b2af-ec55e560cddd",
        "colab": {
          "base_uri": "https://localhost:8080/"
        }
      },
      "outputs": [
        {
          "output_type": "stream",
          "name": "stdout",
          "text": [
            "Help on method_descriptor:\n",
            "\n",
            "join(self, iterable, /) unbound builtins.str method\n",
            "    Concatenate any number of strings.\n",
            "    \n",
            "    The string whose method is called is inserted in between each given string.\n",
            "    The result is returned as a new string.\n",
            "    \n",
            "    Example: '.'.join(['ab', 'pq', 'rs']) -> 'ab.pq.rs'\n",
            "\n"
          ]
        }
      ],
      "source": [
        "help(str.join)"
      ]
    },
    {
      "cell_type": "markdown",
      "metadata": {
        "id": "CuG729PmNxxv"
      },
      "source": [
        "Index value can be specified to `list.pop()` method to remove a certain element corresponding to that index value. Syntax is\n",
        ">```python\n",
        ">your_list.pop(index)\n",
        ">```\n",
        "\n",
        "#### Exercise 3.31\n",
        "\n",
        "Use `list.pop()` method to remove `'c'` from list `['a', 'b', 'c', 'd', 'e']`."
      ]
    },
    {
      "cell_type": "code",
      "execution_count": 44,
      "metadata": {
        "id": "LOJ0fFjUNxxv",
        "outputId": "b95bd132-85e6-4b78-c432-5f8ea48744e4",
        "colab": {
          "base_uri": "https://localhost:8080/"
        }
      },
      "outputs": [
        {
          "output_type": "stream",
          "name": "stdout",
          "text": [
            "['a', 'b', 'd', 'e'] c\n"
          ]
        }
      ],
      "source": [
        "list = ['a', 'b', 'c', 'd', 'e']\n",
        "x = list.pop(2)\n",
        "\n",
        "print(list, x)\n"
      ]
    },
    {
      "cell_type": "markdown",
      "metadata": {
        "id": "OFs3jEHgNxxv"
      },
      "source": [
        "`list.remove( )` method is used to remove an item based on its value. Syntax is\n",
        ">```python\n",
        ">your_list.remove(value)\n",
        ">```\n",
        "\n",
        "* If there are multiple items of same value, it will only remove 1st item.\n",
        "* It will throw an **exception** if the value is not found in the list. You may need to enclose it with `try-except` block. (We will come back to this)\n",
        "\n",
        "#### Exercise 3.32\n",
        "\n",
        "Use `list.remove()` function to remove value `3` three times.\n",
        "\n",
        "```\n",
        "lst = [0, 1, 2, 3, 4] * 2\n",
        "```"
      ]
    },
    {
      "cell_type": "code",
      "execution_count": 51,
      "metadata": {
        "id": "b5qp_DOiNxxw",
        "outputId": "56e8a3d6-65e0-4410-e3d4-d2488aaa1156",
        "colab": {
          "base_uri": "https://localhost:8080/"
        }
      },
      "outputs": [
        {
          "output_type": "stream",
          "name": "stdout",
          "text": [
            "3 removed\n",
            "3 removed\n",
            "cant remove\n"
          ]
        },
        {
          "output_type": "execute_result",
          "data": {
            "text/plain": [
              "[0, 1, 2, 4, 0, 1, 2, 4]"
            ]
          },
          "metadata": {},
          "execution_count": 51
        }
      ],
      "source": [
        "lst = [0, 1, 2, 3, 4] * 2\n",
        "\n",
        "for i in range(3):\n",
        "  try:\n",
        "    lst.remove(3)\n",
        "    print(\"3 removed\")\n",
        "  except:\n",
        "    print(\"cant remove\")\n",
        "\n",
        "\n",
        "lst"
      ]
    },
    {
      "cell_type": "markdown",
      "metadata": {
        "id": "8IqjZ6rHNxxw"
      },
      "source": [
        "#### Exercise 3.33\n",
        "\n",
        "How to remove all values `3` in the list `[1, 2, 3, 4, 1, 2, 3, 4, 1, 2, 3, 4]`?\n",
        "* *Hint:* Use `while`, `try-except`, and `break`"
      ]
    },
    {
      "cell_type": "code",
      "execution_count": null,
      "metadata": {
        "tags": [
          "hide-cell"
        ],
        "id": "xjlnALHyNxxw"
      },
      "outputs": [],
      "source": [
        "# YOUR CODE HERE"
      ]
    },
    {
      "cell_type": "markdown",
      "metadata": {
        "id": "uLBQjew4Nxxw"
      },
      "source": [
        "To clear all elements in a list, use its `list.clear()` method.\n",
        "\n",
        "#### Exercise 3.34\n",
        "\n",
        "Clear all items in `s = [1, 2, 3]`."
      ]
    },
    {
      "cell_type": "code",
      "execution_count": null,
      "metadata": {
        "id": "pH3WW3jNNxxw"
      },
      "outputs": [],
      "source": [
        "# YOUR CODE HERE"
      ]
    },
    {
      "cell_type": "markdown",
      "metadata": {
        "id": "mj1nftDvNxxw"
      },
      "source": [
        "## Recap\n",
        "\n",
        "* How to create a new list?\n",
        "* Can a list hold elements of different data type?\n",
        "* Why do you need multiple level indexing?\n",
        "* Name 3 functions or operators which works with list.\n",
        "* What is the keyword used to check membership in a list?\n",
        "* How to add an item to a list?\n",
        "* How to remove an item from a list?\n",
        "* How to merge 2 lists?"
      ]
    },
    {
      "cell_type": "markdown",
      "metadata": {
        "id": "EL-RJJXkNxxw"
      },
      "source": [
        "### 3.1.2 Tuples\n",
        "\n",
        "A Tuple is a collection of Python objects which is **immutable**, i.e. not modifiable after creation.\n",
        "\n",
        "#### 3.1.2.1 Creating a Tuple\n",
        "\n",
        "Tuple is created with a list of items surrounded by parentheses **\"( )\"**, and seperated by comma **\",\"**.\n",
        "\n",
        "* To create an empty tuple, simple use `()`\n",
        "* To create a single-item tuple, need to add **common `,`** behind the element. E.g. `tup = (3,)`\n",
        "\n",
        "#### Exercise 3.35\n",
        "\n",
        "* Create a tuple `t` with values `1, 2, 3, 4`\n",
        "* Print it and its type"
      ]
    },
    {
      "cell_type": "code",
      "execution_count": null,
      "metadata": {
        "id": "uLK9utSONxxx"
      },
      "outputs": [],
      "source": [
        "# YOUR CODE HERE\n",
        "t = (1,2,3,4)\n",
        "print(type(t))"
      ]
    },
    {
      "cell_type": "markdown",
      "metadata": {
        "id": "IhVNBVJvNxxx"
      },
      "source": [
        "In fact, parentheses is optional unless it is to create an empty tuple."
      ]
    },
    {
      "cell_type": "code",
      "execution_count": null,
      "metadata": {
        "id": "7ChYYl8JNxxx"
      },
      "outputs": [],
      "source": [
        "# YOUR CODE HERE"
      ]
    },
    {
      "cell_type": "markdown",
      "metadata": {
        "id": "iBtO_V-jNxxx"
      },
      "source": [
        "Tuple can also be created using by typecasting a list using `tuple()` constructor function.\n",
        "* when string is passed in as argument, it turns string into collection of characters.\n",
        "\n",
        "\n",
        "#### Exercise 3.36\n",
        "* Create a tuple from list `[1,2,3]`.\n",
        "* What happen if you apply `tuple()` constructor function on a string `Good day!`?"
      ]
    },
    {
      "cell_type": "code",
      "execution_count": null,
      "metadata": {
        "id": "jOgypDEyNxxx"
      },
      "outputs": [],
      "source": [
        "# YOUR CODE HERE\n",
        "a = tuple([1,2,3])\n",
        "type(a)\n",
        "tuple('Good day!')"
      ]
    },
    {
      "cell_type": "markdown",
      "metadata": {
        "id": "ClcKXkhyNxxx"
      },
      "source": [
        "\n",
        "Python collections allows mix data types in the same collection. We can also create tuple with items of different data type, although this is not commonly used.\n",
        "\n",
        "#### Exercise 3.37\n",
        "\n",
        "* Create a tuple with items `'apple', 3.0, 'banana', 4`."
      ]
    },
    {
      "cell_type": "code",
      "execution_count": null,
      "metadata": {
        "id": "0ypLYXs0Nxxx"
      },
      "outputs": [],
      "source": [
        "# YOUR CODE HERE"
      ]
    },
    {
      "cell_type": "markdown",
      "metadata": {
        "id": "KcyQuDS3Nxxx"
      },
      "source": [
        "Tuple can contain other tuples as its elements. Such tuples are called **nested tuples**.\n",
        "\n",
        "#### Exercise 3.38\n",
        "* Create a tuple `nested` with items `0, 1, (2, 3, 4), (5, 6)`\n",
        "* What's the length of above tuple?"
      ]
    },
    {
      "cell_type": "code",
      "execution_count": null,
      "metadata": {
        "id": "UnRAKWxSNxxx"
      },
      "outputs": [],
      "source": [
        "# YOUR CODE HERE\n",
        "b = (0, 1, (2, 3, 4), (5, 6))\n",
        "len(b)"
      ]
    },
    {
      "cell_type": "markdown",
      "metadata": {
        "id": "UC6RQ9-sNxxy"
      },
      "source": [
        "#### 3.1.2.2 Accessing an Element in tuple via indexing.\n",
        "\n",
        "Items in collection can be accessed by their indexes. Python uses zero-based indexing, i.e. index starts from 0.\n",
        "\n",
        "#### Exercise 3.39\n",
        "* Create a tuple `('apple', 'banana', 'cherry', 'durian')` and assign it to the variable `fruits`.\n",
        "* Print out 2nd and 4th item in the tuple."
      ]
    },
    {
      "cell_type": "code",
      "execution_count": null,
      "metadata": {
        "id": "d1fIepF6Nxxy"
      },
      "outputs": [],
      "source": [
        "# YOUR CODE HERE\n",
        "fruits = ('apple', 'banana', 'cherry', 'durian')\n",
        "print(fruits[1])\n",
        "print(fruits[3])"
      ]
    },
    {
      "cell_type": "markdown",
      "metadata": {
        "id": "MvZ6v_hTNxxy"
      },
      "source": [
        "Indexing can also be done in reverse order. That is the last element has an index of -1, and second last element has index of -2.\n",
        "\n",
        "<center>\n",
        "<img src=\"https://github.com/njc-cz2-2021/Materials/blob/main/Notes/images/list-indexing.png?raw=1\" alt=\"Set Venn Diagram\" style=\"width: 400px;\"/>\n",
        "</center>"
      ]
    },
    {
      "cell_type": "markdown",
      "metadata": {
        "id": "z9NPu1WUNxxy"
      },
      "source": [
        "#### Exercise 3.40\n",
        "* Use <u>negative indexing</u> to print out <u>last</u> and <u>2nd last</u> item in `fruits`."
      ]
    },
    {
      "cell_type": "code",
      "execution_count": null,
      "metadata": {
        "id": "r7CpEa_eNxxy"
      },
      "outputs": [],
      "source": [
        "# YOUR CODE HERE"
      ]
    },
    {
      "cell_type": "markdown",
      "metadata": {
        "id": "EnIpQvFCNxxy"
      },
      "source": [
        "For nested tuples, we can access items by multi-level indexing as well. Each level of the index always starts from 0.\n",
        "\n",
        "#### Exercise 3.41\n",
        "* Create a tuple `nested` with items `0, 1, (2, 3, 4), (5, 6)`.\n",
        "* How do you access value `4` and `5`?"
      ]
    },
    {
      "cell_type": "code",
      "execution_count": null,
      "metadata": {
        "id": "hzC44kG2Nxxy"
      },
      "outputs": [],
      "source": [
        "# YOUR CODE HERE"
      ]
    },
    {
      "cell_type": "markdown",
      "metadata": {
        "id": "txVtum27Nxxy"
      },
      "source": [
        "#### 3.1.2.3 Accessing a Subset of Tuple via Slicing.\n",
        "\n",
        "**Indexing** was only limited to accessing a single element.\n",
        "**Slicing** on the other hand is accessing a sequence of data inside the tuple.\n",
        "\n",
        "**Slicing** is done by defining the index values of the `first element` and the `last element` from the parent list that is required in the sliced tuple.\n",
        "\n",
        "```python\n",
        "sub = num[a : b]\n",
        "sub = num[a : ]\n",
        "sub = num[: b]\n",
        "sub = num[:]\n",
        "```\n",
        "\n",
        "* if both `a` and `b` are specified, `a` is the first index, `b` is the **last index + 1**.\n",
        "* if `b` is omitted, it will slice till last element.\n",
        "* if `a` is omitted, it will starts from first element.\n",
        "* if neither `a` or `b` is specified, it is effectively copy the whole tuple.\n",
        "\n",
        "**Note: the upper bound index is NOT inclusive!**\n",
        "\n",
        "Try out following code.\n",
        "\n",
        "```python\n",
        "num = tuple(range(10))\n",
        "\n",
        "# Get item with index 2 to 4\n",
        "print(num[2:5])\n",
        "\n",
        "# Get first 5 items\n",
        "print(num[:5])\n",
        "\n",
        "# Get from item with index = 5 onwards\n",
        "print(num[5:])\n",
        "```"
      ]
    },
    {
      "cell_type": "code",
      "execution_count": null,
      "metadata": {
        "id": "eBaHxUHYNxxy"
      },
      "outputs": [],
      "source": [
        "# YOUR CODE HERE"
      ]
    },
    {
      "cell_type": "markdown",
      "metadata": {
        "id": "xCEtRgS8Nxxz"
      },
      "source": [
        "Remember tuple items can be accessed using `negative index`. Same technique can be applied for slicing too.\n",
        "\n",
        "* Last item has index of -1\n",
        "\n",
        "#### Exercise 3.42\n",
        "Consider the tuple `num = (0,1,2,3,4,5,6,7,8,9)`.\n",
        "\n",
        "* How to get last 3 items from a tuple?\n",
        "* How to ignore last 3 items from a tuple?\n",
        "* How to strip first and last items from a tuple?\n",
        "\n"
      ]
    },
    {
      "cell_type": "code",
      "execution_count": null,
      "metadata": {
        "id": "TsZE_SCjNxxz"
      },
      "outputs": [],
      "source": [
        "# YOUR CODE HERE"
      ]
    },
    {
      "cell_type": "markdown",
      "metadata": {
        "id": "19s4LsfLNxxz"
      },
      "source": [
        "#### 3.1.2.4 Working with Tuple"
      ]
    },
    {
      "cell_type": "markdown",
      "metadata": {
        "id": "3_Cn5GC1Nxxz"
      },
      "source": [
        "##### 3.1.2.4.1 Length of tuples `len()`\n",
        "To find the length of the tuple or the number of elements in a tuple, the function `len( )` is used. Syntax is\n",
        ">```python\n",
        ">len(tuples)\n",
        ">```"
      ]
    },
    {
      "cell_type": "markdown",
      "metadata": {
        "id": "twg5gHFiNxxz"
      },
      "source": [
        "##### 3.1.2.4.2 Maximum `max()`, minimum `min()` and sum `sum()` of all the values in the tuple\n",
        "\n",
        "If the tuple consists of all integer elements, the functions `min( )`, `max( )` and `sum()` gives the minimum item, maximum item and total sum value of the tuple. Syntax is\n",
        "```python\n",
        "max(your_tuple)\n",
        "min(your_tuple)\n",
        "sum(your_tuple)\n",
        "```\n",
        "\n",
        "#### Exercise 3.43\n",
        "Print out min value, max value and sum of tuple with items 0-9.\n",
        "\n"
      ]
    },
    {
      "cell_type": "code",
      "execution_count": null,
      "metadata": {
        "id": "SoWgN5ijNxxz"
      },
      "outputs": [],
      "source": [
        "# YOUR CODE HERE"
      ]
    },
    {
      "cell_type": "markdown",
      "metadata": {
        "id": "NLk5B8JLNxxz"
      },
      "source": [
        "#### Exercise 3.44\n",
        "How do you create a tuple by reversing another tuple?"
      ]
    },
    {
      "cell_type": "code",
      "execution_count": null,
      "metadata": {
        "id": "QhvP4vDJNxxz"
      },
      "outputs": [],
      "source": [
        "# YOUR CODE HERE"
      ]
    },
    {
      "cell_type": "markdown",
      "metadata": {
        "id": "BrFXBcDTNxxz"
      },
      "source": [
        "If elements are string type, `max()` and `min()` is still applicable. `max()` would return a string element whose ASCII value is the highest and the lowest when `min()` is used. Note that only the first index of each element is considered each time and if they value is the same then second index considered so on and so forth."
      ]
    },
    {
      "cell_type": "markdown",
      "metadata": {
        "id": "J_iueCloNxxz"
      },
      "source": [
        "#### Exercise 3.45\n",
        "What's the minimum and the maximum value of tuple `poly = ('np','sp','tp','rp','nyp')`?"
      ]
    },
    {
      "cell_type": "code",
      "execution_count": null,
      "metadata": {
        "id": "gCoOy1G3Nxx0"
      },
      "outputs": [],
      "source": [
        "# YOUR CODE HERE"
      ]
    },
    {
      "cell_type": "markdown",
      "metadata": {
        "id": "z5MyA496Nxx0"
      },
      "source": [
        "##### 3.1.2.4.3 Checking Values in the tuple with `any()` and `all()` function\n",
        "\n",
        "`any()` function returns `True` if any item in tuple (collection) is evaluated `True`.\n",
        "\n",
        "`all()` function returns `True` if all items in tuple (collection) is evaluated `True`.\n",
        "\n",
        "Python evaluates following values as `False`\n",
        "* `False`, `None`, numeric zero of all types\n",
        "* Empty strings and containers (including strings, tuples, lists, dictionaries, sets and frozensets)\n",
        "\n",
        "#### Exercise 3.46\n",
        "\n",
        "For each list of `[2, 4, 0, 9]`, `['', 'hello', 'world']`.\n",
        "* use `any()` to check if the list contains any non-zero item.\n",
        "* use `all()` to check if all items in the list are non-zero  ."
      ]
    },
    {
      "cell_type": "code",
      "execution_count": null,
      "metadata": {
        "id": "9fL6nuz5Nxx0"
      },
      "outputs": [],
      "source": [
        "# YOUR CODE HERE"
      ]
    },
    {
      "cell_type": "markdown",
      "metadata": {
        "id": "G12kUokhNxx0"
      },
      "source": [
        "##### 3.1.2.4.4 Reversing the values in a tuple with `reversed()` function\n",
        "\n",
        "Unlike list, tuple is immutable. Thus `.reverse()` method is **NOT** applicable to tuple.\n",
        "\n",
        "The `reversed()` function returns a reversed object which can be converted to be a tuple or list. Syntax is\n",
        "\n",
        "```python\n",
        "reversed(my_tuple)\n",
        "```\n",
        "\n",
        "E.g.,\n",
        "\n",
        "```python\n",
        "poly = ('np','sp','tp','rp','nyp')\n",
        "r = reversed(poly)\n",
        "print(type(r), tuple(r))\n",
        "```"
      ]
    },
    {
      "cell_type": "code",
      "execution_count": null,
      "metadata": {
        "id": "J9P2dEsANxx0"
      },
      "outputs": [],
      "source": [
        "# YOUR CODE HERE"
      ]
    },
    {
      "cell_type": "markdown",
      "metadata": {
        "id": "yhrJae1QNxx0"
      },
      "source": [
        "##### 3.1.2.4.5 Arranging the values in a tuple with `sorted()` function\n",
        "\n",
        "Similarly, `.sort()` method cannot be applied directly to tuple itself.\n",
        "\n",
        "`sorted()` function to arrange the elements in **ascending** order. Syntax is\n",
        "\n",
        "```python\n",
        "sorted(my_tuple)\n",
        "```\n",
        "\n",
        "E.g.,\n",
        "\n",
        "```python\n",
        "poly = ('np','sp','tp','rp','nyp')\n",
        "s = sorted(poly)\n",
        "print(poly)\n",
        "print(s)\n",
        "```"
      ]
    },
    {
      "cell_type": "code",
      "execution_count": null,
      "metadata": {
        "id": "P7oX9FhMNxx0"
      },
      "outputs": [],
      "source": [
        "# YOUR CODE HERE"
      ]
    },
    {
      "cell_type": "markdown",
      "metadata": {
        "id": "R7IGPbIdNxx1"
      },
      "source": [
        "For **descending** order, specify the named argument `reverse = True`.\n",
        "\n",
        "By default the reverse condition will be `False` for `reverse`. Hence changing it to `True` would arrange the elements in descending order."
      ]
    },
    {
      "cell_type": "markdown",
      "metadata": {
        "id": "4AYWreTcNxx1"
      },
      "source": [
        "The `sort()` function has another named argument `key`, which allows us to specify a callable function. The sorting will be done based on returned value from this callable function.\n",
        "\n",
        "For example, `len()` function returns length of a string.\n",
        "\n",
        "To sort based on string length, `key = len` can be specified as shown."
      ]
    },
    {
      "cell_type": "code",
      "execution_count": null,
      "metadata": {
        "id": "ezlkxKZeNxx1"
      },
      "outputs": [],
      "source": [
        "names = ('duck', 'chicken', 'goose')\n",
        "s1 = sorted(names, key=len)\n",
        "print(s1)\n",
        "# YOUR CODE HERE where s2 is in reverse order\n",
        "print(s2)"
      ]
    },
    {
      "cell_type": "markdown",
      "metadata": {
        "id": "8b80xiZfNxx1"
      },
      "source": [
        "Two tuples can also be join together simply using `+` operator."
      ]
    },
    {
      "cell_type": "code",
      "execution_count": null,
      "metadata": {
        "id": "o9UqYvMqNxx1"
      },
      "outputs": [],
      "source": [
        "s = (1,2,3)\n",
        "t = (4,5)\n",
        "print(s + t)"
      ]
    },
    {
      "cell_type": "markdown",
      "metadata": {
        "id": "D1pG5JnvNxx1"
      },
      "source": [
        "Besides tuples, `str` objects are also immutable. New string will be created when a string is modified."
      ]
    },
    {
      "cell_type": "code",
      "execution_count": null,
      "metadata": {
        "id": "OzuzFAG2Nxx1"
      },
      "outputs": [],
      "source": [
        "s = \"hello world.\"\n",
        "t = s\n",
        "print(t == s, t is s)\n",
        "s = s + \"abc\"\n",
        "print(t == s, t is s)"
      ]
    },
    {
      "cell_type": "markdown",
      "metadata": {
        "id": "TIVx0QvQNxx1"
      },
      "source": [
        "Similarly, tuple is immutable. Modification to tuple will return a new tuple object."
      ]
    },
    {
      "cell_type": "markdown",
      "metadata": {
        "id": "aMnk7qmjNxx1"
      },
      "source": [
        "Similar to list, we can repeat a tuple multiple times with `*` operator."
      ]
    },
    {
      "cell_type": "code",
      "execution_count": null,
      "metadata": {
        "id": "cASYLyx1Nxx1"
      },
      "outputs": [],
      "source": [
        "t1 = (1,2,3,4,5,6)\n",
        "t2 = t1 * 2\n",
        "print(t1, t2)"
      ]
    },
    {
      "cell_type": "markdown",
      "metadata": {
        "id": "w75mkr-eNxx1"
      },
      "source": [
        "#### 3.1.2.5 Membership and Searching elements in a tuple\n",
        "\n",
        "You might need to check if a particular item is in a tuple.\n",
        "\n",
        "Instead of using `for` loop to iterate over the tuple and use the `if` condition, Python provides a simple `in` statement to check membership of an item.\n",
        "\n",
        "```python\n",
        "names = ('duck', 'chicken', 'goose')\n",
        "found1 = 'duck' in names\n",
        "found2 = 'dog' in names\n",
        "print(found1, found2)\n",
        "```"
      ]
    },
    {
      "cell_type": "markdown",
      "metadata": {
        "id": "7xVsHBgtNxx1"
      },
      "source": [
        "`count()` is used to count the occurence of a particular item in a list."
      ]
    },
    {
      "cell_type": "code",
      "execution_count": null,
      "metadata": {
        "id": "41Ua8iS7Nxx2"
      },
      "outputs": [],
      "source": [
        "names = ('duck', 'chicken', 'goose') * 2\n",
        "print(names)\n",
        "names.count('duck')"
      ]
    },
    {
      "cell_type": "markdown",
      "metadata": {
        "id": "SBi6lLwcNxx2"
      },
      "source": [
        "`index()` is used to find the index value of a particular item.\n",
        "* Note that if there are multiple items of the same value, the first index value of that item is returned.\n",
        "* You can add 2nd argument `x` to start searching from index `x` onwards."
      ]
    },
    {
      "cell_type": "code",
      "execution_count": null,
      "metadata": {
        "id": "O5N8zHDbNxx2"
      },
      "outputs": [],
      "source": [
        "names2 = ('duck', 'chicken', 'goose') * 2\n",
        "idx = names2.index('goose')\n",
        "idx2 = names2.index('goose', 4)\n",
        "print('Gooses at index {} and {}'.format(idx, idx2))"
      ]
    },
    {
      "cell_type": "markdown",
      "metadata": {
        "id": "jXFK6ApNNxx2"
      },
      "source": [
        "#### 3.1.2.6 Membership and Searching elements in a tuple\n",
        "\n",
        "To iterate through a tuple (collection), you can use `for` loop."
      ]
    },
    {
      "cell_type": "code",
      "execution_count": null,
      "metadata": {
        "id": "JoaCKIGvNxx2"
      },
      "outputs": [],
      "source": [
        "names = ('duck', 'chicken', 'goose')\n",
        "for name in names:\n",
        "    print(name)"
      ]
    },
    {
      "cell_type": "markdown",
      "metadata": {
        "id": "_u9_uPi5Nxx2"
      },
      "source": [
        "\n",
        "If you need the index value, you can use `enumerate()` function."
      ]
    },
    {
      "cell_type": "code",
      "execution_count": null,
      "metadata": {
        "id": "xT8KEYPxNxx2"
      },
      "outputs": [],
      "source": [
        "for idx, name in enumerate(names):\n",
        "    print(idx, name)"
      ]
    },
    {
      "cell_type": "markdown",
      "metadata": {
        "id": "0b0P6OmvNxx2"
      },
      "source": [
        "#### 3.1.2.7 Function with Multiple Returning Values\n",
        "\n",
        "In most programming languages, function/method can only return a single value. It is the same practice in Python.\n",
        "\n",
        "But in Python, you can return a tuple which can easily pack multiple values together.\n",
        "\n",
        "#### Exercise 3.47\n",
        "\n",
        "Define a function `minmax()` which fulfils following conditions. Test the function with list `[1,2,3,4,5]`.\n",
        "\n",
        "- accept a list as input\n",
        "- return both min and max values of the list"
      ]
    },
    {
      "cell_type": "code",
      "execution_count": null,
      "metadata": {
        "id": "y7Rt_7jBNxx2"
      },
      "outputs": [],
      "source": [
        "# YOUR CODE HERE"
      ]
    },
    {
      "cell_type": "markdown",
      "metadata": {
        "id": "92fg7ZqzNxx2"
      },
      "source": [
        "Tuple can be easily unpacked into multiple values.\n",
        "\n",
        "During unpacking, number of variable needs to match number of items in tuple"
      ]
    },
    {
      "cell_type": "code",
      "execution_count": null,
      "metadata": {
        "id": "_uLzquKMNxx2",
        "outputId": "ed137b81-5227-4aeb-d952-61cf8fe99998"
      },
      "outputs": [
        {
          "name": "stdout",
          "output_type": "stream",
          "text": [
            "1 2 3\n"
          ]
        }
      ],
      "source": [
        "x, y, z = (1, 2, 3)\n",
        "print(x, y, z)"
      ]
    },
    {
      "cell_type": "markdown",
      "metadata": {
        "id": "ljXAmk4ONxx3"
      },
      "source": [
        "It is common to use underscore `_` for items to be ignored."
      ]
    },
    {
      "cell_type": "code",
      "execution_count": null,
      "metadata": {
        "id": "ztrrV0w4Nxx4"
      },
      "outputs": [],
      "source": [
        "times = '9am to 5pm to 6pm to 8pm'.split('to')\n",
        "print(times)\n",
        "start, _, end, _ = tuple(times)\n",
        "print(start, end)"
      ]
    },
    {
      "cell_type": "markdown",
      "metadata": {
        "id": "NvP6qCARNxx4"
      },
      "source": [
        "#### Exercise 3.48\n",
        "\n",
        "How to swap two values `x` and `y` in a single statement?"
      ]
    },
    {
      "cell_type": "code",
      "execution_count": null,
      "metadata": {
        "id": "KfjSPPUrNxx4"
      },
      "outputs": [],
      "source": [
        "x = 10\n",
        "y = 20\n",
        "# YOUR CODE HERE"
      ]
    },
    {
      "cell_type": "markdown",
      "metadata": {
        "id": "EzBgW83tNxx5"
      },
      "source": [
        "You can use `*` to hold any number of unpacked values.\n",
        "\n",
        "For example, from a tuple, you would like to get its last item, and put all other items in a list."
      ]
    },
    {
      "cell_type": "code",
      "execution_count": null,
      "metadata": {
        "id": "ps1TKZhXNxx5"
      },
      "outputs": [],
      "source": [
        "t = (1, 2, 3, 4,5)\n",
        "#a, b =t\n",
        "*a, b = t\n",
        "print(a, b)"
      ]
    },
    {
      "cell_type": "markdown",
      "metadata": {
        "id": "dbcW4s28Nxx5"
      },
      "source": [
        "#### Exercise 3.49\n",
        "\n",
        "How to extract only first and last items from a tuple `(1,2,3,4,5)`?"
      ]
    },
    {
      "cell_type": "code",
      "execution_count": null,
      "metadata": {
        "id": "DurJmD7pNxx6"
      },
      "outputs": [],
      "source": [
        "t = (1,2,3,4,5)\n",
        "# YOUR CODE HERE"
      ]
    },
    {
      "cell_type": "markdown",
      "metadata": {
        "id": "Hkqfh6bINxx6"
      },
      "source": [
        "## Recap\n",
        "\n",
        "### Difference between Tuple and List\n",
        "\n",
        "A tuple is **immutable** whereas a list is **mutable**.\n",
        "\n",
        "* You can't add elements to a tuple. Tuples have no append or extend method.\n",
        "* You can't remove elements from a tuple. Tuples have no remove or pop method.\n",
        "\n",
        "### When to use Tuple?\n",
        "\n",
        "* Tuples are used in function to return multiple values together.\n",
        "* Tuples are lighter-weight and are more memory efficient and often faster if used in appropriate places.\n",
        "* When using a tuple you protect against accidental modification when passing it between functions.\n",
        "* Tuples, being immutable, can be used as a key in a dictionary, which we’re about to learn about."
      ]
    },
    {
      "cell_type": "markdown",
      "metadata": {
        "id": "tGlN-na6Nxx6"
      },
      "source": [
        "#"
      ]
    },
    {
      "cell_type": "markdown",
      "metadata": {
        "id": "rPfyIF0VNxx7"
      },
      "source": [
        "## 3.2 Hash Table\n",
        "\n",
        "A **hash table** (hash map) is a data structure that stores data in an associative manner. Roughly speaking, it is an unordered collection of key-value pairs, which are just a pair of values where by knowing the `key` value, you can retrieve `value` value.\n",
        "\n",
        "Hash table uses a fixed size array as a storage medium and uses **hash function** to generate an index where an element is to be inserted or is to be located from. Hash table allows us to do a key-value lookup.\n",
        "\n",
        "Reference: https://www.youtube.com/watch?v=sfWyugl4JWA\n",
        "\n",
        "Hashing\n",
        "\n",
        "### 3.2.1 Dictionary\n",
        "\n",
        "Dictionaries are a common feature of modern languages (often known as maps, associative arrays, or hashmaps) which let you associate pairs of values together.\n",
        "\n",
        "In Python, dictionaries are defined in **dict** data type.\n",
        "* It stores keys and their corresponding values.\n",
        "* Keys must be **unique** and **immutable**.\n",
        "* It is **mutable**, i.e. you can add and remove items from a dictionary.\n",
        "* It is **unordered**, i.e. items in a dictionary are not ordered.\n",
        "* Elements in a dictionary is of the form `key_1:value_1, key_2:value_2,....`\n",
        "\n",
        "#### 3.2.1.1 Creating a dictionary\n",
        "\n",
        "Dictionary is created with listed of items surrounded by curly brackets `{}`, and seperated by comma `,`.\n",
        "\n",
        "* To create an empty dictionary, simple use `{}`\n",
        "* Key and value are separated by colon `:`\n",
        "* Key needs to be **immutable** type, e.g. data type like scalar, string or tuple\n",
        "\n",
        "#### Example"
      ]
    },
    {
      "cell_type": "code",
      "execution_count": null,
      "metadata": {
        "id": "Db8MIL3vNxx7"
      },
      "outputs": [],
      "source": [
        "# empty dictionary\n",
        "d0 = {}\n",
        "\n",
        "# dictionary with mixed data type\n",
        "d1 = {'name': 'John', 1: [2, 4, 3]}\n",
        "print(d1)"
      ]
    },
    {
      "cell_type": "markdown",
      "metadata": {
        "id": "BderbHtENxx7"
      },
      "source": [
        "#### Example\n",
        "\n",
        "Create a dictionary `fruits` which has following keys and values.\n",
        "\n",
        "| key | value    |\n",
        "|-----|----------|\n",
        "| a   | Apple    |\n",
        "| b   | Banana   |\n",
        "| c   | Cherries |\n",
        "| d   | Durian   |"
      ]
    },
    {
      "cell_type": "code",
      "execution_count": null,
      "metadata": {
        "id": "GSCdJC_HNxx7"
      },
      "outputs": [],
      "source": [
        "# YOUR CODE HERE"
      ]
    },
    {
      "cell_type": "markdown",
      "metadata": {
        "id": "258-5SlKNxx7"
      },
      "source": [
        "New dictionary can be created from a list of tuples too using the `dict()` constructor function, where each tuple contains a key and a value. Syntax is\n",
        ">```python\n",
        ">dict(my_list_of_tuples)\n",
        ">```\n",
        "\n",
        "**Example**\n",
        "\n",
        "Construct a dictionary `f3` using list `[('a','Apple'), ('b','Banana'), ('c','Cherries'), ('d','Durian')]`."
      ]
    },
    {
      "cell_type": "code",
      "execution_count": null,
      "metadata": {
        "id": "Fv2zJTDQNxx8"
      },
      "outputs": [],
      "source": [
        "# YOUR CODE HERE"
      ]
    },
    {
      "cell_type": "markdown",
      "metadata": {
        "id": "TlWZNpd9Nxx8"
      },
      "source": [
        "#### 3.2.1.2 Accessing an Element in dictionary by its respective key.\n",
        "\n",
        "Items in dictionary can be accessed by their respective keys.\n",
        "* Key can be used either inside square brackets or with the `get()` method.\n",
        "* The difference while using `get()` is that it returns `None` instead of `KeyError` Exception, if the key is not found.\n",
        "* `get()` method can take in a default value argument, which will be returned if the key is not found. Syntax is\n",
        ">`your_dict.get(key,message_if_unavailable)`\n",
        "\n",
        "#### Example\n",
        "\n",
        "What happens when you try to use a non-existing key?"
      ]
    },
    {
      "cell_type": "code",
      "execution_count": null,
      "metadata": {
        "id": "VjaCe_DRNxx8"
      },
      "outputs": [],
      "source": [
        "print(fruits)\n",
        "print(fruits['a'])\n",
        "print(fruits['b'])\n",
        "print(fruits['z'])"
      ]
    },
    {
      "cell_type": "markdown",
      "metadata": {
        "id": "7fh5yLqUNxx9"
      },
      "source": [
        "#### Example\n",
        "What happens when you use `.get()` and try to use a non-existing key?"
      ]
    },
    {
      "cell_type": "code",
      "execution_count": null,
      "metadata": {
        "id": "0ep9JkfuNxx9"
      },
      "outputs": [],
      "source": [
        "print(fruits)\n",
        "print(fruits.get('a', 'Not available'))\n",
        "print(fruits.get('z', 'Not available'))"
      ]
    },
    {
      "cell_type": "markdown",
      "metadata": {
        "id": "MqnUCiYjNxx9"
      },
      "source": [
        "3.2.1.3 Finding number of elements in a dictionary with `len()` function\n",
        "\n",
        "To find the number of elements in a dictionary, `len()` function is used. Syntax is\n",
        ">```python\n",
        ">len(my_dictionary)\n",
        ">```\n",
        "\n",
        "#### Example\n",
        "\n",
        "Find the length of `fruits` dictionary."
      ]
    },
    {
      "cell_type": "code",
      "execution_count": null,
      "metadata": {
        "id": "ERGcbUZPNxx9"
      },
      "outputs": [],
      "source": [
        "# YOUR CODE HERE"
      ]
    },
    {
      "cell_type": "markdown",
      "metadata": {
        "id": "xtlObOUqNxx9"
      },
      "source": [
        "#### 3.2.1.4 `dict.keys()`, `dict.values()`, `dict.items()` methods\n",
        "\n",
        "* `keys()` method return the dictionary's keys as `dict_keys` object.\n",
        "* `values()` method return the dictionary's values as `dict_values` object.\n",
        "* `items()` return  the dictionary's key-value pairs as `dict_items` object.\n",
        "\n",
        "If you want the various collections as a list typecast the objects using the `list` constructor function.\n",
        "\n",
        "#### Example\n",
        "\n",
        "Print out the keys, values and key-value pairs of the dictionary `fruits`."
      ]
    },
    {
      "cell_type": "code",
      "execution_count": null,
      "metadata": {
        "id": "qp647AVhNxx9"
      },
      "outputs": [],
      "source": [
        "print(fruits.keys())\n",
        "print(fruits.values())\n",
        "print(fruits.items())"
      ]
    },
    {
      "cell_type": "markdown",
      "metadata": {
        "id": "uoQmiqX_Nxx-"
      },
      "source": [
        "#### 3.2.1.5 Modifying and Updating a dictionary\n",
        "\n",
        "Similar to list, dictionary is a **mutable** collection, i.e. dictionary can be modified and the values of existing items can be updated. Syntax is\n",
        "```python\n",
        "your_dictionary[your_key] = your_value\n",
        "```\n",
        "\n",
        "* If the key exists in the dictionary, existing value will be updated.\n",
        "* If the key doesn't exists in the dictionary, new key:value pair is added to dictionary.\n",
        "\n",
        "#### Example\n",
        "\n",
        "Using the `fruits` dictionary defined earlier.\n",
        "- Update its key `a` value to `['Apple', 'Apricots', 'Avocado']`\n",
        "- Add another key-value pair `{'f':'Fig'}` to `fruits` dictionary."
      ]
    },
    {
      "cell_type": "code",
      "execution_count": null,
      "metadata": {
        "id": "FyEQ27PWNxx-"
      },
      "outputs": [],
      "source": [
        "# YOUR CODE HERE"
      ]
    },
    {
      "cell_type": "markdown",
      "metadata": {
        "id": "7EI8SC_-Nxx-"
      },
      "source": [
        "#### 3.2.1.6 Merging Dictionaries with `.update()`\n",
        "\n",
        "`.update()` method is used to merge items from another dictionary.\n",
        "* Adds element(s) to the dictionary if the key is not in the dictionary.\n",
        "* If the key is in the dictionary, it updates the key with the new value.\n",
        "\n",
        "#### Example\n",
        "\n",
        "* Create another dictionary `fruits_too` with items `{'d':'Dates', 'e':'Eldercherry', 'f':'Fig', 'g':'Grape'}`.\n",
        "* Add/update items from `fruits_too` to `fruits`."
      ]
    },
    {
      "cell_type": "code",
      "execution_count": null,
      "metadata": {
        "id": "n0aTY-YiNxx-"
      },
      "outputs": [],
      "source": [
        "# YOUR CODE HERE"
      ]
    },
    {
      "cell_type": "markdown",
      "metadata": {
        "id": "t5IZOHToNxx-"
      },
      "source": [
        "#### 3.2.1.7 Removing Items with `.pop()`, `.popitem()`, `.clear()`\n",
        "\n",
        "`.pop()` method is used to remove an item by key and returns the value. Syntax is\n",
        ">```python\n",
        ">my_dictionary.pop(my_item)\n",
        ">```\n",
        "\n",
        "It throws exception if key is not found.\n",
        "\n",
        "`.popitem()` removes the most recent inserted item as a `(key, value)` pair.\n",
        "\n",
        "`.clear()` clears all items in a dictionary.\n",
        "\n",
        "#### Example"
      ]
    },
    {
      "cell_type": "code",
      "execution_count": null,
      "metadata": {
        "id": "SnU01FbJNxx-"
      },
      "outputs": [],
      "source": [
        "fruits = {'a': 'Apple', 'b': 'Banana', 'c': 'Cherry', 'd': 'Durian', 'f': 'Fig'}\n",
        "print(fruits)\n",
        "\n",
        "p = fruits.pop('b')\n",
        "print(fruits)\n",
        "print(p)\n",
        "\n",
        "b = fruits.popitem()\n",
        "print(fruits)\n",
        "print(b)\n",
        "\n",
        "fruits.clear()\n",
        "print(fruits)"
      ]
    },
    {
      "cell_type": "markdown",
      "metadata": {
        "id": "iSgXzi6INxx-"
      },
      "source": [
        "#### 3.2.1.8 Iterating Through Dictionary\n",
        "\n",
        "To iterate through a dictionary, you can use for-loop. By default, the iteration is done ONLY on **keys** of the dictionary.\n",
        "\n",
        "#### Example"
      ]
    },
    {
      "cell_type": "code",
      "execution_count": null,
      "metadata": {
        "id": "uRvoXHPrNxx-"
      },
      "outputs": [],
      "source": [
        "fruits = {'a': 'Apple', 'b': 'Banana', 'c': 'Cherry', 'd': 'Durian', 'f': 'Fig'}\n",
        "\n",
        "for key in fruits:\n",
        "    print(key)"
      ]
    },
    {
      "cell_type": "markdown",
      "metadata": {
        "id": "RiCikaeeNxx-"
      },
      "source": [
        "#### Exercise 3.50\n",
        "\n",
        "Write code to:\n",
        "\n",
        "1. iterate through the values in the `fruits` dictionary, and\n",
        "2. iterate through the keys and values in the `fruits` dictionary at the same time."
      ]
    },
    {
      "cell_type": "code",
      "execution_count": null,
      "metadata": {
        "id": "XYdip48nNxx-"
      },
      "outputs": [],
      "source": [
        "# YOUR CODE HERE"
      ]
    },
    {
      "cell_type": "markdown",
      "metadata": {
        "id": "Yv1bXVNYNxx_"
      },
      "source": [
        "#### 3.2.1.9 Dictionary Comprehension\n",
        "\n",
        "Similiar to list, we can also use dictionary comprehension to easily generate a dictionary.\n",
        "\n",
        "#### Example"
      ]
    },
    {
      "cell_type": "code",
      "execution_count": null,
      "metadata": {
        "id": "zzRdtSnFNxx_"
      },
      "outputs": [],
      "source": [
        "s = [x*2 for x in range(10)]\n",
        "print(s)\n",
        "\n",
        "d = {x: x*x for x in range(1,10)}\n",
        "print(d)"
      ]
    },
    {
      "cell_type": "markdown",
      "metadata": {
        "id": "wY-1NGZPNxx_"
      },
      "source": [
        "#### 3.2.1.10 Membership Test\n",
        "\n",
        "We can use `in` operator to check membership of a key in a dictionary.\n",
        "\n",
        "#### Example\n",
        "\n",
        "Check whether key `a` and `z` are in the `fruits` dictionary. By default, membership testing is again done on keys."
      ]
    },
    {
      "cell_type": "code",
      "execution_count": null,
      "metadata": {
        "id": "VKLTuJoxNxx_"
      },
      "outputs": [],
      "source": [
        "print(fruits)\n",
        "\n",
        "# by default, membership testing is done on keys\n",
        "print('a' in fruits)\n",
        "print('z' in fruits)"
      ]
    },
    {
      "cell_type": "markdown",
      "metadata": {
        "id": "9S4zRBFvNxx_"
      },
      "source": [
        "#### Exercise 3.51\n",
        "\n",
        "* How to test if a value `Apple` is in the `fruits` dictionary?\n",
        "* How to test if a key-value pair `{'a':'Apple'}` is in the `fruits` dictionary?\n",
        "* Let `d1 = {'a':'Apple', 'c':'Cherries'}`. How to check if all key-value pairs in one dictionary `d1` are in the dictionary `fruits`?"
      ]
    },
    {
      "cell_type": "code",
      "execution_count": null,
      "metadata": {
        "id": "bZd6EUFONxx_"
      },
      "outputs": [],
      "source": [
        "#YOUR CODE HERE"
      ]
    },
    {
      "cell_type": "markdown",
      "metadata": {
        "id": "oICGtPJpNxx_"
      },
      "source": [
        "In a dictionary, to find key by matching its value, we can either use:\n",
        "* Option 1: for-loop\n",
        "* Option 2: casting dict.values() into list using `.index()` method\n",
        "* Option 3: reverse lookup using dictionary comprehension\n",
        "\n",
        "#### Example"
      ]
    },
    {
      "cell_type": "code",
      "execution_count": null,
      "metadata": {
        "id": "1eE7fMiMNxx_",
        "outputId": "d5629047-231f-470d-836b-66c37d3009b1"
      },
      "outputs": [
        {
          "name": "stdout",
          "output_type": "stream",
          "text": [
            "Option 2\n",
            "['Apple', 'Banana', 'Cherry', 'Durian', 'Fig']\n",
            "2\n",
            "c\n",
            "\n",
            "Option 3\n",
            "c\n"
          ]
        }
      ],
      "source": [
        "fruits = {'a': 'Apple', 'b': 'Banana', 'c': 'Cherry', 'd': 'Durian', 'f': 'Fig'}\n",
        "# Option 2\n",
        "print('Option 2')\n",
        "x = 'Cherry'\n",
        "s = list(fruits.values())\n",
        "print(s)\n",
        "\n",
        "i = s.index(x)\n",
        "print(i)\n",
        "\n",
        "k = list(fruits.keys())\n",
        "print(k[i])\n",
        "\n",
        "# Option 3\n",
        "print('\\nOption 3')\n",
        "reversed_fruits = {v: k for k, v in fruits.items()}\n",
        "print(reversed_fruits.get('Cherry'))"
      ]
    },
    {
      "cell_type": "markdown",
      "metadata": {
        "id": "8x0HfCocNxx_"
      },
      "source": [
        "## Recap\n",
        "\n",
        "* How to create a dictionary?\n",
        "* How to copy a dictionary?\n",
        "* How to retrieve an item by key? by `[]` & by `.get()`\n",
        "* How to update an item?\n",
        "* How to add an item?\n",
        "* How to remove an item?\n",
        "* How to merge an dictionary to another?\n",
        "* What's the differences among `dict.keys()`, `dict.values()` and `dict.items()`"
      ]
    },
    {
      "cell_type": "markdown",
      "metadata": {
        "id": "t82x1LVLNxyA"
      },
      "source": [
        "## 3.3 Set\n",
        "\n",
        "A set is an **unordered** collection of **unique** values. In Python, `set` is the data type for Sets.\n",
        "\n",
        "* Every element in set is unique (no duplicates) and must be **immutable** (which cannot be changed).\n",
        "* `set` itself is mutable. We can add or remove items from it.\n",
        "* `set` is often used to eliminate repeated numbers in a sequence/list.\n",
        "\n",
        "### 3.3.1. How to create a set?\n",
        "\n",
        "A set is created by either of following methods:\n",
        "* Placing all the items (elements) inside curly braces `{}`, separated by comma `,`\n",
        "* Using the built-in constructor function `set()`, which takes in a collection (list or tuple)\n",
        "\n",
        "**Note:**\n",
        "* Set can contain mixed data type.\n",
        "* All duplicate value will be discarded.\n",
        "\n",
        "#### Example"
      ]
    },
    {
      "cell_type": "code",
      "execution_count": null,
      "metadata": {
        "id": "PHb3rK88NxyA"
      },
      "outputs": [],
      "source": [
        "s = [1,2,3,4]*3\n",
        "print(s)\n",
        "set3 = set(s)\n",
        "print(set3)"
      ]
    },
    {
      "cell_type": "markdown",
      "metadata": {
        "id": "bVujdbGZNxyA"
      },
      "source": [
        "**Question**\n",
        "* Why we can't use `{}` to create an empty set?\n",
        "\n",
        "#### Example"
      ]
    },
    {
      "cell_type": "code",
      "execution_count": null,
      "metadata": {
        "id": "bfwx_UceNxyA"
      },
      "outputs": [],
      "source": [
        "s = {}\n",
        "print(type(s))\n",
        "# empty set\n",
        "set0 = set()\n",
        "print(type(set0))"
      ]
    },
    {
      "cell_type": "markdown",
      "metadata": {
        "id": "8wpHY87oNxyB"
      },
      "source": [
        "#### 3.3.2 How to modify a set?\n",
        "\n",
        "Set is mutable. Thus you can perform following actions on a set.\n",
        "* Add a single item\n",
        "* Update/add multiple items\n",
        "* Remove items"
      ]
    },
    {
      "cell_type": "markdown",
      "metadata": {
        "id": "elLEaiVzNxyB"
      },
      "source": [
        "##### 3.3.2.1 Add a Single Item with `add()`\n",
        "\n",
        "`add()` function is used to add a single item to the list.\n",
        "\n",
        "If the item is already exists in the set, it will be ignored.\n",
        "\n",
        "#### Example\n"
      ]
    },
    {
      "cell_type": "code",
      "execution_count": null,
      "metadata": {
        "id": "R8qTfH9mNxyB"
      },
      "outputs": [],
      "source": [
        "set1 = {1,2,3,4}\n",
        "set1.add(5)\n",
        "set1.add(5)\n",
        "print(set1)"
      ]
    },
    {
      "cell_type": "markdown",
      "metadata": {
        "id": "xnnTFTTmNxyB"
      },
      "source": [
        "##### 3.3.2.2 Add Multiple Items with `update()`\n",
        "\n",
        "`update()` function is used to add multiple items to a set. It can take in one or more collections, e.g. list, tuple or another set.\n",
        "\n",
        "* If the item already exists, it will be discarded.\n",
        "* If the item does not exist, it will be added.\n",
        "\n",
        "#### Example"
      ]
    },
    {
      "cell_type": "code",
      "execution_count": null,
      "metadata": {
        "id": "-tA3jeXYNxyB"
      },
      "outputs": [],
      "source": [
        "set1 = {1,2,3,4}\n",
        "print(set1)\n",
        "set1.update([2,3,4,5])\n",
        "print(set1)\n",
        "set1.update([(5,6)], {7,8}, (9,10))\n",
        "print(set1)"
      ]
    },
    {
      "cell_type": "markdown",
      "metadata": {
        "id": "jGDsr35NNxyB"
      },
      "source": [
        "##### 3.3.2.3 Remove Item by Value\n",
        "\n",
        "An item can be removed from set using `discard()` and `remove()` methods.\n",
        "* `discard()` method does not throw exception if the item is not found in the set.\n",
        "* `remove()` method will raise an `Exception` in such condition."
      ]
    },
    {
      "cell_type": "code",
      "execution_count": null,
      "metadata": {
        "id": "r6wsMu0GNxyB"
      },
      "outputs": [],
      "source": [
        "set1 = {1,2,3,4}\n",
        "\n",
        "set1.discard(4)\n",
        "set1.discard(44)\n",
        "print(set1)\n",
        "\n",
        "set1.remove(33)\n",
        "print(set1)"
      ]
    },
    {
      "cell_type": "markdown",
      "metadata": {
        "id": "3ZydHf1tNxyB"
      },
      "source": [
        "##### 3.3.2.4 Remove an Arbitrary Item\n",
        "\n",
        "`pop()` function can be used to remove an **arbitrary** item from set. This is because set is unordered.\n",
        "* The popped value may seem following a sequence. But that is due to the internal hashmap implementation. It is not reliable and depends on values."
      ]
    },
    {
      "cell_type": "code",
      "execution_count": null,
      "metadata": {
        "id": "Dl8qPMQ-NxyB"
      },
      "outputs": [],
      "source": [
        "set1 = {1,2,3,4}\n",
        "print(set1.pop())\n",
        "print(set1.pop())\n",
        "print(set1)"
      ]
    },
    {
      "cell_type": "markdown",
      "metadata": {
        "id": "iJAaT-H1NxyC"
      },
      "source": [
        "##### 3.3.2.5 Mathematical Set Operations\n",
        "\n",
        "Sets can be used to carry out mathematical set operations\n",
        "* intersection\n",
        "* union\n",
        "* symmetric difference\n",
        "* difference (subtracting)\n",
        "\n",
        "<center>\n",
        "<img src=\"https://github.com/njc-cz2-2021/Materials/blob/main/Notes/images/set-venn.png?raw=1\" alt=\"Set Venn Diagram\" style=\"width: 500px;\"/>\n",
        "</center>\n",
        "\n",
        "##### Example\n",
        "Create 2 sets using `set()` constructor."
      ]
    },
    {
      "cell_type": "code",
      "execution_count": null,
      "metadata": {
        "id": "OUCdPh80NxyC",
        "outputId": "17784adc-99ab-462d-eac9-f9d6fb3bc214"
      },
      "outputs": [
        {
          "name": "stdout",
          "output_type": "stream",
          "text": [
            "{0, 1, 2, 3, 4, 5, 6, 7}\n",
            "{5, 6, 7, 8, 9, 10, 11, 12}\n"
          ]
        }
      ],
      "source": [
        "set1 = set(range(0,8))\n",
        "set2 = set(range(5,13))\n",
        "print(set1)\n",
        "print(set2)"
      ]
    },
    {
      "cell_type": "markdown",
      "metadata": {
        "id": "AGkb0w2VNxyC"
      },
      "source": [
        "##### 3.3.2.6 Intersection\n",
        "\n",
        "`intersection()` function outputs a set which contains all the elements that are in both sets.\n",
        "* Operator `&` can be used for Intersection operation."
      ]
    },
    {
      "cell_type": "code",
      "execution_count": null,
      "metadata": {
        "id": "PQ84A9gYNxyC"
      },
      "outputs": [],
      "source": [
        "print(set1.intersection(set2))\n",
        "print(set1 & set2)"
      ]
    },
    {
      "cell_type": "markdown",
      "metadata": {
        "id": "5eaiX3QgNxyC"
      },
      "source": [
        "##### 3.3.2.7 Union\n",
        "\n",
        "`union()` function returns a set which contains all the elements of both the sets without repition.\n",
        "* Operator `|` can be used for Union operation."
      ]
    },
    {
      "cell_type": "code",
      "execution_count": null,
      "metadata": {
        "id": "4r8MtiWaNxyC"
      },
      "outputs": [],
      "source": [
        "print(set1.union(set2))\n",
        "print(set1 | set2)"
      ]
    },
    {
      "cell_type": "markdown",
      "metadata": {
        "id": "D25saU1TNxyD"
      },
      "source": [
        "##### 3.3.2.8 Difference (Subtracting)\n",
        "\n",
        "`difference()` function ouptuts a set which contains elements that are in set1 and not in set2.\n",
        "* Operator `-` can be use for Subtracting operation."
      ]
    },
    {
      "cell_type": "code",
      "execution_count": null,
      "metadata": {
        "id": "rW4RshhzNxyD"
      },
      "outputs": [],
      "source": [
        "print(set1.difference(set2))\n",
        "print(set1 - set2)"
      ]
    },
    {
      "cell_type": "markdown",
      "metadata": {
        "id": "nln-zbDENxyD"
      },
      "source": [
        "#### 3.3.2.9 Symetric Difference\n",
        "\n",
        "`symmetric_difference()` function ouputs a set which contains elements that are in both set, but not the elements that are present in both sets."
      ]
    },
    {
      "cell_type": "code",
      "execution_count": null,
      "metadata": {
        "id": "pGWkMLmiNxyD"
      },
      "outputs": [],
      "source": [
        "s7 = set1.symmetric_difference(set2)\n",
        "print(s7)"
      ]
    },
    {
      "cell_type": "markdown",
      "metadata": {
        "id": "5WO2cMgcNxyD"
      },
      "source": [
        "#### 3.3.2.10 Subset, Superset\n",
        "\n",
        "`issubset()`, `issuperset()` is used to check if the set1/set2 is a subset, superset of set2/set1 respectively."
      ]
    },
    {
      "cell_type": "code",
      "execution_count": null,
      "metadata": {
        "id": "mFb3i4QjNxyD"
      },
      "outputs": [],
      "source": [
        "set3 = set(range(0,15))\n",
        "set4 = set(range(5,10))\n",
        "print(set3)\n",
        "print(set4)\n",
        "\n",
        "r1 = set3.issubset(set4)\n",
        "r2 = set3.issuperset(set4)\n",
        "print(r1, r2)"
      ]
    },
    {
      "cell_type": "code",
      "execution_count": null,
      "metadata": {
        "id": "7ThwaxzCNxyD"
      },
      "outputs": [],
      "source": [
        "set3 = set(range(0,15))\n",
        "set4 = set(range(5,10))\n",
        "\n",
        "r1 = set4.issubset(set3)\n",
        "r2 = set3.issuperset(set4)\n",
        "print(r1, r2)"
      ]
    },
    {
      "cell_type": "markdown",
      "metadata": {
        "id": "RpxpfLKhNxyD"
      },
      "source": [
        "#### 3.3.2.11 Disjoint\n",
        "\n",
        "`isdisjoint()` is used to check if the set1/set2 is disjoint."
      ]
    },
    {
      "cell_type": "code",
      "execution_count": null,
      "metadata": {
        "id": "4yc8oZn3NxyD"
      },
      "outputs": [],
      "source": [
        "r3 = set3.isdisjoint(set4)\n",
        "print(r3)\n",
        "\n",
        "set5 = set(range(5))\n",
        "set6 = set(range(6,10))\n",
        "r4 = set5.isdisjoint(set6)\n",
        "print(r4)"
      ]
    },
    {
      "cell_type": "markdown",
      "metadata": {
        "id": "2Ib580FlNxyD"
      },
      "source": [
        "## 3.4 Mutability\n",
        "\n",
        "### 3.4.1 Variable Assignment in Python\n",
        "\n",
        "In Python, a variable is a symbolic name that is a reference or pointer to an object, it is not the object itself. For example, consider the following code.\n",
        "```python\n",
        "x = 10\n",
        "```\n",
        "\n",
        "First the integer object `10` is created in the memory and then, the variable `x` is assigned to point to that object.\n",
        "\n",
        "#### 3.4.1.1 `id` function\n",
        "\n",
        "The built-in Python function `id` returns an object’s integer identifier, i.e. the object's location in the memory. Syntax is\n",
        "\n",
        "```python\n",
        "id(your_object)\n",
        "```\n",
        "\n",
        "#### Example 1\n",
        "\n",
        "Assign the values `0` and `1` to the variables `x` and `y` respectively. Afterwards, using the `id` built-in function, print out their integer identifiers."
      ]
    },
    {
      "cell_type": "code",
      "execution_count": null,
      "metadata": {
        "id": "XqaiP0NwNxyD"
      },
      "outputs": [],
      "source": [
        "x = 0\n",
        "y = 1\n",
        "print(id(x))\n",
        "print(id(y))"
      ]
    },
    {
      "cell_type": "markdown",
      "metadata": {
        "id": "HAFNr9KdNxyE"
      },
      "source": [
        "## 3.4.1.2 Mutable Objects\n",
        "\n",
        "A **mutable** object means that an object of this type can be modified in the memory after it is created. On the other hand, **immutable** object can't.\n",
        "\n",
        "#### Example 2\n",
        "\n",
        "Consider the following codes:"
      ]
    },
    {
      "cell_type": "code",
      "execution_count": null,
      "metadata": {
        "id": "W7D53J5wNxyE"
      },
      "outputs": [],
      "source": [
        "a = [\"apples\", \"bananas\", \"oranges\"]\n",
        "print(id(a))\n",
        "a[0]='berries'\n",
        "print(a)\n",
        "print(id(a))"
      ]
    },
    {
      "cell_type": "code",
      "execution_count": null,
      "metadata": {
        "id": "aaGWkwgqNxyE"
      },
      "outputs": [],
      "source": [
        "a = (\"apples\", \"bananas\", \"oranges\")\n",
        "print(id(a))\n",
        "a = (\"berries\", \"bananas\", \"oranges\")\n",
        "print(a)\n",
        "print(id(a))"
      ]
    },
    {
      "cell_type": "markdown",
      "metadata": {
        "id": "o4DaTTU5NxyE"
      },
      "source": [
        "## 3.4.1.3 Deep and Shallow Copy\n",
        "\n",
        "TBC"
      ]
    }
  ],
  "metadata": {
    "kernelspec": {
      "display_name": "Python 3",
      "language": "python",
      "name": "python3"
    },
    "language_info": {
      "codemirror_mode": {
        "name": "ipython",
        "version": 3
      },
      "file_extension": ".py",
      "mimetype": "text/x-python",
      "name": "python",
      "nbconvert_exporter": "python",
      "pygments_lexer": "ipython3",
      "version": "3.12.1"
    },
    "colab": {
      "provenance": [],
      "toc_visible": true
    }
  },
  "nbformat": 4,
  "nbformat_minor": 0
}